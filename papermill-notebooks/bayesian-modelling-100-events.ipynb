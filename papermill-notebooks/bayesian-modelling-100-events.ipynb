{
 "cells": [
  {
   "cell_type": "markdown",
   "metadata": {},
   "source": [
    "# Analysis Notebook - Hierarchical Bayesian Modelling"
   ]
  },
  {
   "cell_type": "markdown",
   "metadata": {},
   "source": [
    "## **NOTE**:\n",
    "\n",
    "We assume that you have cloned the analysis repository and have `cd` into the parent directory. Before starting with the analysis make sure you have first completed the dependencies set up by following the instructions described in the **`dependencies/README.md`** document. All paths defined in this Notebook are relative to the parent directory (repository). Please close this Notebook and start again by following the above guidelines if you have not completed the aforementioned steps."
   ]
  },
  {
   "cell_type": "markdown",
   "metadata": {},
   "source": [
    "## Prerequisite input files\n",
    "\n",
    "Before starting the execution of the following code, make sure you have available in the folders `sbas/data` and `sbas/assets` the files listed below as prerequisites.\n",
    "\n",
    "###  **`sbas/data`**.\n",
    "The present analysis requires the following files to be present in the folder **`sbas/data`** uncompressed as the filenames indicate below:\n",
    "\n",
    "- [x] `fromGTF.{as_site_type}.txt`\n",
    "- [x] `GTEx_Analysis_2017-06-05_v8_RNASeQCv1.1.9_gene_tpm.gct`\n",
    "- [x] `rmats_final.{as_site_type}.jc.ijc.txt`\n",
    "- [x] `rmats_final.{as_site_type}.jc.sjc.txt`\n",
    "- [x] `limma::topTable()` dataframes written as csv, filenames shsould follow the convention: `{as_site_type}_{tissue_name}_AS_model_B_sex_as_events.csv`\n",
    "- [x] `srr_pdata.csv`: the corrected GTEx data as created by the forked yarn and in the `annes-changes` branch https://github.com/TheJacksonLaboratory/yarn/tree/annes-changes with the SRR data as used in the `rMATS 3.2.5` experiment.\n",
    "\n",
    "### **`sbas/assets`**\n",
    "The present analysis requires the following files to be present in the folder **`sbas/assets`**.\n",
    "\n",
    "- [x] `tissues.tsv`: metadata file with information on which tissues will be used for analysis -- only using the `include` option for analysis\n",
    "- [x] `splice-relevant-genes.txt`: list of RNA binding proteins that are annotated to splicing relevant functions from GO.\n",
    "\n",
    "\n",
    "**NOTE**: For convenience there are two `.tar.gz` archives with the contents described above.\n",
    "\n",
    "```\n",
    "gs://robinson-bucket/notebooks/bayesian-modeling/data_bayesian_se_AS_model_B_sex_as_events.tar.gz\n",
    "gs://robinson-bucket/notebooks/bayesian-modeling/assets_bayesian_se_AS_model_B_sex_as_events.tar.gz\n",
    "```\n",
    "\n",
    "Before running the notebook, one can unpack the contents of the archives in the `sbas-nf/data` folder as required by executing the following commands:\n",
    "\n",
    "```bash\n",
    "# git clone https://github.com/TheJacksonLaboratory/sbas-nf\n",
    "tar xvzf data_bayesian_{as_site_type}_AS_model_B_sex_as_events.tar.gz -C data/\n",
    "tar xvzf assets_bayesian_{as_site_type}_AS_model_B_sex_as_events.tar.gz -C assets/\n",
    "\n",
    "```\n"
   ]
  },
  {
   "cell_type": "markdown",
   "metadata": {},
   "source": [
    "## Loading dependencies\n",
    "\n",
    "If `conda` is available on your environment you can install the required dependencies by running the following commands:\n",
    "\n",
    "\n",
    "```bash\n",
    "time conda install -y r-base==3.6.2 &&\n",
    "conda install -y r-ggplot2 r-ggsci r-coda r-rstan r-rjags r-compute.es r-snakecase &&\n",
    "Rscript -e 'install.packages(\"runjags\", repos = \"https://cloud.r-project.org/\")'\n",
    "```\n",
    "\n"
   ]
  },
  {
   "cell_type": "code",
   "execution_count": null,
   "metadata": {},
   "outputs": [],
   "source": [
    "# Start the clock!\n",
    "start_time <- Sys.time()"
   ]
  },
  {
   "cell_type": "code",
   "execution_count": null,
   "metadata": {},
   "outputs": [],
   "source": [
    "# dataviz dependencies\n",
    "library(ggplot2)\n",
    "library(ggsci)\n",
    "library(grid)\n",
    "library(gridExtra)\n",
    "library(stringr)\n",
    "library(snakecase)\n",
    "\n",
    "# BDA2E-utilities dependencies\n",
    "library(rstan)\n",
    "library(parallel)\n",
    "library(rjags)\n",
    "library(runjags)\n",
    "library(compute.es)"
   ]
  },
  {
   "cell_type": "markdown",
   "metadata": {},
   "source": [
    "Previously used list of tissues to use for the Hierarchical Bayesian modelling:\n",
    "\n",
    "\n",
    "\n",
    "```R\n",
    "tissue.list<-c(\"Heart - Left Ventricle\",\n",
    "               \"Breast - Mammary Tissue\",\n",
    "               \"Brain - Cortex.Brain - Frontal Cortex (BA9).Brain - Anterior cingulate cortex (BA24)\",\n",
    "               \"Adrenal Gland\",\n",
    "               \"Adipose - Subcutaneous\",\n",
    "               \"Muscle - Skeletal\",\n",
    "               \"Thyroid\",\n",
    "               \"Cells - Transformed fibroblasts\",\n",
    "               \"Artery - Aorta\",\n",
    "               \"Skin - Sun Exposed (Lower leg).Skin - Not Sun Exposed (Suprapubic)\")\n",
    "```"
   ]
  },
  {
   "cell_type": "code",
   "execution_count": null,
   "metadata": {},
   "outputs": [],
   "source": [
    "tissues_df <- readr::read_delim(\"../assets/tissues.tsv\", delim = \"\\t\")"
   ]
  },
  {
   "cell_type": "code",
   "execution_count": null,
   "metadata": {},
   "outputs": [],
   "source": [
    "tissue.list <- tissues_df$name[ tissues_df$include ==1]"
   ]
  },
  {
   "cell_type": "code",
   "execution_count": null,
   "metadata": {},
   "outputs": [],
   "source": [
    "message(length(tissue.list), \" tissues\")\n",
    "cat(tissue.list, sep = \"\\n\")"
   ]
  },
  {
   "cell_type": "code",
   "execution_count": null,
   "metadata": {},
   "outputs": [],
   "source": [
    "tissue      <- tissue.list[tissue_index]    #can be replaced with a loop or argument to choose a different tissue\n",
    "as_site_type #can be replaced with a loop or argument to choose a different as_site_type"
   ]
  },
  {
   "cell_type": "code",
   "execution_count": null,
   "metadata": {},
   "outputs": [],
   "source": [
    "tissue\n",
    "as_site_type"
   ]
  },
  {
   "cell_type": "markdown",
   "metadata": {},
   "source": [
    "## Pattern for choosing `topTable()` files from `limma`\n",
    "\n",
    "```bash\n",
    "# {as_site_type} + '_' + {tissue} + '_' + suffix_pattern \n",
    "se_skin_not_sun_exposed_suprapubic_AS_model_B_sex_as_events.csv\n",
    "```"
   ]
  },
  {
   "cell_type": "code",
   "execution_count": null,
   "metadata": {},
   "outputs": [],
   "source": [
    "tissue\n",
    "dataDir <- \"../data/\"\n",
    "assetsDir <- \"../assets/\"\n",
    "as_site_type\n",
    "suffix_pattern <- \"AS_model_B_sex_as_events.csv\"\n",
    "\n",
    "file.with.de.results <- paste0(dataDir, as_site_type, \"_\", tissue, \"_\" , suffix_pattern  )\n",
    "file.with.de.results\n",
    "file.exists(file.with.de.results)\n",
    "system( paste0(\"ls -l \", file.with.de.results), intern = TRUE )"
   ]
  },
  {
   "cell_type": "markdown",
   "metadata": {},
   "source": [
    "**NOTE**:\n",
    "The parameters `tissue_index` and `as_site_type` will be passed from papermill and added in the fist chunk of the notebook upon execution. Do not assign to a hardcoded value anywhere in the notebook, as they will ovewrite the assignment in the first chunk."
   ]
  },
  {
   "cell_type": "code",
   "execution_count": null,
   "metadata": {},
   "outputs": [],
   "source": [
    "events.table         <- read.table(file.with.de.results, sep = \",\")\n",
    "head(events.table, 2)"
   ]
  },
  {
   "cell_type": "markdown",
   "metadata": {},
   "source": [
    "## Add annotation columns to the topTable dataframe:\n",
    "\n",
    "The feature information is encoded in the topTable dataframe as rownames. The `ID` and `geneSymbol` variables have been combined in the following pattern:\n",
    "\n",
    "```console\n",
    "{geneSymbol}-{ID} \n",
    "```\n",
    "\n",
    "- `ID`: everything **_after_** last occurence of hyphen `-`\n",
    "example: \n",
    "```R\n",
    "stringr::str_replace(\"apples - oranges - bananas\", \"^.+-\", \"\")\n",
    "```\n",
    "\n",
    "```console\n",
    "# output:\n",
    "\n",
    "' bananas'\n",
    "```\n",
    "\n",
    "- `geneSymbol`: everything **_before_** last occurence of `-`\n",
    "example: \n",
    "\n",
    "```R\n",
    "sub('-[^-]*$', '',\"apples - oranges - bananas\")\n",
    "```\n",
    "\n",
    "```console\n",
    "# output:\n",
    "\n",
    "'apples - oranges '\n",
    "```\n",
    "\n",
    "```diff\n",
    "- NOTE: The above solution covers the cases where a hyphen is part of the geneSymbol.\n",
    "```"
   ]
  },
  {
   "cell_type": "code",
   "execution_count": null,
   "metadata": {},
   "outputs": [],
   "source": [
    "cols_initially <- colnames(events.table)\n",
    "cols_initially"
   ]
  },
  {
   "cell_type": "code",
   "execution_count": null,
   "metadata": {},
   "outputs": [],
   "source": [
    "events.table[[\"ID\"]] <- stringr::str_replace(rownames(events.table),  \"^.+-\", \"\")\n",
    "events.table[[\"gene_name\"]] <- sub('-[^-]*$', '', rownames(events.table))"
   ]
  },
  {
   "cell_type": "code",
   "execution_count": null,
   "metadata": {},
   "outputs": [],
   "source": [
    "keepInOrderCols <- c(\"gene_name\", \"ID\", cols_initially)"
   ]
  },
  {
   "cell_type": "code",
   "execution_count": null,
   "metadata": {},
   "outputs": [],
   "source": [
    "events.table <- events.table[ , keepInOrderCols ]"
   ]
  },
  {
   "cell_type": "code",
   "execution_count": null,
   "metadata": {},
   "outputs": [],
   "source": [
    "tail(events.table, 2)"
   ]
  },
  {
   "cell_type": "markdown",
   "metadata": {},
   "source": [
    "## Define filepaths of required inputs\n",
    "\n",
    "`file.with.de.results` has been defined above"
   ]
  },
  {
   "cell_type": "code",
   "execution_count": null,
   "metadata": {},
   "outputs": [],
   "source": [
    "rbp.table.name        <- paste0(assetsDir, \"splice-relevant-genes.txt\")\n",
    "file.exists(rbp.table.name)"
   ]
  },
  {
   "cell_type": "code",
   "execution_count": null,
   "metadata": {},
   "outputs": [],
   "source": [
    "events.table.name     <- paste0(paste0(paste0(dataDir, \"fromGTF.\"), snakecase::to_upper_lower_case(as_site_type)),\".txt\")\n",
    "events.table.name\n",
    "file.exists(events.table.name)"
   ]
  },
  {
   "cell_type": "code",
   "execution_count": null,
   "metadata": {},
   "outputs": [],
   "source": [
    "inc.counts.file.name  <- paste0(paste0(paste0(dataDir, \"rmats_final.\"), as_site_type),\".jc.ijc.txt\")\n",
    "inc.counts.file.name\n",
    "file.exists(inc.counts.file.name)"
   ]
  },
  {
   "cell_type": "code",
   "execution_count": null,
   "metadata": {},
   "outputs": [],
   "source": [
    "skip.counts.file.name  <- paste0(paste0(paste0(dataDir, \"rmats_final.\"), as_site_type),\".jc.sjc.txt\")\n",
    "skip.counts.file.name\n",
    "file.exists(skip.counts.file.name)"
   ]
  },
  {
   "cell_type": "code",
   "execution_count": null,
   "metadata": {},
   "outputs": [],
   "source": [
    "metadata.file.name    <- paste0(dataDir, \"srr_pdata.csv\")\n",
    "file.exists(metadata.file.name)"
   ]
  },
  {
   "cell_type": "code",
   "execution_count": null,
   "metadata": {},
   "outputs": [],
   "source": [
    "expression.file.name  <- paste0(dataDir, \"GTEx_Analysis_2017-06-05_v8_RNASeQCv1.1.9_gene_tpm.gct\")\n",
    "file.exists(expression.file.name)"
   ]
  },
  {
   "cell_type": "markdown",
   "metadata": {},
   "source": [
    "## Use the define filepaths to load/read in the tables "
   ]
  },
  {
   "cell_type": "markdown",
   "metadata": {},
   "source": [
    "Load the sjc and sjc count matrices, and the list of RNA binding proteins that are annotated to either:\n",
    "- mRNA splicing, via spliceosome `(GO:0000398)`,\n",
    "- regulation of mRNA splicing, via spliceosome `(GO:0048024)`, or \n",
    "- both. \n",
    "\n",
    "The table has the:\n",
    "- Gene Symbol\n",
    "- the Uniprot ID (`uprot.id`)\n",
    "- the NCBI Gene ID (`gene.id`) and \n",
    "- boolean columns for being \n",
    "  - `S`=mRNA splicing, via spliceosome `(GO:0000398)` and \n",
    "  - `R`=regulation of mRNA splicing, via spliceosome `(GO:0048024)`."
   ]
  },
  {
   "cell_type": "markdown",
   "metadata": {},
   "source": [
    "### Filtering of the `topTable()` object\n",
    "\n",
    "- `abs(events.table$logFC)>=log2(1.5)`\n",
    "- `events.table$adj.P.Val<=0.05`"
   ]
  },
  {
   "cell_type": "code",
   "execution_count": null,
   "metadata": {},
   "outputs": [],
   "source": [
    "dim(events.table)\n",
    "events.table <- events.table[abs(events.table$logFC)>=log2(1.5) & events.table$adj.P.Val<=0.05,]\n",
    "dim(events.table)\n",
    "head(events.table,2)"
   ]
  },
  {
   "cell_type": "markdown",
   "metadata": {},
   "source": [
    "Make sure this command has been executed before `gunzip sbas/data/fromGTF.*` as the files are expected uncompressed.\n"
   ]
  },
  {
   "cell_type": "code",
   "execution_count": null,
   "metadata": {},
   "outputs": [],
   "source": [
    "annot.table  <- read.table(events.table.name,header=T)\n",
    "dim(annot.table)\n",
    "head(annot.table, 1)"
   ]
  },
  {
   "cell_type": "code",
   "execution_count": null,
   "metadata": {},
   "outputs": [],
   "source": [
    "merged.table <- merge(events.table, annot.table, by=\"ID\")"
   ]
  },
  {
   "cell_type": "code",
   "execution_count": null,
   "metadata": {},
   "outputs": [],
   "source": [
    "dim(merged.table)\n",
    "head(merged.table, 2)"
   ]
  },
  {
   "cell_type": "code",
   "execution_count": null,
   "metadata": {},
   "outputs": [],
   "source": [
    "rbp.table    <- read.table(rbp.table.name,sep=\"\\t\",header=TRUE)\n",
    "dim(rbp.table)\n",
    "head(rbp.table, 1)"
   ]
  },
  {
   "cell_type": "markdown",
   "metadata": {},
   "source": [
    "Make sure this command has been executed before `gunzip sbas/data/rmats_final.{as_site_type}.jc.*jc.*` as the files are expected uncompressed.\n"
   ]
  },
  {
   "cell_type": "code",
   "execution_count": null,
   "metadata": {},
   "outputs": [],
   "source": [
    "inc.counts   <- as.data.frame(data.table::fread(inc.counts.file.name))\n",
    "dim(inc.counts)\n",
    "inc.counts[1:2,1:3]"
   ]
  },
  {
   "cell_type": "code",
   "execution_count": null,
   "metadata": {},
   "outputs": [],
   "source": [
    "skip.counts  <- as.data.frame(data.table::fread(skip.counts.file.name))\n",
    "dim(skip.counts)\n",
    "skip.counts[1:2,1:3]"
   ]
  },
  {
   "cell_type": "markdown",
   "metadata": {},
   "source": [
    "## Check `dim()` of loaded objects"
   ]
  },
  {
   "cell_type": "code",
   "execution_count": null,
   "metadata": {},
   "outputs": [],
   "source": [
    "dim(events.table)\n",
    "dim(annot.table)\n",
    "dim(merged.table)\n",
    "dim(rbp.table)\n",
    "dim(inc.counts)\n",
    "dim(skip.counts)"
   ]
  },
  {
   "cell_type": "markdown",
   "metadata": {},
   "source": [
    "## Read sample info"
   ]
  },
  {
   "cell_type": "code",
   "execution_count": null,
   "metadata": {},
   "outputs": [],
   "source": [
    "metadata.file.name\n",
    "file.exists(metadata.file.name)\n",
    "system(paste0(\"ls -l\", \" ../data/srr_pdata.csv\"), intern = TRUE)"
   ]
  },
  {
   "cell_type": "code",
   "execution_count": null,
   "metadata": {},
   "outputs": [],
   "source": [
    "meta.data <- readr::read_csv(metadata.file.name)\n",
    "dim(meta.data)\n",
    "head(meta.data, 1)"
   ]
  },
  {
   "cell_type": "code",
   "execution_count": null,
   "metadata": {},
   "outputs": [],
   "source": [
    "meta.data$SMTSD[1:3]"
   ]
  },
  {
   "cell_type": "code",
   "execution_count": null,
   "metadata": {},
   "outputs": [],
   "source": [
    "meta.data[[\"SMTSD\"]] <- as.character(meta.data[[\"SMTSD\"]])"
   ]
  },
  {
   "cell_type": "code",
   "execution_count": null,
   "metadata": {},
   "outputs": [],
   "source": [
    "meta.data$SMTSD[1:3]"
   ]
  },
  {
   "cell_type": "code",
   "execution_count": null,
   "metadata": {},
   "outputs": [],
   "source": [
    "meta.data <- meta.data[ snakecase::to_snake_case(meta.data$SMTSD) == tissue,]"
   ]
  },
  {
   "cell_type": "code",
   "execution_count": null,
   "metadata": {},
   "outputs": [],
   "source": [
    "tissue\n",
    "dim(meta.data)\n",
    "meta.data[1:2,1:8]"
   ]
  },
  {
   "cell_type": "code",
   "execution_count": null,
   "metadata": {},
   "outputs": [],
   "source": [
    "# Undo snakecase of SMTSD\n",
    "tissue\n",
    "tissue <- unique(meta.data$SMTSD)\n",
    "tissue"
   ]
  },
  {
   "cell_type": "code",
   "execution_count": null,
   "metadata": {},
   "outputs": [],
   "source": [
    "dim(inc.counts)\n",
    "inc.counts   <- inc.counts[,colnames(inc.counts) %in% meta.data$SRR]\n",
    "dim(inc.counts)"
   ]
  },
  {
   "cell_type": "code",
   "execution_count": null,
   "metadata": {},
   "outputs": [],
   "source": [
    "dim(skip.counts)\n",
    "skip.counts  <- skip.counts[,colnames(skip.counts) %in% meta.data$SRR]\n",
    "dim(skip.counts)"
   ]
  },
  {
   "cell_type": "markdown",
   "metadata": {},
   "source": [
    "## This notebook only signficant events are used - filtering now on Adj.P Val\n",
    "\n",
    "If there are more than 100 events that are significant, reduce this by ordering on the adjusted p-value (column Adj.P.Val).  \n",
    "\n",
    "Then update the ijc and sjc matrices and the merged.table (annotations)\n"
   ]
  },
  {
   "cell_type": "code",
   "execution_count": null,
   "metadata": {},
   "outputs": [],
   "source": [
    "if (nrow(skip.counts) > 100 ) {\n",
    "    head(merged.table,2)\n",
    "    dim(merged.table)\n",
    "    order_by_adj.P.Val <- order(merged.table$adj.P.Val,decreasing=TRUE)\n",
    "    head(merged.table[order_by_adj.P.Val,],2)\n",
    "    keep_IDs <- merged.table[order_by_adj.P.Val,]$ID[1:100]\n",
    "    head(keep_IDs)\n",
    "    keep_IDs <- keep_IDs[order(keep_IDs, decreasing=FALSE)]\n",
    "    head(keep_IDs)\n",
    "    # counts table will be identical in rows\n",
    "    counts.keep <- as.character(rownames(skip.counts)) %in% as.character(keep_IDs)\n",
    "    table(counts.keep)\n",
    "    # not so sure about merged.table - so lets have a different logical key\n",
    "    merged.keep <- as.character(merged.table$ID) %in% as.character(keep_IDs)\n",
    "    table(merged.keep)\n",
    "    \n",
    "    # update the sjc counts \n",
    "    dim(skip.counts)\n",
    "    skip.counts  <- skip.counts[counts.keep,]\n",
    "    dim(skip.counts)\n",
    " \n",
    "    # update the ijc counts\n",
    "    dim(inc.counts)\n",
    "    inc.counts   <- inc.counts[counts.keep,]\n",
    "    dim(inc.counts)\n",
    "    \n",
    "    # merged table\n",
    "    dim(merged.table)\n",
    "    merged.table       <- merged.table[merged.keep,] \n",
    "    dim(merged.table)\n",
    "}"
   ]
  },
  {
   "cell_type": "code",
   "execution_count": null,
   "metadata": {},
   "outputs": [],
   "source": [
    "dim(inc.counts)\n",
    "dim(skip.counts)\n",
    "dim(merged.table)"
   ]
  },
  {
   "cell_type": "markdown",
   "metadata": {},
   "source": [
    "## Read expression data:"
   ]
  },
  {
   "cell_type": "code",
   "execution_count": null,
   "metadata": {},
   "outputs": [],
   "source": [
    "expression.file.name\n",
    "file.exists(expression.file.name)"
   ]
  },
  {
   "cell_type": "code",
   "execution_count": null,
   "metadata": {},
   "outputs": [],
   "source": [
    "expression.mat <- read.table(expression.file.name, \n",
    "                             nrows = 1,\n",
    "                             sep = \"\\t\",\n",
    "                             header = T,\n",
    "                             skip = 2)"
   ]
  },
  {
   "cell_type": "code",
   "execution_count": null,
   "metadata": {},
   "outputs": [],
   "source": [
    "dim(expression.mat)\n",
    "expression.mat[1:2,1:4]"
   ]
  },
  {
   "cell_type": "code",
   "execution_count": null,
   "metadata": {},
   "outputs": [],
   "source": [
    "colnames(expression.mat)[1:3]"
   ]
  },
  {
   "cell_type": "code",
   "execution_count": null,
   "metadata": {},
   "outputs": [],
   "source": [
    "colnames.expression.mat <- colnames(expression.mat)"
   ]
  },
  {
   "cell_type": "code",
   "execution_count": null,
   "metadata": {},
   "outputs": [],
   "source": [
    "length(colnames.expression.mat)\n",
    "colnames.expression.mat[1:4]"
   ]
  },
  {
   "cell_type": "code",
   "execution_count": null,
   "metadata": {},
   "outputs": [],
   "source": [
    "length(colnames.expression.mat)"
   ]
  },
  {
   "cell_type": "code",
   "execution_count": null,
   "metadata": {},
   "outputs": [],
   "source": [
    "total.samples           <- length(colnames.expression.mat)\n",
    "total.samples"
   ]
  },
  {
   "cell_type": "code",
   "execution_count": null,
   "metadata": {},
   "outputs": [],
   "source": [
    "meta.data$SAMPID[1]\n",
    "gsub(\"-\",\"\\\\.\",meta.data$SAMPID[1])"
   ]
  },
  {
   "cell_type": "code",
   "execution_count": null,
   "metadata": {},
   "outputs": [],
   "source": [
    "meta.data$SAMPID   <- gsub(\"-\",\"\\\\.\",meta.data$SAMPID)"
   ]
  },
  {
   "cell_type": "code",
   "execution_count": null,
   "metadata": {},
   "outputs": [],
   "source": [
    "dim(meta.data)\n",
    "meta.data               <- meta.data[meta.data$SAMPID %in% colnames(expression.mat),]\n",
    "dim(meta.data)"
   ]
  },
  {
   "cell_type": "code",
   "execution_count": null,
   "metadata": {},
   "outputs": [],
   "source": [
    "expression.mat[1:2,1:4]"
   ]
  },
  {
   "cell_type": "code",
   "execution_count": null,
   "metadata": {},
   "outputs": [],
   "source": [
    "meta.data <- meta.data[!duplicated(meta.data$SAMPID),]"
   ]
  },
  {
   "cell_type": "code",
   "execution_count": null,
   "metadata": {},
   "outputs": [],
   "source": [
    "dim(meta.data)"
   ]
  },
  {
   "cell_type": "code",
   "execution_count": null,
   "metadata": {},
   "outputs": [],
   "source": [
    "inc.counts <- inc.counts[,colnames(inc.counts) %in% meta.data$SRR]\n",
    "dim(inc.counts)\n",
    "inc.counts[1:2,1:4]"
   ]
  },
  {
   "cell_type": "code",
   "execution_count": null,
   "metadata": {},
   "outputs": [],
   "source": [
    "skip.counts <- skip.counts[,colnames(skip.counts) %in% meta.data$SRR]\n",
    "dim(skip.counts)\n",
    "skip.counts[1:2,1:4]"
   ]
  },
  {
   "cell_type": "code",
   "execution_count": null,
   "metadata": {},
   "outputs": [],
   "source": [
    "meta.data <- meta.data[meta.data$SRR %in% colnames(inc.counts),]\n",
    "dim(meta.data)\n",
    "meta.data[1:2,1:8]"
   ]
  },
  {
   "cell_type": "code",
   "execution_count": null,
   "metadata": {},
   "outputs": [],
   "source": [
    "colnames.expression.mat[1:4]"
   ]
  },
  {
   "cell_type": "code",
   "execution_count": null,
   "metadata": {},
   "outputs": [],
   "source": [
    "dim(expression.mat)\n",
    "expression.mat[1:2,1:4]"
   ]
  },
  {
   "cell_type": "code",
   "execution_count": null,
   "metadata": {},
   "outputs": [],
   "source": [
    "tissue <- unique(meta.data$SMTSD [ meta.data$SMTSD == tissue])\n",
    "tissue"
   ]
  },
  {
   "cell_type": "code",
   "execution_count": null,
   "metadata": {},
   "outputs": [],
   "source": [
    "col.in.tissue<-c()\n",
    "for (col in colnames.expression.mat)\n",
    "  \n",
    "  col.in.tissue<-c(col.in.tissue, (col %in% meta.data$SAMPID) && (meta.data$SMTSD[which(meta.data$SAMPID==col)] %in% tissue) && (meta.data$SUBJID[which(meta.data$SAMPID==col)]!='GTEX-11ILO'))"
   ]
  },
  {
   "cell_type": "code",
   "execution_count": null,
   "metadata": {},
   "outputs": [],
   "source": [
    "length(col.in.tissue)\n",
    "table(col.in.tissue)"
   ]
  },
  {
   "cell_type": "code",
   "execution_count": null,
   "metadata": {},
   "outputs": [],
   "source": [
    "length(colnames.expression.mat)\n",
    "length(col.in.tissue)\n",
    "\n",
    "col.in.tissue[1:3]"
   ]
  },
  {
   "cell_type": "code",
   "execution_count": null,
   "metadata": {},
   "outputs": [],
   "source": [
    "# colClasses is used to skip columns\n",
    "expression.mat <-read.table(expression.file.name, \n",
    "                            sep= \"\\t\",\n",
    "                            header = T,\n",
    "                            skip = 2, \n",
    "                            colClasses = ifelse(col.in.tissue, \"numeric\", \"NULL\"))"
   ]
  },
  {
   "cell_type": "code",
   "execution_count": null,
   "metadata": {},
   "outputs": [],
   "source": [
    "length(col.in.tissue)"
   ]
  },
  {
   "cell_type": "markdown",
   "metadata": {},
   "source": [
    "## Read gene names:"
   ]
  },
  {
   "cell_type": "code",
   "execution_count": null,
   "metadata": {},
   "outputs": [],
   "source": [
    "dim(expression.mat)\n",
    "expression.mat <- expression.mat[,order(match(colnames(expression.mat),meta.data$SAMPID))]\n",
    "dim(expression.mat)"
   ]
  },
  {
   "cell_type": "code",
   "execution_count": null,
   "metadata": {},
   "outputs": [],
   "source": [
    "inc.counts     <- inc.counts[,order(match(colnames(inc.counts),meta.data$SRR))]\n",
    "dim(inc.counts)"
   ]
  },
  {
   "cell_type": "code",
   "execution_count": null,
   "metadata": {},
   "outputs": [],
   "source": [
    "skip.counts    <- skip.counts[,order(match(colnames(skip.counts),meta.data$SRR))]\n",
    "dim(skip.counts)"
   ]
  },
  {
   "cell_type": "code",
   "execution_count": null,
   "metadata": {},
   "outputs": [],
   "source": [
    "all.genes      <- read.table(expression.file.name,sep=\"\\t\",header=T,skip=2,colClasses = c(rep(\"character\", 2), rep(\"NULL\", total.samples-2)))\n",
    "dim(all.genes)\n",
    "head(all.genes, 2)"
   ]
  },
  {
   "cell_type": "code",
   "execution_count": null,
   "metadata": {},
   "outputs": [],
   "source": [
    "expression.mat <- expression.mat[!duplicated(all.genes$Description),]\n",
    "dim(expression.mat)\n",
    "expression.mat[1:2,1:4]"
   ]
  },
  {
   "cell_type": "code",
   "execution_count": null,
   "metadata": {},
   "outputs": [],
   "source": [
    "all.genes      <- all.genes[!duplicated(all.genes$Description),]\n",
    "dim(all.genes)"
   ]
  },
  {
   "cell_type": "code",
   "execution_count": null,
   "metadata": {},
   "outputs": [],
   "source": [
    "skip.counts    <- skip.counts[merged.table$geneSymbol %in% all.genes$Description,]\n",
    "dim(skip.counts)"
   ]
  },
  {
   "cell_type": "code",
   "execution_count": null,
   "metadata": {},
   "outputs": [],
   "source": [
    "inc.counts     <- inc.counts[merged.table$geneSymbol %in% all.genes$Description,]\n",
    "dim(inc.counts)"
   ]
  },
  {
   "cell_type": "code",
   "execution_count": null,
   "metadata": {},
   "outputs": [],
   "source": [
    "merged.table   <- merged.table[merged.table$geneSymbol %in% all.genes$Description,]\n",
    "dim(merged.table)"
   ]
  },
  {
   "cell_type": "code",
   "execution_count": null,
   "metadata": {},
   "outputs": [],
   "source": [
    "gene.names     <- unique(merged.table$geneSymbol)\n",
    "length(gene.names)"
   ]
  },
  {
   "cell_type": "code",
   "execution_count": null,
   "metadata": {},
   "outputs": [],
   "source": [
    "expression.mat <- expression.mat[all.genes$Description %in% c(as.character(rbp.table$Gene),as.character(gene.names)),]\n",
    "dim(expression.mat)"
   ]
  },
  {
   "cell_type": "code",
   "execution_count": null,
   "metadata": {},
   "outputs": [],
   "source": [
    "rownames.expression.mat <-all.genes$Description[all.genes$Description %in% c(as.character(rbp.table$Gene),as.character(gene.names))]\n",
    "length(rownames.expression.mat)"
   ]
  },
  {
   "cell_type": "code",
   "execution_count": null,
   "metadata": {},
   "outputs": [],
   "source": [
    "expression.mat <-expression.mat[!duplicated(rownames.expression.mat),]\n",
    "dim(expression.mat)"
   ]
  },
  {
   "cell_type": "code",
   "execution_count": null,
   "metadata": {},
   "outputs": [],
   "source": [
    "rownames.expression.mat <-rownames.expression.mat[!duplicated(rownames.expression.mat)]\n",
    "length(rownames.expression.mat)"
   ]
  },
  {
   "cell_type": "markdown",
   "metadata": {},
   "source": [
    "## Prepare expression of genes and RBPS:"
   ]
  },
  {
   "cell_type": "code",
   "execution_count": null,
   "metadata": {},
   "outputs": [],
   "source": [
    "num.events     <- nrow(merged.table)\n",
    "num.events"
   ]
  },
  {
   "cell_type": "code",
   "execution_count": null,
   "metadata": {},
   "outputs": [],
   "source": [
    "event.to.gene  <- c()"
   ]
  },
  {
   "cell_type": "code",
   "execution_count": null,
   "metadata": {},
   "outputs": [],
   "source": [
    "gexp           <- expression.mat[rownames.expression.mat %in% gene.names,]\n",
    "dim(gexp)"
   ]
  },
  {
   "cell_type": "code",
   "execution_count": null,
   "metadata": {},
   "outputs": [],
   "source": [
    "rownames(gexp) <- rownames.expression.mat[rownames.expression.mat %in% gene.names]"
   ]
  },
  {
   "cell_type": "code",
   "execution_count": null,
   "metadata": {},
   "outputs": [],
   "source": [
    "gexp           <- gexp[order(match(rownames(gexp),gene.names)),]\n",
    "dim(gexp)\n",
    "gexp[1:2,1:4]"
   ]
  },
  {
   "cell_type": "code",
   "execution_count": null,
   "metadata": {},
   "outputs": [],
   "source": [
    "gexp           <- log2(gexp+0.5)"
   ]
  },
  {
   "cell_type": "code",
   "execution_count": null,
   "metadata": {},
   "outputs": [],
   "source": [
    "gexp           <- gexp-rowMeans(gexp)"
   ]
  },
  {
   "cell_type": "code",
   "execution_count": null,
   "metadata": {},
   "outputs": [],
   "source": [
    "gexp[apply(gexp,1,sd)>0,] <- gexp[apply(gexp,1,sd)>0,]/apply(gexp[apply(gexp,1,sd)>0,],1,sd)"
   ]
  },
  {
   "cell_type": "code",
   "execution_count": null,
   "metadata": {},
   "outputs": [],
   "source": [
    "rexp           <- expression.mat[rownames.expression.mat %in% rbp.table$Gene,]"
   ]
  },
  {
   "cell_type": "code",
   "execution_count": null,
   "metadata": {},
   "outputs": [],
   "source": [
    "rownames(rexp) <- rownames.expression.mat[rownames.expression.mat %in% rbp.table$Gene]"
   ]
  },
  {
   "cell_type": "code",
   "execution_count": null,
   "metadata": {},
   "outputs": [],
   "source": [
    "rexp           <- rexp[order(match(rownames(rexp),rbp.table$Gene)),]"
   ]
  },
  {
   "cell_type": "code",
   "execution_count": null,
   "metadata": {},
   "outputs": [],
   "source": [
    "rexp           <- log2(rexp+0.5)"
   ]
  },
  {
   "cell_type": "code",
   "execution_count": null,
   "metadata": {},
   "outputs": [],
   "source": [
    "rexp           <- rexp-rowMeans(rexp)"
   ]
  },
  {
   "cell_type": "code",
   "execution_count": null,
   "metadata": {},
   "outputs": [],
   "source": [
    "rexp           <- rexp/apply(rexp,1,function(v){ifelse(sum(v==v[1])<length(v),sd(v),1)})"
   ]
  },
  {
   "cell_type": "code",
   "execution_count": null,
   "metadata": {},
   "outputs": [],
   "source": [
    "for (i in (1:num.events))\n",
    "  event.to.gene<-c(event.to.gene,which(unique(merged.table$geneSymbol)==merged.table[i,\"geneSymbol\"]))\n",
    "    sex<-ifelse(meta.data$SEX==1,1,0)"
   ]
  },
  {
   "cell_type": "code",
   "execution_count": null,
   "metadata": {},
   "outputs": [],
   "source": [
    "sex[1:4]\n",
    "table(sex)"
   ]
  },
  {
   "cell_type": "code",
   "execution_count": null,
   "metadata": {},
   "outputs": [],
   "source": [
    "end_time <- Sys.time()\n",
    "end_time - start_time"
   ]
  },
  {
   "cell_type": "markdown",
   "metadata": {},
   "source": [
    "## Run stan:"
   ]
  },
  {
   "cell_type": "code",
   "execution_count": null,
   "metadata": {},
   "outputs": [],
   "source": [
    "dataList = list(\n",
    "  as = round(skip.counts) ,   #sjc event counts across experiments\n",
    "  c = round(skip.counts+inc.counts)    , #total counts for event, i.e. sjc & ijc, across experiments\n",
    "  gexp = gexp, #read counts for genes (from gtex, take the raw counts) across experiments\n",
    "  rexp = rexp, #read counts for RBPs (from gtex, take the raw counts)\n",
    "  event_to_gene = event.to.gene,  #the gene index for each event (1 to the number of distinct genes) \n",
    "  Nrbp = nrow(rexp), #number of RBPs\n",
    "  Nevents = nrow(merged.table),  #most varying AS events in \n",
    "  Nexp = ncol(expression.mat),#number of experiments such that we measured each event, gene and RBP in each experiment\n",
    "  Ngenes = nrow(gexp),\n",
    "  sex=sex\n",
    ")\n",
    "\n",
    "\n",
    "modelString = \"\n",
    "data {\n",
    "int<lower=0> Nevents;\n",
    "int<lower=0> Nexp;\n",
    "int<lower=0> Nrbp;\n",
    "int<lower=0> Ngenes;\n",
    "int<lower=0> as[Nevents,Nexp] ;\n",
    "int<lower=0> c[Nevents,Nexp] ;\n",
    "matrix[Ngenes,Nexp] gexp ; \n",
    "matrix[Nrbp,Nexp] rexp ; \n",
    "int<lower=0> event_to_gene[Nevents];\n",
    "int<lower=0,upper=1> sex[Nexp];\n",
    "\n",
    "}\n",
    "\n",
    "\n",
    "parameters {\n",
    "real beta0[Nevents] ;\n",
    "real beta1[Nevents] ;\n",
    "matrix[Nevents,Nrbp] beta2 ;\n",
    "real beta3[Nevents];\n",
    "real beta4[Nrbp];\n",
    "\n",
    "}\n",
    "model {\n",
    "\n",
    "for ( i in 1:Nexp ) {  \n",
    "\n",
    "\n",
    "    for ( j in 1:Nevents ) if (c[j,i]>0) { \n",
    "\n",
    "      as[j,i] ~ binomial(c[j,i], inv_logit(beta0[j]+beta1[j]*sex[i]+dot_product(beta2[j,],rexp[,i])+beta3[j]*gexp[event_to_gene[j],i] ) );\n",
    "\n",
    "  }\n",
    "}\n",
    "\n",
    "for (k in 1:Nrbp){\n",
    "\n",
    "  for ( j in 1:Nevents ) { \n",
    "\n",
    "        beta2[j,k] ~normal(beta4[k],1);\n",
    "  }\n",
    "\n",
    "  beta4[k]~normal(0,1);\n",
    "\n",
    "}\n",
    "\n",
    "\n",
    "for ( j in 1:Nevents ) { \n",
    "\n",
    "    beta1[j] ~ normal(0,1);\n",
    "    beta0[j] ~ normal(0,1);\n",
    "    beta3[j] ~ normal(0,1);\n",
    "  }\n",
    "\n",
    "}\n",
    "\"\n",
    "\n",
    "# Start the clock!\n",
    "start_time <- Sys.time()\n",
    "\n",
    "stanDso <- rstan::stan_model( model_code=modelString ) \n",
    "stanFit <- sampling( object=stanDso , \n",
    "                    data = dataList , \n",
    "                    chains = 3 , \n",
    "                    iter = 8000, \n",
    "                    warmup = 6000,\n",
    "                    thin = 1,\n",
    "                    init = 0, \n",
    "                    cores = 3 )\n",
    "\n",
    "mcmcCoda = coda::mcmc.list( lapply( 1:ncol(stanFit) , function(x) { mcmc(as.array(stanFit)[,x,]) } ) )\n",
    "\n",
    "end_time <- Sys.time()\n",
    "end_time - start_time"
   ]
  },
  {
   "cell_type": "markdown",
   "metadata": {},
   "source": [
    "## Save R objects"
   ]
  },
  {
   "cell_type": "code",
   "execution_count": null,
   "metadata": {},
   "outputs": [],
   "source": [
    "save.image(file = \"notebook.RData\")\n",
    "file.exists(\"notebook.RData\")\n",
    "system(\"pwd && ls -l notebook.RData\", intern = TRUE)"
   ]
  },
  {
   "cell_type": "markdown",
   "metadata": {},
   "source": [
    "## Metadata\n",
    "\n",
    "For replicability and reproducibility purposes, we also print the following metadata:\n",
    "\n",
    "1. Checksums of **\"artefacts\"**, files generated during the analysis and stored in the folder directory **`data`**\n",
    "2. List of environment metadata, dependencies, versions of libraries using `utils::sessionInfo()` and [`devtools::session_info()`](https://devtools.r-lib.org/reference/session_info.html)"
   ]
  },
  {
   "cell_type": "markdown",
   "metadata": {},
   "source": [
    "### 1. Checksums with the sha256 algorithm"
   ]
  },
  {
   "cell_type": "code",
   "execution_count": null,
   "metadata": {},
   "outputs": [],
   "source": [
    "figure_id       <- \"bayesian-modeling\"\n",
    "\n",
    "message(\"Generating sha256 checksums of the artefacts in the `..data/` directory .. \")\n",
    "system(paste0(\"cd ../data/ && find . -type f -exec sha256sum {} \\\\; > ../metadata/\",  figure_id, \"_sha256sums.txt\"), intern = TRUE)\n",
    "message(\"Done!\\n\")\n",
    "\n",
    "data.table::fread(paste0(\"../metadata/\", figure_id, \"_sha256sums.txt\"), header = FALSE, col.names = c(\"sha256sum\", \"file\"))"
   ]
  },
  {
   "cell_type": "markdown",
   "metadata": {},
   "source": [
    "### 2. Libraries metadata"
   ]
  },
  {
   "cell_type": "code",
   "execution_count": null,
   "metadata": {},
   "outputs": [],
   "source": [
    "dev_session_info   <- devtools::session_info()\n",
    "utils_session_info <- utils::sessionInfo()\n",
    "\n",
    "message(\"Saving `devtools::session_info()` objects in ../metadata/devtools_session_info.rds  ..\")\n",
    "saveRDS(dev_session_info, file = paste0(\"../metadata/\", figure_id, \"_devtools_session_info.rds\"))\n",
    "message(\"Done!\\n\")\n",
    "\n",
    "message(\"Saving `utils::sessionInfo()` objects in ../metadata/utils_session_info.rds  ..\")\n",
    "saveRDS(utils_session_info, file = paste0(\"../metadata/\", figure_id ,\"_utils_info.rds\"))\n",
    "message(\"Done!\\n\")\n",
    "\n",
    "dev_session_info$platform\n",
    "dev_session_info$packages[dev_session_info$packages$attached==TRUE, ]"
   ]
  }
 ],
 "metadata": {
  "kernelspec": {
   "display_name": "R",
   "language": "R",
   "name": "ir"
  }
 },
 "nbformat": 4,
 "nbformat_minor": 4
}
