{
 "cells": [
  {
   "cell_type": "markdown",
   "metadata": {},
   "source": [
    "# Analysis Notebook - Hierarchical Bayesian Modelling"
   ]
  },
  {
   "cell_type": "code",
   "execution_count": 16,
   "metadata": {},
   "outputs": [],
   "source": [
    "tissue_index <- 17\n",
    "as_site_type <- 'se'"
   ]
  },
  {
   "cell_type": "markdown",
   "metadata": {},
   "source": [
    "## **NOTE**:\n",
    "\n",
    "We assume that you have cloned the analysis repository and have `cd` into the parent directory. Before starting with the analysis make sure you have first completed the dependencies set up by following the instructions described in the **`dependencies/README.md`** document. All paths defined in this Notebook are relative to the parent directory (repository). Please close this Notebook and start again by following the above guidelines if you have not completed the aforementioned steps."
   ]
  },
  {
   "cell_type": "markdown",
   "metadata": {},
   "source": [
    "## Prerequisite input files\n",
    "\n",
    "Before starting the execution of the following code, make sure you have available in the folders `sbas/data` and `sbas/assets` the files listed below as prerequisites.\n",
    "\n",
    "###  **`sbas/data`**.\n",
    "The present analysis requires the following files to be present in the folder **`sbas/data`** uncompressed as the filenames indicate below:\n",
    "\n",
    "- [x] `fromGTF.{as_site_type}.txt`\n",
    "- [x] `GTEx_Analysis_2017-06-05_v8_RNASeQCv1.1.9_gene_tpm.gct`\n",
    "- [x] `rmats_final.{as_site_type}.jc.ijc.txt`\n",
    "- [x] `rmats_final.{as_site_type}.jc.sjc.txt`\n",
    "- [x] `limma::topTable()` dataframes written as csv, filenames shsould follow the convention: `{as_site_type}_{tissue_name}_AS_model_B_sex_as_events.csv`\n",
    "- [x] `srr_pdata.csv`: the corrected GTEx data as created by the forked yarn and in the `annes-changes` branch https://github.com/TheJacksonLaboratory/yarn/tree/annes-changes with the SRR data as used in the `rMATS 3.2.5` experiment.\n",
    "\n",
    "### **`sbas/assets`**\n",
    "The present analysis requires the following files to be present in the folder **`sbas/assets`**.\n",
    "\n",
    "- [x] `tissues.tsv`: metadata file with information on which tissues will be used for analysis -- only using the `include` option for analysis\n",
    "- [x] `splice-relevant-genes.txt`: list of RNA binding proteins that are annotated to splicing relevant functions from GO.\n",
    "\n",
    "\n",
    "**NOTE**: For convenience there are two `.tar.gz` archives with the contents described above.\n",
    "\n",
    "```\n",
    "gs://robinson-bucket/notebooks/bayesian-modeling/data_bayesian_se_AS_model_B_sex_as_events.tar.gz\n",
    "gs://robinson-bucket/notebooks/bayesian-modeling/assets_bayesian_se_AS_model_B_sex_as_events.tar.gz\n",
    "```\n",
    "\n",
    "Before running the notebook, one can unpack the contents of the archives in the `sbas-nf/data` folder as required by executing the following commands:\n",
    "\n",
    "```bash\n",
    "# git clone https://github.com/TheJacksonLaboratory/sbas-nf\n",
    "tar xvzf data_bayesian_{as_site_type}_AS_model_B_sex_as_events.tar.gz -C data/\n",
    "tar xvzf assets_bayesian_{as_site_type}_AS_model_B_sex_as_events.tar.gz -C assets/\n",
    "\n",
    "```\n"
   ]
  },
  {
   "cell_type": "markdown",
   "metadata": {},
   "source": [
    "## Loading dependencies\n",
    "\n",
    "If `conda` is available on your environment you can install the required dependencies by running the following commands:\n",
    "\n",
    "\n",
    "```bash\n",
    "time conda install -y r-base==3.6.2 &&\n",
    "conda install -y r-ggplot2 r-ggsci r-coda r-rstan r-rjags r-compute.es r-snakecase &&\n",
    "Rscript -e 'install.packages(\"runjags\", repos = \"https://cloud.r-project.org/\")'\n",
    "```\n",
    "\n"
   ]
  },
  {
   "cell_type": "code",
   "execution_count": 17,
   "metadata": {},
   "outputs": [],
   "source": [
    "# Start the clock!\n",
    "start_time <- Sys.time()"
   ]
  },
  {
   "cell_type": "code",
   "execution_count": 18,
   "metadata": {},
   "outputs": [],
   "source": [
    "# dataviz dependencies\n",
    "library(ggplot2)\n",
    "library(ggsci)\n",
    "library(grid)\n",
    "library(gridExtra)\n",
    "library(stringr)\n",
    "library(snakecase)\n",
    "\n",
    "# BDA2E-utilities dependencies\n",
    "library(rstan)\n",
    "library(parallel)\n",
    "library(rjags)\n",
    "library(runjags)\n",
    "library(compute.es)"
   ]
  },
  {
   "cell_type": "markdown",
   "metadata": {},
   "source": [
    "Previously used list of tissues to use for the Hierarchical Bayesian modelling:\n",
    "\n",
    "\n",
    "\n",
    "```R\n",
    "tissue.list<-c(\"Heart - Left Ventricle\",\n",
    "               \"Breast - Mammary Tissue\",\n",
    "               \"Brain - Cortex.Brain - Frontal Cortex (BA9).Brain - Anterior cingulate cortex (BA24)\",\n",
    "               \"Adrenal Gland\",\n",
    "               \"Adipose - Subcutaneous\",\n",
    "               \"Muscle - Skeletal\",\n",
    "               \"Thyroid\",\n",
    "               \"Cells - Transformed fibroblasts\",\n",
    "               \"Artery - Aorta\",\n",
    "               \"Skin - Sun Exposed (Lower leg).Skin - Not Sun Exposed (Suprapubic)\")\n",
    "```"
   ]
  },
  {
   "cell_type": "code",
   "execution_count": 19,
   "metadata": {},
   "outputs": [
    {
     "name": "stderr",
     "output_type": "stream",
     "text": [
      "Parsed with column specification:\n",
      "cols(\n",
      "  name = \u001b[31mcol_character()\u001b[39m,\n",
      "  female = \u001b[32mcol_double()\u001b[39m,\n",
      "  male = \u001b[32mcol_double()\u001b[39m,\n",
      "  include = \u001b[32mcol_double()\u001b[39m,\n",
      "  display.name = \u001b[31mcol_character()\u001b[39m\n",
      ")\n",
      "\n"
     ]
    }
   ],
   "source": [
    "tissues_df <- readr::read_delim(\"../assets/tissues.tsv\", delim = \"\\t\")"
   ]
  },
  {
   "cell_type": "code",
   "execution_count": 20,
   "metadata": {},
   "outputs": [],
   "source": [
    "tissue.list <- tissues_df$name[ tissues_df$include ==1]"
   ]
  },
  {
   "cell_type": "code",
   "execution_count": 21,
   "metadata": {},
   "outputs": [
    {
     "name": "stderr",
     "output_type": "stream",
     "text": [
      "39 tissues\n",
      "\n"
     ]
    },
    {
     "name": "stdout",
     "output_type": "stream",
     "text": [
      "adipose_subcutaneous\n",
      "adipose_visceral_omentum\n",
      "adrenal_gland\n",
      "artery_aorta\n",
      "artery_coronary\n",
      "artery_tibial\n",
      "brain_caudate_basal_ganglia\n",
      "brain_cerebellar_hemisphere\n",
      "brain_cerebellum\n",
      "brain_cortex\n",
      "brain_frontal_cortex_ba_9\n",
      "brain_hippocampus\n",
      "brain_hypothalamus\n",
      "brain_nucleus_accumbens_basal_ganglia\n",
      "brain_putamen_basal_ganglia\n",
      "brain_spinal_cord_cervical_c_1\n",
      "breast_mammary_tissue\n",
      "cells_cultured_fibroblasts\n",
      "cells_ebv_transformed_lymphocytes\n",
      "colon_sigmoid\n",
      "colon_transverse\n",
      "esophagus_gastroesophageal_junction\n",
      "esophagus_mucosa\n",
      "esophagus_muscularis\n",
      "heart_atrial_appendage\n",
      "heart_left_ventricle\n",
      "liver\n",
      "lung\n",
      "muscle_skeletal\n",
      "nerve_tibial\n",
      "pancreas\n",
      "pituitary\n",
      "skin_not_sun_exposed_suprapubic\n",
      "skin_sun_exposed_lower_leg\n",
      "small_intestine_terminal_ileum\n",
      "spleen\n",
      "stomach\n",
      "thyroid\n",
      "whole_blood\n"
     ]
    }
   ],
   "source": [
    "message(length(tissue.list), \" tissues\")\n",
    "cat(tissue.list, sep = \"\\n\")"
   ]
  },
  {
   "cell_type": "code",
   "execution_count": 22,
   "metadata": {},
   "outputs": [
    {
     "data": {
      "text/html": [
       "'se'"
      ],
      "text/latex": [
       "'se'"
      ],
      "text/markdown": [
       "'se'"
      ],
      "text/plain": [
       "[1] \"se\""
      ]
     },
     "metadata": {},
     "output_type": "display_data"
    }
   ],
   "source": [
    "tissue      <- tissue.list[tissue_index]    #can be replaced with a loop or argument to choose a different tissue\n",
    "as_site_type #can be replaced with a loop or argument to choose a different as_site_type"
   ]
  },
  {
   "cell_type": "code",
   "execution_count": 23,
   "metadata": {},
   "outputs": [
    {
     "data": {
      "text/html": [
       "'breast_mammary_tissue'"
      ],
      "text/latex": [
       "'breast\\_mammary\\_tissue'"
      ],
      "text/markdown": [
       "'breast_mammary_tissue'"
      ],
      "text/plain": [
       "[1] \"breast_mammary_tissue\""
      ]
     },
     "metadata": {},
     "output_type": "display_data"
    },
    {
     "data": {
      "text/html": [
       "'se'"
      ],
      "text/latex": [
       "'se'"
      ],
      "text/markdown": [
       "'se'"
      ],
      "text/plain": [
       "[1] \"se\""
      ]
     },
     "metadata": {},
     "output_type": "display_data"
    }
   ],
   "source": [
    "tissue\n",
    "as_site_type"
   ]
  },
  {
   "cell_type": "markdown",
   "metadata": {},
   "source": [
    "## Pattern for choosing `topTable()` files from `limma`\n",
    "\n",
    "```bash\n",
    "# {as_site_type} + '_' + {tissue} + '_' + suffix_pattern \n",
    "se_skin_not_sun_exposed_suprapubic_AS_model_B_sex_as_events.csv\n",
    "```"
   ]
  },
  {
   "cell_type": "code",
   "execution_count": 24,
   "metadata": {},
   "outputs": [
    {
     "data": {
      "text/html": [
       "'breast_mammary_tissue'"
      ],
      "text/latex": [
       "'breast\\_mammary\\_tissue'"
      ],
      "text/markdown": [
       "'breast_mammary_tissue'"
      ],
      "text/plain": [
       "[1] \"breast_mammary_tissue\""
      ]
     },
     "metadata": {},
     "output_type": "display_data"
    },
    {
     "data": {
      "text/html": [
       "'se'"
      ],
      "text/latex": [
       "'se'"
      ],
      "text/markdown": [
       "'se'"
      ],
      "text/plain": [
       "[1] \"se\""
      ]
     },
     "metadata": {},
     "output_type": "display_data"
    },
    {
     "data": {
      "text/html": [
       "'../data/se_breast_mammary_tissue_AS_model_B_sex_as_events.csv'"
      ],
      "text/latex": [
       "'../data/se\\_breast\\_mammary\\_tissue\\_AS\\_model\\_B\\_sex\\_as\\_events.csv'"
      ],
      "text/markdown": [
       "'../data/se_breast_mammary_tissue_AS_model_B_sex_as_events.csv'"
      ],
      "text/plain": [
       "[1] \"../data/se_breast_mammary_tissue_AS_model_B_sex_as_events.csv\""
      ]
     },
     "metadata": {},
     "output_type": "display_data"
    },
    {
     "data": {
      "text/html": [
       "TRUE"
      ],
      "text/latex": [
       "TRUE"
      ],
      "text/markdown": [
       "TRUE"
      ],
      "text/plain": [
       "[1] TRUE"
      ]
     },
     "metadata": {},
     "output_type": "display_data"
    },
    {
     "data": {
      "text/html": [
       "'-rw-r--r-- 1 jovyan users 4688985 Jun 26 12:05 ../data/se_breast_mammary_tissue_AS_model_B_sex_as_events.csv'"
      ],
      "text/latex": [
       "'-rw-r--r-- 1 jovyan users 4688985 Jun 26 12:05 ../data/se\\_breast\\_mammary\\_tissue\\_AS\\_model\\_B\\_sex\\_as\\_events.csv'"
      ],
      "text/markdown": [
       "'-rw-r--r-- 1 jovyan users 4688985 Jun 26 12:05 ../data/se_breast_mammary_tissue_AS_model_B_sex_as_events.csv'"
      ],
      "text/plain": [
       "[1] \"-rw-r--r-- 1 jovyan users 4688985 Jun 26 12:05 ../data/se_breast_mammary_tissue_AS_model_B_sex_as_events.csv\""
      ]
     },
     "metadata": {},
     "output_type": "display_data"
    }
   ],
   "source": [
    "tissue\n",
    "dataDir <- \"../data/\"\n",
    "assetsDir <- \"../assets/\"\n",
    "as_site_type\n",
    "suffix_pattern <- \"AS_model_B_sex_as_events.csv\"\n",
    "\n",
    "file.with.de.results <- paste0(dataDir, as_site_type, \"_\", tissue, \"_\" , suffix_pattern  )\n",
    "file.with.de.results\n",
    "file.exists(file.with.de.results)\n",
    "system( paste0(\"ls -l \", file.with.de.results), intern = TRUE )"
   ]
  },
  {
   "cell_type": "markdown",
   "metadata": {},
   "source": [
    "**NOTE**:\n",
    "The parameters `tissue_index` and `as_site_type` will be passed from papermill and added in the fist chunk of the notebook upon execution. Do not assign to a hardcoded value anywhere in the notebook, as they will ovewrite the assignment in the first chunk."
   ]
  },
  {
   "cell_type": "code",
   "execution_count": 25,
   "metadata": {},
   "outputs": [
    {
     "data": {
      "text/html": [
       "<table>\n",
       "<caption>A data.frame: 2 × 6</caption>\n",
       "<thead>\n",
       "\t<tr><th></th><th scope=col>logFC</th><th scope=col>AveExpr</th><th scope=col>t</th><th scope=col>P.Value</th><th scope=col>adj.P.Val</th><th scope=col>B</th></tr>\n",
       "\t<tr><th></th><th scope=col>&lt;dbl&gt;</th><th scope=col>&lt;dbl&gt;</th><th scope=col>&lt;dbl&gt;</th><th scope=col>&lt;dbl&gt;</th><th scope=col>&lt;dbl&gt;</th><th scope=col>&lt;dbl&gt;</th></tr>\n",
       "</thead>\n",
       "<tbody>\n",
       "\t<tr><th scope=row>XIST-10154</th><td>-6.796072</td><td>1.385720</td><td>-38.73465</td><td>5.301573e-131</td><td>1.523859e-126</td><td>280.9110</td></tr>\n",
       "\t<tr><th scope=row>XIST-10149</th><td>-7.124726</td><td>1.597306</td><td>-38.68238</td><td>7.868530e-131</td><td>1.523859e-126</td><td>280.5225</td></tr>\n",
       "</tbody>\n",
       "</table>\n"
      ],
      "text/latex": [
       "A data.frame: 2 × 6\n",
       "\\begin{tabular}{r|llllll}\n",
       "  & logFC & AveExpr & t & P.Value & adj.P.Val & B\\\\\n",
       "  & <dbl> & <dbl> & <dbl> & <dbl> & <dbl> & <dbl>\\\\\n",
       "\\hline\n",
       "\tXIST-10154 & -6.796072 & 1.385720 & -38.73465 & 5.301573e-131 & 1.523859e-126 & 280.9110\\\\\n",
       "\tXIST-10149 & -7.124726 & 1.597306 & -38.68238 & 7.868530e-131 & 1.523859e-126 & 280.5225\\\\\n",
       "\\end{tabular}\n"
      ],
      "text/markdown": [
       "\n",
       "A data.frame: 2 × 6\n",
       "\n",
       "| <!--/--> | logFC &lt;dbl&gt; | AveExpr &lt;dbl&gt; | t &lt;dbl&gt; | P.Value &lt;dbl&gt; | adj.P.Val &lt;dbl&gt; | B &lt;dbl&gt; |\n",
       "|---|---|---|---|---|---|---|\n",
       "| XIST-10154 | -6.796072 | 1.385720 | -38.73465 | 5.301573e-131 | 1.523859e-126 | 280.9110 |\n",
       "| XIST-10149 | -7.124726 | 1.597306 | -38.68238 | 7.868530e-131 | 1.523859e-126 | 280.5225 |\n",
       "\n"
      ],
      "text/plain": [
       "           logFC     AveExpr  t         P.Value       adj.P.Val     B       \n",
       "XIST-10154 -6.796072 1.385720 -38.73465 5.301573e-131 1.523859e-126 280.9110\n",
       "XIST-10149 -7.124726 1.597306 -38.68238 7.868530e-131 1.523859e-126 280.5225"
      ]
     },
     "metadata": {},
     "output_type": "display_data"
    }
   ],
   "source": [
    "events.table         <- read.table(file.with.de.results, sep = \",\")\n",
    "head(events.table, 2)"
   ]
  },
  {
   "cell_type": "markdown",
   "metadata": {},
   "source": [
    "## Add annotation columns to the topTable dataframe:\n",
    "\n",
    "The feature information is encoded in the topTable dataframe as rownames. The `ID` and `geneSymbol` variables have been combined in the following pattern:\n",
    "\n",
    "```console\n",
    "{geneSymbol}-{ID} \n",
    "```\n",
    "\n",
    "- `ID`: everything **_after_** last occurence of hyphen `-`\n",
    "example: \n",
    "```R\n",
    "stringr::str_replace(\"apples - oranges - bananas\", \"^.+-\", \"\")\n",
    "```\n",
    "\n",
    "```console\n",
    "# output:\n",
    "\n",
    "' bananas'\n",
    "```\n",
    "\n",
    "- `geneSymbol`: everything **_before_** last occurence of `-`\n",
    "example: \n",
    "\n",
    "```R\n",
    "sub('-[^-]*$', '',\"apples - oranges - bananas\")\n",
    "```\n",
    "\n",
    "```console\n",
    "# output:\n",
    "\n",
    "'apples - oranges '\n",
    "```\n",
    "\n",
    "```diff\n",
    "- NOTE: The above solution covers the cases where a hyphen is part of the geneSymbol.\n",
    "```"
   ]
  },
  {
   "cell_type": "code",
   "execution_count": 26,
   "metadata": {},
   "outputs": [
    {
     "data": {
      "text/html": [
       "<style>\n",
       ".list-inline {list-style: none; margin:0; padding: 0}\n",
       ".list-inline>li {display: inline-block}\n",
       ".list-inline>li:not(:last-child)::after {content: \"\\00b7\"; padding: 0 .5ex}\n",
       "</style>\n",
       "<ol class=list-inline><li>'logFC'</li><li>'AveExpr'</li><li>'t'</li><li>'P.Value'</li><li>'adj.P.Val'</li><li>'B'</li></ol>\n"
      ],
      "text/latex": [
       "\\begin{enumerate*}\n",
       "\\item 'logFC'\n",
       "\\item 'AveExpr'\n",
       "\\item 't'\n",
       "\\item 'P.Value'\n",
       "\\item 'adj.P.Val'\n",
       "\\item 'B'\n",
       "\\end{enumerate*}\n"
      ],
      "text/markdown": [
       "1. 'logFC'\n",
       "2. 'AveExpr'\n",
       "3. 't'\n",
       "4. 'P.Value'\n",
       "5. 'adj.P.Val'\n",
       "6. 'B'\n",
       "\n",
       "\n"
      ],
      "text/plain": [
       "[1] \"logFC\"     \"AveExpr\"   \"t\"         \"P.Value\"   \"adj.P.Val\" \"B\"        "
      ]
     },
     "metadata": {},
     "output_type": "display_data"
    }
   ],
   "source": [
    "cols_initially <- colnames(events.table)\n",
    "cols_initially"
   ]
  },
  {
   "cell_type": "code",
   "execution_count": 27,
   "metadata": {},
   "outputs": [],
   "source": [
    "events.table[[\"ID\"]] <- stringr::str_replace(rownames(events.table),  \"^.+-\", \"\")\n",
    "events.table[[\"gene_name\"]] <- sub('-[^-]*$', '', rownames(events.table))"
   ]
  },
  {
   "cell_type": "code",
   "execution_count": 28,
   "metadata": {},
   "outputs": [],
   "source": [
    "keepInOrderCols <- c(\"gene_name\", \"ID\", cols_initially)"
   ]
  },
  {
   "cell_type": "code",
   "execution_count": 29,
   "metadata": {},
   "outputs": [],
   "source": [
    "events.table <- events.table[ , keepInOrderCols ]"
   ]
  },
  {
   "cell_type": "code",
   "execution_count": 30,
   "metadata": {},
   "outputs": [
    {
     "data": {
      "text/html": [
       "<table>\n",
       "<caption>A data.frame: 2 × 8</caption>\n",
       "<thead>\n",
       "\t<tr><th></th><th scope=col>gene_name</th><th scope=col>ID</th><th scope=col>logFC</th><th scope=col>AveExpr</th><th scope=col>t</th><th scope=col>P.Value</th><th scope=col>adj.P.Val</th><th scope=col>B</th></tr>\n",
       "\t<tr><th></th><th scope=col>&lt;chr&gt;</th><th scope=col>&lt;chr&gt;</th><th scope=col>&lt;dbl&gt;</th><th scope=col>&lt;dbl&gt;</th><th scope=col>&lt;dbl&gt;</th><th scope=col>&lt;dbl&gt;</th><th scope=col>&lt;dbl&gt;</th><th scope=col>&lt;dbl&gt;</th></tr>\n",
       "</thead>\n",
       "<tbody>\n",
       "\t<tr><th scope=row>RPLP0-28659</th><td>RPLP0</td><td>28659</td><td> 0.02222658</td><td>9.584065</td><td> 0.1354014</td><td>0.8923696</td><td>0.9544973</td><td>-7.100906</td></tr>\n",
       "\t<tr><th scope=row>CD74-25493</th><td>CD74 </td><td>25493</td><td>-0.01277937</td><td>9.839909</td><td>-0.1084203</td><td>0.9137222</td><td>0.9639965</td><td>-7.254767</td></tr>\n",
       "</tbody>\n",
       "</table>\n"
      ],
      "text/latex": [
       "A data.frame: 2 × 8\n",
       "\\begin{tabular}{r|llllllll}\n",
       "  & gene\\_name & ID & logFC & AveExpr & t & P.Value & adj.P.Val & B\\\\\n",
       "  & <chr> & <chr> & <dbl> & <dbl> & <dbl> & <dbl> & <dbl> & <dbl>\\\\\n",
       "\\hline\n",
       "\tRPLP0-28659 & RPLP0 & 28659 &  0.02222658 & 9.584065 &  0.1354014 & 0.8923696 & 0.9544973 & -7.100906\\\\\n",
       "\tCD74-25493 & CD74  & 25493 & -0.01277937 & 9.839909 & -0.1084203 & 0.9137222 & 0.9639965 & -7.254767\\\\\n",
       "\\end{tabular}\n"
      ],
      "text/markdown": [
       "\n",
       "A data.frame: 2 × 8\n",
       "\n",
       "| <!--/--> | gene_name &lt;chr&gt; | ID &lt;chr&gt; | logFC &lt;dbl&gt; | AveExpr &lt;dbl&gt; | t &lt;dbl&gt; | P.Value &lt;dbl&gt; | adj.P.Val &lt;dbl&gt; | B &lt;dbl&gt; |\n",
       "|---|---|---|---|---|---|---|---|---|\n",
       "| RPLP0-28659 | RPLP0 | 28659 |  0.02222658 | 9.584065 |  0.1354014 | 0.8923696 | 0.9544973 | -7.100906 |\n",
       "| CD74-25493 | CD74  | 25493 | -0.01277937 | 9.839909 | -0.1084203 | 0.9137222 | 0.9639965 | -7.254767 |\n",
       "\n"
      ],
      "text/plain": [
       "            gene_name ID    logFC       AveExpr  t          P.Value   adj.P.Val\n",
       "RPLP0-28659 RPLP0     28659  0.02222658 9.584065  0.1354014 0.8923696 0.9544973\n",
       "CD74-25493  CD74      25493 -0.01277937 9.839909 -0.1084203 0.9137222 0.9639965\n",
       "            B        \n",
       "RPLP0-28659 -7.100906\n",
       "CD74-25493  -7.254767"
      ]
     },
     "metadata": {},
     "output_type": "display_data"
    }
   ],
   "source": [
    "tail(events.table, 2)"
   ]
  },
  {
   "cell_type": "markdown",
   "metadata": {},
   "source": [
    "## Define filepaths of required inputs\n",
    "\n",
    "`file.with.de.results` has been defined above"
   ]
  },
  {
   "cell_type": "code",
   "execution_count": 31,
   "metadata": {},
   "outputs": [
    {
     "data": {
      "text/html": [
       "TRUE"
      ],
      "text/latex": [
       "TRUE"
      ],
      "text/markdown": [
       "TRUE"
      ],
      "text/plain": [
       "[1] TRUE"
      ]
     },
     "metadata": {},
     "output_type": "display_data"
    }
   ],
   "source": [
    "rbp.table.name        <- paste0(assetsDir, \"splice-relevant-genes.txt\")\n",
    "file.exists(rbp.table.name)"
   ]
  },
  {
   "cell_type": "code",
   "execution_count": 32,
   "metadata": {},
   "outputs": [
    {
     "data": {
      "text/html": [
       "'../data/fromGTF.SE.txt'"
      ],
      "text/latex": [
       "'../data/fromGTF.SE.txt'"
      ],
      "text/markdown": [
       "'../data/fromGTF.SE.txt'"
      ],
      "text/plain": [
       "[1] \"../data/fromGTF.SE.txt\""
      ]
     },
     "metadata": {},
     "output_type": "display_data"
    },
    {
     "data": {
      "text/html": [
       "TRUE"
      ],
      "text/latex": [
       "TRUE"
      ],
      "text/markdown": [
       "TRUE"
      ],
      "text/plain": [
       "[1] TRUE"
      ]
     },
     "metadata": {},
     "output_type": "display_data"
    }
   ],
   "source": [
    "events.table.name     <- paste0(paste0(paste0(dataDir, \"fromGTF.\"), snakecase::to_upper_lower_case(as_site_type)),\".txt\")\n",
    "events.table.name\n",
    "file.exists(events.table.name)"
   ]
  },
  {
   "cell_type": "code",
   "execution_count": 33,
   "metadata": {},
   "outputs": [
    {
     "data": {
      "text/html": [
       "'../data/rmats_final.se.jc.ijc.txt'"
      ],
      "text/latex": [
       "'../data/rmats\\_final.se.jc.ijc.txt'"
      ],
      "text/markdown": [
       "'../data/rmats_final.se.jc.ijc.txt'"
      ],
      "text/plain": [
       "[1] \"../data/rmats_final.se.jc.ijc.txt\""
      ]
     },
     "metadata": {},
     "output_type": "display_data"
    },
    {
     "data": {
      "text/html": [
       "TRUE"
      ],
      "text/latex": [
       "TRUE"
      ],
      "text/markdown": [
       "TRUE"
      ],
      "text/plain": [
       "[1] TRUE"
      ]
     },
     "metadata": {},
     "output_type": "display_data"
    }
   ],
   "source": [
    "inc.counts.file.name  <- paste0(paste0(paste0(dataDir, \"rmats_final.\"), as_site_type),\".jc.ijc.txt\")\n",
    "inc.counts.file.name\n",
    "file.exists(inc.counts.file.name)"
   ]
  },
  {
   "cell_type": "code",
   "execution_count": 34,
   "metadata": {},
   "outputs": [
    {
     "data": {
      "text/html": [
       "'../data/rmats_final.se.jc.sjc.txt'"
      ],
      "text/latex": [
       "'../data/rmats\\_final.se.jc.sjc.txt'"
      ],
      "text/markdown": [
       "'../data/rmats_final.se.jc.sjc.txt'"
      ],
      "text/plain": [
       "[1] \"../data/rmats_final.se.jc.sjc.txt\""
      ]
     },
     "metadata": {},
     "output_type": "display_data"
    },
    {
     "data": {
      "text/html": [
       "TRUE"
      ],
      "text/latex": [
       "TRUE"
      ],
      "text/markdown": [
       "TRUE"
      ],
      "text/plain": [
       "[1] TRUE"
      ]
     },
     "metadata": {},
     "output_type": "display_data"
    }
   ],
   "source": [
    "skip.counts.file.name  <- paste0(paste0(paste0(dataDir, \"rmats_final.\"), as_site_type),\".jc.sjc.txt\")\n",
    "skip.counts.file.name\n",
    "file.exists(skip.counts.file.name)"
   ]
  },
  {
   "cell_type": "code",
   "execution_count": 35,
   "metadata": {},
   "outputs": [
    {
     "data": {
      "text/html": [
       "TRUE"
      ],
      "text/latex": [
       "TRUE"
      ],
      "text/markdown": [
       "TRUE"
      ],
      "text/plain": [
       "[1] TRUE"
      ]
     },
     "metadata": {},
     "output_type": "display_data"
    }
   ],
   "source": [
    "metadata.file.name    <- paste0(dataDir, \"srr_pdata.csv\")\n",
    "file.exists(metadata.file.name)"
   ]
  },
  {
   "cell_type": "code",
   "execution_count": 36,
   "metadata": {},
   "outputs": [
    {
     "data": {
      "text/html": [
       "TRUE"
      ],
      "text/latex": [
       "TRUE"
      ],
      "text/markdown": [
       "TRUE"
      ],
      "text/plain": [
       "[1] TRUE"
      ]
     },
     "metadata": {},
     "output_type": "display_data"
    }
   ],
   "source": [
    "expression.file.name  <- paste0(dataDir, \"GTEx_Analysis_2017-06-05_v8_RNASeQCv1.1.9_gene_tpm.gct\")\n",
    "file.exists(expression.file.name)"
   ]
  },
  {
   "cell_type": "markdown",
   "metadata": {},
   "source": [
    "## Use the define filepaths to load/read in the tables "
   ]
  },
  {
   "cell_type": "markdown",
   "metadata": {},
   "source": [
    "Load the sjc and sjc count matrices, and the list of RNA binding proteins that are annotated to either:\n",
    "- mRNA splicing, via spliceosome `(GO:0000398)`,\n",
    "- regulation of mRNA splicing, via spliceosome `(GO:0048024)`, or \n",
    "- both. \n",
    "\n",
    "The table has the:\n",
    "- Gene Symbol\n",
    "- the Uniprot ID (`uprot.id`)\n",
    "- the NCBI Gene ID (`gene.id`) and \n",
    "- boolean columns for being \n",
    "  - `S`=mRNA splicing, via spliceosome `(GO:0000398)` and \n",
    "  - `R`=regulation of mRNA splicing, via spliceosome `(GO:0048024)`."
   ]
  },
  {
   "cell_type": "markdown",
   "metadata": {},
   "source": [
    "### Filtering of the `topTable()` object\n",
    "\n",
    "- `abs(events.table$logFC)>=log2(1.5)`\n",
    "- `events.table$adj.P.Val<=0.05`"
   ]
  },
  {
   "cell_type": "code",
   "execution_count": 37,
   "metadata": {},
   "outputs": [
    {
     "data": {
      "text/html": [
       "<style>\n",
       ".list-inline {list-style: none; margin:0; padding: 0}\n",
       ".list-inline>li {display: inline-block}\n",
       ".list-inline>li:not(:last-child)::after {content: \"\\00b7\"; padding: 0 .5ex}\n",
       "</style>\n",
       "<ol class=list-inline><li>38733</li><li>8</li></ol>\n"
      ],
      "text/latex": [
       "\\begin{enumerate*}\n",
       "\\item 38733\n",
       "\\item 8\n",
       "\\end{enumerate*}\n"
      ],
      "text/markdown": [
       "1. 38733\n",
       "2. 8\n",
       "\n",
       "\n"
      ],
      "text/plain": [
       "[1] 38733     8"
      ]
     },
     "metadata": {},
     "output_type": "display_data"
    },
    {
     "data": {
      "text/html": [
       "<style>\n",
       ".list-inline {list-style: none; margin:0; padding: 0}\n",
       ".list-inline>li {display: inline-block}\n",
       ".list-inline>li:not(:last-child)::after {content: \"\\00b7\"; padding: 0 .5ex}\n",
       "</style>\n",
       "<ol class=list-inline><li>3163</li><li>8</li></ol>\n"
      ],
      "text/latex": [
       "\\begin{enumerate*}\n",
       "\\item 3163\n",
       "\\item 8\n",
       "\\end{enumerate*}\n"
      ],
      "text/markdown": [
       "1. 3163\n",
       "2. 8\n",
       "\n",
       "\n"
      ],
      "text/plain": [
       "[1] 3163    8"
      ]
     },
     "metadata": {},
     "output_type": "display_data"
    },
    {
     "data": {
      "text/html": [
       "<table>\n",
       "<caption>A data.frame: 2 × 8</caption>\n",
       "<thead>\n",
       "\t<tr><th></th><th scope=col>gene_name</th><th scope=col>ID</th><th scope=col>logFC</th><th scope=col>AveExpr</th><th scope=col>t</th><th scope=col>P.Value</th><th scope=col>adj.P.Val</th><th scope=col>B</th></tr>\n",
       "\t<tr><th></th><th scope=col>&lt;chr&gt;</th><th scope=col>&lt;chr&gt;</th><th scope=col>&lt;dbl&gt;</th><th scope=col>&lt;dbl&gt;</th><th scope=col>&lt;dbl&gt;</th><th scope=col>&lt;dbl&gt;</th><th scope=col>&lt;dbl&gt;</th><th scope=col>&lt;dbl&gt;</th></tr>\n",
       "</thead>\n",
       "<tbody>\n",
       "\t<tr><th scope=row>XIST-10154</th><td>XIST</td><td>10154</td><td>-6.796072</td><td>1.385720</td><td>-38.73465</td><td>5.301573e-131</td><td>1.523859e-126</td><td>280.9110</td></tr>\n",
       "\t<tr><th scope=row>XIST-10149</th><td>XIST</td><td>10149</td><td>-7.124726</td><td>1.597306</td><td>-38.68238</td><td>7.868530e-131</td><td>1.523859e-126</td><td>280.5225</td></tr>\n",
       "</tbody>\n",
       "</table>\n"
      ],
      "text/latex": [
       "A data.frame: 2 × 8\n",
       "\\begin{tabular}{r|llllllll}\n",
       "  & gene\\_name & ID & logFC & AveExpr & t & P.Value & adj.P.Val & B\\\\\n",
       "  & <chr> & <chr> & <dbl> & <dbl> & <dbl> & <dbl> & <dbl> & <dbl>\\\\\n",
       "\\hline\n",
       "\tXIST-10154 & XIST & 10154 & -6.796072 & 1.385720 & -38.73465 & 5.301573e-131 & 1.523859e-126 & 280.9110\\\\\n",
       "\tXIST-10149 & XIST & 10149 & -7.124726 & 1.597306 & -38.68238 & 7.868530e-131 & 1.523859e-126 & 280.5225\\\\\n",
       "\\end{tabular}\n"
      ],
      "text/markdown": [
       "\n",
       "A data.frame: 2 × 8\n",
       "\n",
       "| <!--/--> | gene_name &lt;chr&gt; | ID &lt;chr&gt; | logFC &lt;dbl&gt; | AveExpr &lt;dbl&gt; | t &lt;dbl&gt; | P.Value &lt;dbl&gt; | adj.P.Val &lt;dbl&gt; | B &lt;dbl&gt; |\n",
       "|---|---|---|---|---|---|---|---|---|\n",
       "| XIST-10154 | XIST | 10154 | -6.796072 | 1.385720 | -38.73465 | 5.301573e-131 | 1.523859e-126 | 280.9110 |\n",
       "| XIST-10149 | XIST | 10149 | -7.124726 | 1.597306 | -38.68238 | 7.868530e-131 | 1.523859e-126 | 280.5225 |\n",
       "\n"
      ],
      "text/plain": [
       "           gene_name ID    logFC     AveExpr  t         P.Value      \n",
       "XIST-10154 XIST      10154 -6.796072 1.385720 -38.73465 5.301573e-131\n",
       "XIST-10149 XIST      10149 -7.124726 1.597306 -38.68238 7.868530e-131\n",
       "           adj.P.Val     B       \n",
       "XIST-10154 1.523859e-126 280.9110\n",
       "XIST-10149 1.523859e-126 280.5225"
      ]
     },
     "metadata": {},
     "output_type": "display_data"
    }
   ],
   "source": [
    "dim(events.table)\n",
    "events.table <- events.table[abs(events.table$logFC)>=log2(1.5) & events.table$adj.P.Val<=0.05,]\n",
    "dim(events.table)\n",
    "head(events.table,2)"
   ]
  },
  {
   "cell_type": "markdown",
   "metadata": {},
   "source": [
    "Make sure this command has been executed before `gunzip sbas/data/fromGTF.*` as the files are expected uncompressed.\n"
   ]
  },
  {
   "cell_type": "code",
   "execution_count": 38,
   "metadata": {},
   "outputs": [
    {
     "data": {
      "text/html": [
       "<style>\n",
       ".list-inline {list-style: none; margin:0; padding: 0}\n",
       ".list-inline>li {display: inline-block}\n",
       ".list-inline>li:not(:last-child)::after {content: \"\\00b7\"; padding: 0 .5ex}\n",
       "</style>\n",
       "<ol class=list-inline><li>42611</li><li>11</li></ol>\n"
      ],
      "text/latex": [
       "\\begin{enumerate*}\n",
       "\\item 42611\n",
       "\\item 11\n",
       "\\end{enumerate*}\n"
      ],
      "text/markdown": [
       "1. 42611\n",
       "2. 11\n",
       "\n",
       "\n"
      ],
      "text/plain": [
       "[1] 42611    11"
      ]
     },
     "metadata": {},
     "output_type": "display_data"
    },
    {
     "data": {
      "text/html": [
       "<table>\n",
       "<caption>A data.frame: 1 × 11</caption>\n",
       "<thead>\n",
       "\t<tr><th></th><th scope=col>ID</th><th scope=col>GeneID</th><th scope=col>geneSymbol</th><th scope=col>chr</th><th scope=col>strand</th><th scope=col>exonStart_0base</th><th scope=col>exonEnd</th><th scope=col>upstreamES</th><th scope=col>upstreamEE</th><th scope=col>downstreamES</th><th scope=col>downstreamEE</th></tr>\n",
       "\t<tr><th></th><th scope=col>&lt;int&gt;</th><th scope=col>&lt;fct&gt;</th><th scope=col>&lt;fct&gt;</th><th scope=col>&lt;fct&gt;</th><th scope=col>&lt;fct&gt;</th><th scope=col>&lt;int&gt;</th><th scope=col>&lt;int&gt;</th><th scope=col>&lt;int&gt;</th><th scope=col>&lt;int&gt;</th><th scope=col>&lt;int&gt;</th><th scope=col>&lt;int&gt;</th></tr>\n",
       "</thead>\n",
       "<tbody>\n",
       "\t<tr><th scope=row>1</th><td>1</td><td>ENSG00000034152.18</td><td>MAP2K3</td><td>chr17</td><td>+</td><td>21287990</td><td>21288091</td><td>21284709</td><td>21284969</td><td>21295674</td><td>21295769</td></tr>\n",
       "</tbody>\n",
       "</table>\n"
      ],
      "text/latex": [
       "A data.frame: 1 × 11\n",
       "\\begin{tabular}{r|lllllllllll}\n",
       "  & ID & GeneID & geneSymbol & chr & strand & exonStart\\_0base & exonEnd & upstreamES & upstreamEE & downstreamES & downstreamEE\\\\\n",
       "  & <int> & <fct> & <fct> & <fct> & <fct> & <int> & <int> & <int> & <int> & <int> & <int>\\\\\n",
       "\\hline\n",
       "\t1 & 1 & ENSG00000034152.18 & MAP2K3 & chr17 & + & 21287990 & 21288091 & 21284709 & 21284969 & 21295674 & 21295769\\\\\n",
       "\\end{tabular}\n"
      ],
      "text/markdown": [
       "\n",
       "A data.frame: 1 × 11\n",
       "\n",
       "| <!--/--> | ID &lt;int&gt; | GeneID &lt;fct&gt; | geneSymbol &lt;fct&gt; | chr &lt;fct&gt; | strand &lt;fct&gt; | exonStart_0base &lt;int&gt; | exonEnd &lt;int&gt; | upstreamES &lt;int&gt; | upstreamEE &lt;int&gt; | downstreamES &lt;int&gt; | downstreamEE &lt;int&gt; |\n",
       "|---|---|---|---|---|---|---|---|---|---|---|---|\n",
       "| 1 | 1 | ENSG00000034152.18 | MAP2K3 | chr17 | + | 21287990 | 21288091 | 21284709 | 21284969 | 21295674 | 21295769 |\n",
       "\n"
      ],
      "text/plain": [
       "  ID GeneID             geneSymbol chr   strand exonStart_0base exonEnd \n",
       "1 1  ENSG00000034152.18 MAP2K3     chr17 +      21287990        21288091\n",
       "  upstreamES upstreamEE downstreamES downstreamEE\n",
       "1 21284709   21284969   21295674     21295769    "
      ]
     },
     "metadata": {},
     "output_type": "display_data"
    }
   ],
   "source": [
    "annot.table  <- read.table(events.table.name,header=T)\n",
    "dim(annot.table)\n",
    "head(annot.table, 1)"
   ]
  },
  {
   "cell_type": "code",
   "execution_count": 39,
   "metadata": {},
   "outputs": [],
   "source": [
    "merged.table <- merge(events.table, annot.table, by=\"ID\")"
   ]
  },
  {
   "cell_type": "code",
   "execution_count": 40,
   "metadata": {},
   "outputs": [
    {
     "data": {
      "text/html": [
       "<style>\n",
       ".list-inline {list-style: none; margin:0; padding: 0}\n",
       ".list-inline>li {display: inline-block}\n",
       ".list-inline>li:not(:last-child)::after {content: \"\\00b7\"; padding: 0 .5ex}\n",
       "</style>\n",
       "<ol class=list-inline><li>3163</li><li>18</li></ol>\n"
      ],
      "text/latex": [
       "\\begin{enumerate*}\n",
       "\\item 3163\n",
       "\\item 18\n",
       "\\end{enumerate*}\n"
      ],
      "text/markdown": [
       "1. 3163\n",
       "2. 18\n",
       "\n",
       "\n"
      ],
      "text/plain": [
       "[1] 3163   18"
      ]
     },
     "metadata": {},
     "output_type": "display_data"
    },
    {
     "data": {
      "text/html": [
       "<table>\n",
       "<caption>A data.frame: 2 × 18</caption>\n",
       "<thead>\n",
       "\t<tr><th></th><th scope=col>ID</th><th scope=col>gene_name</th><th scope=col>logFC</th><th scope=col>AveExpr</th><th scope=col>t</th><th scope=col>P.Value</th><th scope=col>adj.P.Val</th><th scope=col>B</th><th scope=col>GeneID</th><th scope=col>geneSymbol</th><th scope=col>chr</th><th scope=col>strand</th><th scope=col>exonStart_0base</th><th scope=col>exonEnd</th><th scope=col>upstreamES</th><th scope=col>upstreamEE</th><th scope=col>downstreamES</th><th scope=col>downstreamEE</th></tr>\n",
       "\t<tr><th></th><th scope=col>&lt;chr&gt;</th><th scope=col>&lt;chr&gt;</th><th scope=col>&lt;dbl&gt;</th><th scope=col>&lt;dbl&gt;</th><th scope=col>&lt;dbl&gt;</th><th scope=col>&lt;dbl&gt;</th><th scope=col>&lt;dbl&gt;</th><th scope=col>&lt;dbl&gt;</th><th scope=col>&lt;fct&gt;</th><th scope=col>&lt;fct&gt;</th><th scope=col>&lt;fct&gt;</th><th scope=col>&lt;fct&gt;</th><th scope=col>&lt;int&gt;</th><th scope=col>&lt;int&gt;</th><th scope=col>&lt;int&gt;</th><th scope=col>&lt;int&gt;</th><th scope=col>&lt;int&gt;</th><th scope=col>&lt;int&gt;</th></tr>\n",
       "</thead>\n",
       "<tbody>\n",
       "\t<tr><th scope=row>1</th><td>10012</td><td>RBM4B</td><td> 0.8450169</td><td>1.183428</td><td> 6.352709</td><td>6.335981e-10</td><td>4.076604e-08</td><td>12.144677</td><td>ENSG00000173914.12</td><td>RBM4B</td><td>chr11</td><td>-</td><td>66670935</td><td>66670983</td><td>66668970</td><td>66669291</td><td>66676667</td><td>66677091</td></tr>\n",
       "\t<tr><th scope=row>2</th><td>10013</td><td>RBM4B</td><td>-0.7621263</td><td>1.752806</td><td>-4.689350</td><td>3.885523e-06</td><td>9.641124e-05</td><td> 3.795546</td><td>ENSG00000173914.12</td><td>RBM4B</td><td>chr11</td><td>-</td><td>66668614</td><td>66669291</td><td>66664997</td><td>66665578</td><td>66676667</td><td>66677091</td></tr>\n",
       "</tbody>\n",
       "</table>\n"
      ],
      "text/latex": [
       "A data.frame: 2 × 18\n",
       "\\begin{tabular}{r|llllllllllllllllll}\n",
       "  & ID & gene\\_name & logFC & AveExpr & t & P.Value & adj.P.Val & B & GeneID & geneSymbol & chr & strand & exonStart\\_0base & exonEnd & upstreamES & upstreamEE & downstreamES & downstreamEE\\\\\n",
       "  & <chr> & <chr> & <dbl> & <dbl> & <dbl> & <dbl> & <dbl> & <dbl> & <fct> & <fct> & <fct> & <fct> & <int> & <int> & <int> & <int> & <int> & <int>\\\\\n",
       "\\hline\n",
       "\t1 & 10012 & RBM4B &  0.8450169 & 1.183428 &  6.352709 & 6.335981e-10 & 4.076604e-08 & 12.144677 & ENSG00000173914.12 & RBM4B & chr11 & - & 66670935 & 66670983 & 66668970 & 66669291 & 66676667 & 66677091\\\\\n",
       "\t2 & 10013 & RBM4B & -0.7621263 & 1.752806 & -4.689350 & 3.885523e-06 & 9.641124e-05 &  3.795546 & ENSG00000173914.12 & RBM4B & chr11 & - & 66668614 & 66669291 & 66664997 & 66665578 & 66676667 & 66677091\\\\\n",
       "\\end{tabular}\n"
      ],
      "text/markdown": [
       "\n",
       "A data.frame: 2 × 18\n",
       "\n",
       "| <!--/--> | ID &lt;chr&gt; | gene_name &lt;chr&gt; | logFC &lt;dbl&gt; | AveExpr &lt;dbl&gt; | t &lt;dbl&gt; | P.Value &lt;dbl&gt; | adj.P.Val &lt;dbl&gt; | B &lt;dbl&gt; | GeneID &lt;fct&gt; | geneSymbol &lt;fct&gt; | chr &lt;fct&gt; | strand &lt;fct&gt; | exonStart_0base &lt;int&gt; | exonEnd &lt;int&gt; | upstreamES &lt;int&gt; | upstreamEE &lt;int&gt; | downstreamES &lt;int&gt; | downstreamEE &lt;int&gt; |\n",
       "|---|---|---|---|---|---|---|---|---|---|---|---|---|---|---|---|---|---|---|\n",
       "| 1 | 10012 | RBM4B |  0.8450169 | 1.183428 |  6.352709 | 6.335981e-10 | 4.076604e-08 | 12.144677 | ENSG00000173914.12 | RBM4B | chr11 | - | 66670935 | 66670983 | 66668970 | 66669291 | 66676667 | 66677091 |\n",
       "| 2 | 10013 | RBM4B | -0.7621263 | 1.752806 | -4.689350 | 3.885523e-06 | 9.641124e-05 |  3.795546 | ENSG00000173914.12 | RBM4B | chr11 | - | 66668614 | 66669291 | 66664997 | 66665578 | 66676667 | 66677091 |\n",
       "\n"
      ],
      "text/plain": [
       "  ID    gene_name logFC      AveExpr  t         P.Value      adj.P.Val   \n",
       "1 10012 RBM4B      0.8450169 1.183428  6.352709 6.335981e-10 4.076604e-08\n",
       "2 10013 RBM4B     -0.7621263 1.752806 -4.689350 3.885523e-06 9.641124e-05\n",
       "  B         GeneID             geneSymbol chr   strand exonStart_0base exonEnd \n",
       "1 12.144677 ENSG00000173914.12 RBM4B      chr11 -      66670935        66670983\n",
       "2  3.795546 ENSG00000173914.12 RBM4B      chr11 -      66668614        66669291\n",
       "  upstreamES upstreamEE downstreamES downstreamEE\n",
       "1 66668970   66669291   66676667     66677091    \n",
       "2 66664997   66665578   66676667     66677091    "
      ]
     },
     "metadata": {},
     "output_type": "display_data"
    }
   ],
   "source": [
    "dim(merged.table)\n",
    "head(merged.table, 2)"
   ]
  },
  {
   "cell_type": "code",
   "execution_count": 41,
   "metadata": {},
   "outputs": [
    {
     "data": {
      "text/html": [
       "<style>\n",
       ".list-inline {list-style: none; margin:0; padding: 0}\n",
       ".list-inline>li {display: inline-block}\n",
       ".list-inline>li:not(:last-child)::after {content: \"\\00b7\"; padding: 0 .5ex}\n",
       "</style>\n",
       "<ol class=list-inline><li>351</li><li>6</li></ol>\n"
      ],
      "text/latex": [
       "\\begin{enumerate*}\n",
       "\\item 351\n",
       "\\item 6\n",
       "\\end{enumerate*}\n"
      ],
      "text/markdown": [
       "1. 351\n",
       "2. 6\n",
       "\n",
       "\n"
      ],
      "text/plain": [
       "[1] 351   6"
      ]
     },
     "metadata": {},
     "output_type": "display_data"
    },
    {
     "data": {
      "text/html": [
       "<table>\n",
       "<caption>A data.frame: 1 × 6</caption>\n",
       "<thead>\n",
       "\t<tr><th></th><th scope=col>Gene</th><th scope=col>uprot.id</th><th scope=col>gene.id</th><th scope=col>S</th><th scope=col>R</th><th scope=col>omim</th></tr>\n",
       "\t<tr><th></th><th scope=col>&lt;fct&gt;</th><th scope=col>&lt;fct&gt;</th><th scope=col>&lt;int&gt;</th><th scope=col>&lt;lgl&gt;</th><th scope=col>&lt;lgl&gt;</th><th scope=col>&lt;fct&gt;</th></tr>\n",
       "</thead>\n",
       "<tbody>\n",
       "\t<tr><th scope=row>1</th><td>AAR2</td><td>Q9Y312</td><td>25980</td><td>TRUE</td><td>FALSE</td><td>n/a</td></tr>\n",
       "</tbody>\n",
       "</table>\n"
      ],
      "text/latex": [
       "A data.frame: 1 × 6\n",
       "\\begin{tabular}{r|llllll}\n",
       "  & Gene & uprot.id & gene.id & S & R & omim\\\\\n",
       "  & <fct> & <fct> & <int> & <lgl> & <lgl> & <fct>\\\\\n",
       "\\hline\n",
       "\t1 & AAR2 & Q9Y312 & 25980 & TRUE & FALSE & n/a\\\\\n",
       "\\end{tabular}\n"
      ],
      "text/markdown": [
       "\n",
       "A data.frame: 1 × 6\n",
       "\n",
       "| <!--/--> | Gene &lt;fct&gt; | uprot.id &lt;fct&gt; | gene.id &lt;int&gt; | S &lt;lgl&gt; | R &lt;lgl&gt; | omim &lt;fct&gt; |\n",
       "|---|---|---|---|---|---|---|\n",
       "| 1 | AAR2 | Q9Y312 | 25980 | TRUE | FALSE | n/a |\n",
       "\n"
      ],
      "text/plain": [
       "  Gene uprot.id gene.id S    R     omim\n",
       "1 AAR2 Q9Y312   25980   TRUE FALSE n/a "
      ]
     },
     "metadata": {},
     "output_type": "display_data"
    }
   ],
   "source": [
    "rbp.table    <- read.table(rbp.table.name,sep=\"\\t\",header=TRUE)\n",
    "dim(rbp.table)\n",
    "head(rbp.table, 1)"
   ]
  },
  {
   "cell_type": "markdown",
   "metadata": {},
   "source": [
    "Make sure this command has been executed before `gunzip sbas/data/rmats_final.{as_site_type}.jc.*jc.*` as the files are expected uncompressed.\n"
   ]
  },
  {
   "cell_type": "code",
   "execution_count": 42,
   "metadata": {},
   "outputs": [
    {
     "data": {
      "text/html": [
       "<style>\n",
       ".list-inline {list-style: none; margin:0; padding: 0}\n",
       ".list-inline>li {display: inline-block}\n",
       ".list-inline>li:not(:last-child)::after {content: \"\\00b7\"; padding: 0 .5ex}\n",
       "</style>\n",
       "<ol class=list-inline><li>42611</li><li>8674</li></ol>\n"
      ],
      "text/latex": [
       "\\begin{enumerate*}\n",
       "\\item 42611\n",
       "\\item 8674\n",
       "\\end{enumerate*}\n"
      ],
      "text/markdown": [
       "1. 42611\n",
       "2. 8674\n",
       "\n",
       "\n"
      ],
      "text/plain": [
       "[1] 42611  8674"
      ]
     },
     "metadata": {},
     "output_type": "display_data"
    },
    {
     "data": {
      "text/html": [
       "<table>\n",
       "<caption>A data.frame: 2 × 3</caption>\n",
       "<thead>\n",
       "\t<tr><th></th><th scope=col>ID</th><th scope=col>SRR1068788</th><th scope=col>SRR1068808</th></tr>\n",
       "\t<tr><th></th><th scope=col>&lt;int&gt;</th><th scope=col>&lt;int&gt;</th><th scope=col>&lt;int&gt;</th></tr>\n",
       "</thead>\n",
       "<tbody>\n",
       "\t<tr><th scope=row>1</th><td>1</td><td> 0</td><td>  0</td></tr>\n",
       "\t<tr><th scope=row>2</th><td>2</td><td>26</td><td>247</td></tr>\n",
       "</tbody>\n",
       "</table>\n"
      ],
      "text/latex": [
       "A data.frame: 2 × 3\n",
       "\\begin{tabular}{r|lll}\n",
       "  & ID & SRR1068788 & SRR1068808\\\\\n",
       "  & <int> & <int> & <int>\\\\\n",
       "\\hline\n",
       "\t1 & 1 &  0 &   0\\\\\n",
       "\t2 & 2 & 26 & 247\\\\\n",
       "\\end{tabular}\n"
      ],
      "text/markdown": [
       "\n",
       "A data.frame: 2 × 3\n",
       "\n",
       "| <!--/--> | ID &lt;int&gt; | SRR1068788 &lt;int&gt; | SRR1068808 &lt;int&gt; |\n",
       "|---|---|---|---|\n",
       "| 1 | 1 |  0 |   0 |\n",
       "| 2 | 2 | 26 | 247 |\n",
       "\n"
      ],
      "text/plain": [
       "  ID SRR1068788 SRR1068808\n",
       "1 1   0           0       \n",
       "2 2  26         247       "
      ]
     },
     "metadata": {},
     "output_type": "display_data"
    }
   ],
   "source": [
    "inc.counts   <- as.data.frame(data.table::fread(inc.counts.file.name))\n",
    "dim(inc.counts)\n",
    "inc.counts[1:2,1:3]"
   ]
  },
  {
   "cell_type": "code",
   "execution_count": 43,
   "metadata": {},
   "outputs": [
    {
     "data": {
      "text/html": [
       "<style>\n",
       ".list-inline {list-style: none; margin:0; padding: 0}\n",
       ".list-inline>li {display: inline-block}\n",
       ".list-inline>li:not(:last-child)::after {content: \"\\00b7\"; padding: 0 .5ex}\n",
       "</style>\n",
       "<ol class=list-inline><li>42611</li><li>8674</li></ol>\n"
      ],
      "text/latex": [
       "\\begin{enumerate*}\n",
       "\\item 42611\n",
       "\\item 8674\n",
       "\\end{enumerate*}\n"
      ],
      "text/markdown": [
       "1. 42611\n",
       "2. 8674\n",
       "\n",
       "\n"
      ],
      "text/plain": [
       "[1] 42611  8674"
      ]
     },
     "metadata": {},
     "output_type": "display_data"
    },
    {
     "data": {
      "text/html": [
       "<table>\n",
       "<caption>A data.frame: 2 × 3</caption>\n",
       "<thead>\n",
       "\t<tr><th></th><th scope=col>ID</th><th scope=col>SRR1068788</th><th scope=col>SRR1068808</th></tr>\n",
       "\t<tr><th></th><th scope=col>&lt;int&gt;</th><th scope=col>&lt;int&gt;</th><th scope=col>&lt;int&gt;</th></tr>\n",
       "</thead>\n",
       "<tbody>\n",
       "\t<tr><th scope=row>1</th><td>1</td><td>2</td><td>0</td></tr>\n",
       "\t<tr><th scope=row>2</th><td>2</td><td>0</td><td>0</td></tr>\n",
       "</tbody>\n",
       "</table>\n"
      ],
      "text/latex": [
       "A data.frame: 2 × 3\n",
       "\\begin{tabular}{r|lll}\n",
       "  & ID & SRR1068788 & SRR1068808\\\\\n",
       "  & <int> & <int> & <int>\\\\\n",
       "\\hline\n",
       "\t1 & 1 & 2 & 0\\\\\n",
       "\t2 & 2 & 0 & 0\\\\\n",
       "\\end{tabular}\n"
      ],
      "text/markdown": [
       "\n",
       "A data.frame: 2 × 3\n",
       "\n",
       "| <!--/--> | ID &lt;int&gt; | SRR1068788 &lt;int&gt; | SRR1068808 &lt;int&gt; |\n",
       "|---|---|---|---|\n",
       "| 1 | 1 | 2 | 0 |\n",
       "| 2 | 2 | 0 | 0 |\n",
       "\n"
      ],
      "text/plain": [
       "  ID SRR1068788 SRR1068808\n",
       "1 1  2          0         \n",
       "2 2  0          0         "
      ]
     },
     "metadata": {},
     "output_type": "display_data"
    }
   ],
   "source": [
    "skip.counts  <- as.data.frame(data.table::fread(skip.counts.file.name))\n",
    "dim(skip.counts)\n",
    "skip.counts[1:2,1:3]"
   ]
  },
  {
   "cell_type": "markdown",
   "metadata": {},
   "source": [
    "## Check `dim()` of loaded objects"
   ]
  },
  {
   "cell_type": "code",
   "execution_count": 44,
   "metadata": {},
   "outputs": [
    {
     "data": {
      "text/html": [
       "<style>\n",
       ".list-inline {list-style: none; margin:0; padding: 0}\n",
       ".list-inline>li {display: inline-block}\n",
       ".list-inline>li:not(:last-child)::after {content: \"\\00b7\"; padding: 0 .5ex}\n",
       "</style>\n",
       "<ol class=list-inline><li>3163</li><li>8</li></ol>\n"
      ],
      "text/latex": [
       "\\begin{enumerate*}\n",
       "\\item 3163\n",
       "\\item 8\n",
       "\\end{enumerate*}\n"
      ],
      "text/markdown": [
       "1. 3163\n",
       "2. 8\n",
       "\n",
       "\n"
      ],
      "text/plain": [
       "[1] 3163    8"
      ]
     },
     "metadata": {},
     "output_type": "display_data"
    },
    {
     "data": {
      "text/html": [
       "<style>\n",
       ".list-inline {list-style: none; margin:0; padding: 0}\n",
       ".list-inline>li {display: inline-block}\n",
       ".list-inline>li:not(:last-child)::after {content: \"\\00b7\"; padding: 0 .5ex}\n",
       "</style>\n",
       "<ol class=list-inline><li>42611</li><li>11</li></ol>\n"
      ],
      "text/latex": [
       "\\begin{enumerate*}\n",
       "\\item 42611\n",
       "\\item 11\n",
       "\\end{enumerate*}\n"
      ],
      "text/markdown": [
       "1. 42611\n",
       "2. 11\n",
       "\n",
       "\n"
      ],
      "text/plain": [
       "[1] 42611    11"
      ]
     },
     "metadata": {},
     "output_type": "display_data"
    },
    {
     "data": {
      "text/html": [
       "<style>\n",
       ".list-inline {list-style: none; margin:0; padding: 0}\n",
       ".list-inline>li {display: inline-block}\n",
       ".list-inline>li:not(:last-child)::after {content: \"\\00b7\"; padding: 0 .5ex}\n",
       "</style>\n",
       "<ol class=list-inline><li>3163</li><li>18</li></ol>\n"
      ],
      "text/latex": [
       "\\begin{enumerate*}\n",
       "\\item 3163\n",
       "\\item 18\n",
       "\\end{enumerate*}\n"
      ],
      "text/markdown": [
       "1. 3163\n",
       "2. 18\n",
       "\n",
       "\n"
      ],
      "text/plain": [
       "[1] 3163   18"
      ]
     },
     "metadata": {},
     "output_type": "display_data"
    },
    {
     "data": {
      "text/html": [
       "<style>\n",
       ".list-inline {list-style: none; margin:0; padding: 0}\n",
       ".list-inline>li {display: inline-block}\n",
       ".list-inline>li:not(:last-child)::after {content: \"\\00b7\"; padding: 0 .5ex}\n",
       "</style>\n",
       "<ol class=list-inline><li>351</li><li>6</li></ol>\n"
      ],
      "text/latex": [
       "\\begin{enumerate*}\n",
       "\\item 351\n",
       "\\item 6\n",
       "\\end{enumerate*}\n"
      ],
      "text/markdown": [
       "1. 351\n",
       "2. 6\n",
       "\n",
       "\n"
      ],
      "text/plain": [
       "[1] 351   6"
      ]
     },
     "metadata": {},
     "output_type": "display_data"
    },
    {
     "data": {
      "text/html": [
       "<style>\n",
       ".list-inline {list-style: none; margin:0; padding: 0}\n",
       ".list-inline>li {display: inline-block}\n",
       ".list-inline>li:not(:last-child)::after {content: \"\\00b7\"; padding: 0 .5ex}\n",
       "</style>\n",
       "<ol class=list-inline><li>42611</li><li>8674</li></ol>\n"
      ],
      "text/latex": [
       "\\begin{enumerate*}\n",
       "\\item 42611\n",
       "\\item 8674\n",
       "\\end{enumerate*}\n"
      ],
      "text/markdown": [
       "1. 42611\n",
       "2. 8674\n",
       "\n",
       "\n"
      ],
      "text/plain": [
       "[1] 42611  8674"
      ]
     },
     "metadata": {},
     "output_type": "display_data"
    },
    {
     "data": {
      "text/html": [
       "<style>\n",
       ".list-inline {list-style: none; margin:0; padding: 0}\n",
       ".list-inline>li {display: inline-block}\n",
       ".list-inline>li:not(:last-child)::after {content: \"\\00b7\"; padding: 0 .5ex}\n",
       "</style>\n",
       "<ol class=list-inline><li>42611</li><li>8674</li></ol>\n"
      ],
      "text/latex": [
       "\\begin{enumerate*}\n",
       "\\item 42611\n",
       "\\item 8674\n",
       "\\end{enumerate*}\n"
      ],
      "text/markdown": [
       "1. 42611\n",
       "2. 8674\n",
       "\n",
       "\n"
      ],
      "text/plain": [
       "[1] 42611  8674"
      ]
     },
     "metadata": {},
     "output_type": "display_data"
    }
   ],
   "source": [
    "dim(events.table)\n",
    "dim(annot.table)\n",
    "dim(merged.table)\n",
    "dim(rbp.table)\n",
    "dim(inc.counts)\n",
    "dim(skip.counts)"
   ]
  },
  {
   "cell_type": "markdown",
   "metadata": {},
   "source": [
    "## Read sample info"
   ]
  },
  {
   "cell_type": "code",
   "execution_count": 45,
   "metadata": {},
   "outputs": [
    {
     "data": {
      "text/html": [
       "'../data/srr_pdata.csv'"
      ],
      "text/latex": [
       "'../data/srr\\_pdata.csv'"
      ],
      "text/markdown": [
       "'../data/srr_pdata.csv'"
      ],
      "text/plain": [
       "[1] \"../data/srr_pdata.csv\""
      ]
     },
     "metadata": {},
     "output_type": "display_data"
    },
    {
     "data": {
      "text/html": [
       "TRUE"
      ],
      "text/latex": [
       "TRUE"
      ],
      "text/markdown": [
       "TRUE"
      ],
      "text/plain": [
       "[1] TRUE"
      ]
     },
     "metadata": {},
     "output_type": "display_data"
    },
    {
     "data": {
      "text/html": [
       "'-rw-r--r-- 1 jovyan users 4230047 Jun 26 12:07 ../data/srr_pdata.csv'"
      ],
      "text/latex": [
       "'-rw-r--r-- 1 jovyan users 4230047 Jun 26 12:07 ../data/srr\\_pdata.csv'"
      ],
      "text/markdown": [
       "'-rw-r--r-- 1 jovyan users 4230047 Jun 26 12:07 ../data/srr_pdata.csv'"
      ],
      "text/plain": [
       "[1] \"-rw-r--r-- 1 jovyan users 4230047 Jun 26 12:07 ../data/srr_pdata.csv\""
      ]
     },
     "metadata": {},
     "output_type": "display_data"
    }
   ],
   "source": [
    "metadata.file.name\n",
    "file.exists(metadata.file.name)\n",
    "system(paste0(\"ls -l\", \" ../data/srr_pdata.csv\"), intern = TRUE)"
   ]
  },
  {
   "cell_type": "code",
   "execution_count": 46,
   "metadata": {},
   "outputs": [
    {
     "name": "stderr",
     "output_type": "stream",
     "text": [
      "Parsed with column specification:\n",
      "cols(\n",
      "  .default = col_double(),\n",
      "  SAMPID = \u001b[31mcol_character()\u001b[39m,\n",
      "  SMATSSCR = \u001b[31mcol_character()\u001b[39m,\n",
      "  SMCENTER = \u001b[31mcol_character()\u001b[39m,\n",
      "  SMPTHNTS = \u001b[31mcol_character()\u001b[39m,\n",
      "  SMTS = \u001b[31mcol_character()\u001b[39m,\n",
      "  SMTSD = \u001b[31mcol_character()\u001b[39m,\n",
      "  SMUBRID = \u001b[31mcol_character()\u001b[39m,\n",
      "  SMNABTCH = \u001b[31mcol_character()\u001b[39m,\n",
      "  SMNABTCHT = \u001b[31mcol_character()\u001b[39m,\n",
      "  SMNABTCHD = \u001b[31mcol_character()\u001b[39m,\n",
      "  SMGEBTCH = \u001b[31mcol_character()\u001b[39m,\n",
      "  SMGEBTCHD = \u001b[31mcol_character()\u001b[39m,\n",
      "  SMGEBTCHT = \u001b[31mcol_character()\u001b[39m,\n",
      "  SMAFRZE = \u001b[31mcol_character()\u001b[39m,\n",
      "  SMGTC = \u001b[33mcol_logical()\u001b[39m,\n",
      "  SMNUMGPS = \u001b[33mcol_logical()\u001b[39m,\n",
      "  SM550NRM = \u001b[33mcol_logical()\u001b[39m,\n",
      "  SM350NRM = \u001b[33mcol_logical()\u001b[39m,\n",
      "  SMMNCPB = \u001b[33mcol_logical()\u001b[39m,\n",
      "  SMMNCV = \u001b[33mcol_logical()\u001b[39m\n",
      "  # ... with 6 more columns\n",
      ")\n",
      "\n",
      "See spec(...) for full column specifications.\n",
      "\n"
     ]
    },
    {
     "data": {
      "text/html": [
       "<style>\n",
       ".list-inline {list-style: none; margin:0; padding: 0}\n",
       ".list-inline>li {display: inline-block}\n",
       ".list-inline>li:not(:last-child)::after {content: \"\\00b7\"; padding: 0 .5ex}\n",
       "</style>\n",
       "<ol class=list-inline><li>7872</li><li>68</li></ol>\n"
      ],
      "text/latex": [
       "\\begin{enumerate*}\n",
       "\\item 7872\n",
       "\\item 68\n",
       "\\end{enumerate*}\n"
      ],
      "text/markdown": [
       "1. 7872\n",
       "2. 68\n",
       "\n",
       "\n"
      ],
      "text/plain": [
       "[1] 7872   68"
      ]
     },
     "metadata": {},
     "output_type": "display_data"
    },
    {
     "data": {
      "text/html": [
       "<table>\n",
       "<caption>A tibble: 1 × 68</caption>\n",
       "<thead>\n",
       "\t<tr><th scope=col>SAMPID</th><th scope=col>SMATSSCR</th><th scope=col>SMCENTER</th><th scope=col>SMPTHNTS</th><th scope=col>SMRIN</th><th scope=col>SMTS</th><th scope=col>SMTSD</th><th scope=col>SMUBRID</th><th scope=col>SMTSISCH</th><th scope=col>SMTSPAX</th><th scope=col>⋯</th><th scope=col>SMRRNART</th><th scope=col>SME1MPRT</th><th scope=col>SMNUM5CD</th><th scope=col>SMDPMPRT</th><th scope=col>SME2PCTS</th><th scope=col>SUBJID</th><th scope=col>SEX</th><th scope=col>AGE</th><th scope=col>DTHHRDY</th><th scope=col>SRR</th></tr>\n",
       "\t<tr><th scope=col>&lt;chr&gt;</th><th scope=col>&lt;chr&gt;</th><th scope=col>&lt;chr&gt;</th><th scope=col>&lt;chr&gt;</th><th scope=col>&lt;dbl&gt;</th><th scope=col>&lt;chr&gt;</th><th scope=col>&lt;chr&gt;</th><th scope=col>&lt;chr&gt;</th><th scope=col>&lt;dbl&gt;</th><th scope=col>&lt;dbl&gt;</th><th scope=col>⋯</th><th scope=col>&lt;dbl&gt;</th><th scope=col>&lt;dbl&gt;</th><th scope=col>&lt;lgl&gt;</th><th scope=col>&lt;dbl&gt;</th><th scope=col>&lt;dbl&gt;</th><th scope=col>&lt;chr&gt;</th><th scope=col>&lt;dbl&gt;</th><th scope=col>&lt;chr&gt;</th><th scope=col>&lt;dbl&gt;</th><th scope=col>&lt;chr&gt;</th></tr>\n",
       "</thead>\n",
       "<tbody>\n",
       "\t<tr><td>GTEX.PW2O.0006.SM.2I3DV</td><td>NA</td><td>B1</td><td>NA</td><td>7.4</td><td>Blood</td><td>Whole Blood</td><td>13756</td><td>-126</td><td>NA</td><td>⋯</td><td>0.00351302</td><td>0.859573</td><td>NA</td><td>0</td><td>50.6829</td><td>GTEX-PW2O</td><td>1</td><td>20-29</td><td>0</td><td>SRR604002</td></tr>\n",
       "</tbody>\n",
       "</table>\n"
      ],
      "text/latex": [
       "A tibble: 1 × 68\n",
       "\\begin{tabular}{lllllllllllllllllllll}\n",
       " SAMPID & SMATSSCR & SMCENTER & SMPTHNTS & SMRIN & SMTS & SMTSD & SMUBRID & SMTSISCH & SMTSPAX & ⋯ & SMRRNART & SME1MPRT & SMNUM5CD & SMDPMPRT & SME2PCTS & SUBJID & SEX & AGE & DTHHRDY & SRR\\\\\n",
       " <chr> & <chr> & <chr> & <chr> & <dbl> & <chr> & <chr> & <chr> & <dbl> & <dbl> & ⋯ & <dbl> & <dbl> & <lgl> & <dbl> & <dbl> & <chr> & <dbl> & <chr> & <dbl> & <chr>\\\\\n",
       "\\hline\n",
       "\t GTEX.PW2O.0006.SM.2I3DV & NA & B1 & NA & 7.4 & Blood & Whole Blood & 13756 & -126 & NA & ⋯ & 0.00351302 & 0.859573 & NA & 0 & 50.6829 & GTEX-PW2O & 1 & 20-29 & 0 & SRR604002\\\\\n",
       "\\end{tabular}\n"
      ],
      "text/markdown": [
       "\n",
       "A tibble: 1 × 68\n",
       "\n",
       "| SAMPID &lt;chr&gt; | SMATSSCR &lt;chr&gt; | SMCENTER &lt;chr&gt; | SMPTHNTS &lt;chr&gt; | SMRIN &lt;dbl&gt; | SMTS &lt;chr&gt; | SMTSD &lt;chr&gt; | SMUBRID &lt;chr&gt; | SMTSISCH &lt;dbl&gt; | SMTSPAX &lt;dbl&gt; | ⋯ ⋯ | SMRRNART &lt;dbl&gt; | SME1MPRT &lt;dbl&gt; | SMNUM5CD &lt;lgl&gt; | SMDPMPRT &lt;dbl&gt; | SME2PCTS &lt;dbl&gt; | SUBJID &lt;chr&gt; | SEX &lt;dbl&gt; | AGE &lt;chr&gt; | DTHHRDY &lt;dbl&gt; | SRR &lt;chr&gt; |\n",
       "|---|---|---|---|---|---|---|---|---|---|---|---|---|---|---|---|---|---|---|---|---|\n",
       "| GTEX.PW2O.0006.SM.2I3DV | NA | B1 | NA | 7.4 | Blood | Whole Blood | 13756 | -126 | NA | ⋯ | 0.00351302 | 0.859573 | NA | 0 | 50.6829 | GTEX-PW2O | 1 | 20-29 | 0 | SRR604002 |\n",
       "\n"
      ],
      "text/plain": [
       "  SAMPID                  SMATSSCR SMCENTER SMPTHNTS SMRIN SMTS  SMTSD      \n",
       "1 GTEX.PW2O.0006.SM.2I3DV NA       B1       NA       7.4   Blood Whole Blood\n",
       "  SMUBRID SMTSISCH SMTSPAX ⋯ SMRRNART   SME1MPRT SMNUM5CD SMDPMPRT SME2PCTS\n",
       "1 13756   -126     NA      ⋯ 0.00351302 0.859573 NA       0        50.6829 \n",
       "  SUBJID    SEX AGE   DTHHRDY SRR      \n",
       "1 GTEX-PW2O 1   20-29 0       SRR604002"
      ]
     },
     "metadata": {},
     "output_type": "display_data"
    }
   ],
   "source": [
    "meta.data <- readr::read_csv(metadata.file.name)\n",
    "dim(meta.data)\n",
    "head(meta.data, 1)"
   ]
  },
  {
   "cell_type": "code",
   "execution_count": 47,
   "metadata": {},
   "outputs": [
    {
     "data": {
      "text/html": [
       "<style>\n",
       ".list-inline {list-style: none; margin:0; padding: 0}\n",
       ".list-inline>li {display: inline-block}\n",
       ".list-inline>li:not(:last-child)::after {content: \"\\00b7\"; padding: 0 .5ex}\n",
       "</style>\n",
       "<ol class=list-inline><li>'Whole Blood'</li><li>'Lung'</li><li>'Adipose - Subcutaneous'</li></ol>\n"
      ],
      "text/latex": [
       "\\begin{enumerate*}\n",
       "\\item 'Whole Blood'\n",
       "\\item 'Lung'\n",
       "\\item 'Adipose - Subcutaneous'\n",
       "\\end{enumerate*}\n"
      ],
      "text/markdown": [
       "1. 'Whole Blood'\n",
       "2. 'Lung'\n",
       "3. 'Adipose - Subcutaneous'\n",
       "\n",
       "\n"
      ],
      "text/plain": [
       "[1] \"Whole Blood\"            \"Lung\"                   \"Adipose - Subcutaneous\""
      ]
     },
     "metadata": {},
     "output_type": "display_data"
    }
   ],
   "source": [
    "meta.data$SMTSD[1:3]"
   ]
  },
  {
   "cell_type": "code",
   "execution_count": 48,
   "metadata": {},
   "outputs": [],
   "source": [
    "meta.data[[\"SMTSD\"]] <- as.character(meta.data[[\"SMTSD\"]])"
   ]
  },
  {
   "cell_type": "code",
   "execution_count": 49,
   "metadata": {},
   "outputs": [
    {
     "data": {
      "text/html": [
       "<style>\n",
       ".list-inline {list-style: none; margin:0; padding: 0}\n",
       ".list-inline>li {display: inline-block}\n",
       ".list-inline>li:not(:last-child)::after {content: \"\\00b7\"; padding: 0 .5ex}\n",
       "</style>\n",
       "<ol class=list-inline><li>'Whole Blood'</li><li>'Lung'</li><li>'Adipose - Subcutaneous'</li></ol>\n"
      ],
      "text/latex": [
       "\\begin{enumerate*}\n",
       "\\item 'Whole Blood'\n",
       "\\item 'Lung'\n",
       "\\item 'Adipose - Subcutaneous'\n",
       "\\end{enumerate*}\n"
      ],
      "text/markdown": [
       "1. 'Whole Blood'\n",
       "2. 'Lung'\n",
       "3. 'Adipose - Subcutaneous'\n",
       "\n",
       "\n"
      ],
      "text/plain": [
       "[1] \"Whole Blood\"            \"Lung\"                   \"Adipose - Subcutaneous\""
      ]
     },
     "metadata": {},
     "output_type": "display_data"
    }
   ],
   "source": [
    "meta.data$SMTSD[1:3]"
   ]
  },
  {
   "cell_type": "code",
   "execution_count": 50,
   "metadata": {},
   "outputs": [],
   "source": [
    "meta.data <- meta.data[ snakecase::to_snake_case(meta.data$SMTSD) == tissue,]"
   ]
  },
  {
   "cell_type": "code",
   "execution_count": 51,
   "metadata": {},
   "outputs": [
    {
     "data": {
      "text/html": [
       "'breast_mammary_tissue'"
      ],
      "text/latex": [
       "'breast\\_mammary\\_tissue'"
      ],
      "text/markdown": [
       "'breast_mammary_tissue'"
      ],
      "text/plain": [
       "[1] \"breast_mammary_tissue\""
      ]
     },
     "metadata": {},
     "output_type": "display_data"
    },
    {
     "data": {
      "text/html": [
       "<style>\n",
       ".list-inline {list-style: none; margin:0; padding: 0}\n",
       ".list-inline>li {display: inline-block}\n",
       ".list-inline>li:not(:last-child)::after {content: \"\\00b7\"; padding: 0 .5ex}\n",
       "</style>\n",
       "<ol class=list-inline><li>178</li><li>68</li></ol>\n"
      ],
      "text/latex": [
       "\\begin{enumerate*}\n",
       "\\item 178\n",
       "\\item 68\n",
       "\\end{enumerate*}\n"
      ],
      "text/markdown": [
       "1. 178\n",
       "2. 68\n",
       "\n",
       "\n"
      ],
      "text/plain": [
       "[1] 178  68"
      ]
     },
     "metadata": {},
     "output_type": "display_data"
    },
    {
     "data": {
      "text/html": [
       "<table>\n",
       "<caption>A tibble: 2 × 8</caption>\n",
       "<thead>\n",
       "\t<tr><th scope=col>SAMPID</th><th scope=col>SMATSSCR</th><th scope=col>SMCENTER</th><th scope=col>SMPTHNTS</th><th scope=col>SMRIN</th><th scope=col>SMTS</th><th scope=col>SMTSD</th><th scope=col>SMUBRID</th></tr>\n",
       "\t<tr><th scope=col>&lt;chr&gt;</th><th scope=col>&lt;chr&gt;</th><th scope=col>&lt;chr&gt;</th><th scope=col>&lt;chr&gt;</th><th scope=col>&lt;dbl&gt;</th><th scope=col>&lt;chr&gt;</th><th scope=col>&lt;chr&gt;</th><th scope=col>&lt;chr&gt;</th></tr>\n",
       "</thead>\n",
       "<tbody>\n",
       "\t<tr><td>GTEX.S4Q7.1126.SM.4AD6R</td><td>0</td><td>B1</td><td>2 aliquots                                 </td><td>6.9</td><td>Breast</td><td>Breast - Mammary Tissue</td><td>8367</td></tr>\n",
       "\t<tr><td>GTEX.ZZ64.1226.SM.5E43R</td><td>0</td><td>B1</td><td>2 pieces; fibroadipose tissue without ducts</td><td>7.2</td><td>Breast</td><td>Breast - Mammary Tissue</td><td>8367</td></tr>\n",
       "</tbody>\n",
       "</table>\n"
      ],
      "text/latex": [
       "A tibble: 2 × 8\n",
       "\\begin{tabular}{llllllll}\n",
       " SAMPID & SMATSSCR & SMCENTER & SMPTHNTS & SMRIN & SMTS & SMTSD & SMUBRID\\\\\n",
       " <chr> & <chr> & <chr> & <chr> & <dbl> & <chr> & <chr> & <chr>\\\\\n",
       "\\hline\n",
       "\t GTEX.S4Q7.1126.SM.4AD6R & 0 & B1 & 2 aliquots                                  & 6.9 & Breast & Breast - Mammary Tissue & 8367\\\\\n",
       "\t GTEX.ZZ64.1226.SM.5E43R & 0 & B1 & 2 pieces; fibroadipose tissue without ducts & 7.2 & Breast & Breast - Mammary Tissue & 8367\\\\\n",
       "\\end{tabular}\n"
      ],
      "text/markdown": [
       "\n",
       "A tibble: 2 × 8\n",
       "\n",
       "| SAMPID &lt;chr&gt; | SMATSSCR &lt;chr&gt; | SMCENTER &lt;chr&gt; | SMPTHNTS &lt;chr&gt; | SMRIN &lt;dbl&gt; | SMTS &lt;chr&gt; | SMTSD &lt;chr&gt; | SMUBRID &lt;chr&gt; |\n",
       "|---|---|---|---|---|---|---|---|\n",
       "| GTEX.S4Q7.1126.SM.4AD6R | 0 | B1 | 2 aliquots                                  | 6.9 | Breast | Breast - Mammary Tissue | 8367 |\n",
       "| GTEX.ZZ64.1226.SM.5E43R | 0 | B1 | 2 pieces; fibroadipose tissue without ducts | 7.2 | Breast | Breast - Mammary Tissue | 8367 |\n",
       "\n"
      ],
      "text/plain": [
       "  SAMPID                  SMATSSCR SMCENTER\n",
       "1 GTEX.S4Q7.1126.SM.4AD6R 0        B1      \n",
       "2 GTEX.ZZ64.1226.SM.5E43R 0        B1      \n",
       "  SMPTHNTS                                    SMRIN SMTS  \n",
       "1 2 aliquots                                  6.9   Breast\n",
       "2 2 pieces; fibroadipose tissue without ducts 7.2   Breast\n",
       "  SMTSD                   SMUBRID\n",
       "1 Breast - Mammary Tissue 8367   \n",
       "2 Breast - Mammary Tissue 8367   "
      ]
     },
     "metadata": {},
     "output_type": "display_data"
    }
   ],
   "source": [
    "tissue\n",
    "dim(meta.data)\n",
    "meta.data[1:2,1:8]"
   ]
  },
  {
   "cell_type": "code",
   "execution_count": 52,
   "metadata": {},
   "outputs": [
    {
     "data": {
      "text/html": [
       "'breast_mammary_tissue'"
      ],
      "text/latex": [
       "'breast\\_mammary\\_tissue'"
      ],
      "text/markdown": [
       "'breast_mammary_tissue'"
      ],
      "text/plain": [
       "[1] \"breast_mammary_tissue\""
      ]
     },
     "metadata": {},
     "output_type": "display_data"
    },
    {
     "data": {
      "text/html": [
       "'Breast - Mammary Tissue'"
      ],
      "text/latex": [
       "'Breast - Mammary Tissue'"
      ],
      "text/markdown": [
       "'Breast - Mammary Tissue'"
      ],
      "text/plain": [
       "[1] \"Breast - Mammary Tissue\""
      ]
     },
     "metadata": {},
     "output_type": "display_data"
    }
   ],
   "source": [
    "# Undo snakecase of SMTSD\n",
    "tissue\n",
    "tissue <- unique(meta.data$SMTSD)\n",
    "tissue"
   ]
  },
  {
   "cell_type": "code",
   "execution_count": 53,
   "metadata": {},
   "outputs": [
    {
     "data": {
      "text/html": [
       "<style>\n",
       ".list-inline {list-style: none; margin:0; padding: 0}\n",
       ".list-inline>li {display: inline-block}\n",
       ".list-inline>li:not(:last-child)::after {content: \"\\00b7\"; padding: 0 .5ex}\n",
       "</style>\n",
       "<ol class=list-inline><li>42611</li><li>8674</li></ol>\n"
      ],
      "text/latex": [
       "\\begin{enumerate*}\n",
       "\\item 42611\n",
       "\\item 8674\n",
       "\\end{enumerate*}\n"
      ],
      "text/markdown": [
       "1. 42611\n",
       "2. 8674\n",
       "\n",
       "\n"
      ],
      "text/plain": [
       "[1] 42611  8674"
      ]
     },
     "metadata": {},
     "output_type": "display_data"
    },
    {
     "data": {
      "text/html": [
       "<style>\n",
       ".list-inline {list-style: none; margin:0; padding: 0}\n",
       ".list-inline>li {display: inline-block}\n",
       ".list-inline>li:not(:last-child)::after {content: \"\\00b7\"; padding: 0 .5ex}\n",
       "</style>\n",
       "<ol class=list-inline><li>42611</li><li>178</li></ol>\n"
      ],
      "text/latex": [
       "\\begin{enumerate*}\n",
       "\\item 42611\n",
       "\\item 178\n",
       "\\end{enumerate*}\n"
      ],
      "text/markdown": [
       "1. 42611\n",
       "2. 178\n",
       "\n",
       "\n"
      ],
      "text/plain": [
       "[1] 42611   178"
      ]
     },
     "metadata": {},
     "output_type": "display_data"
    }
   ],
   "source": [
    "dim(inc.counts)\n",
    "inc.counts   <- inc.counts[,colnames(inc.counts) %in% meta.data$SRR]\n",
    "dim(inc.counts)"
   ]
  },
  {
   "cell_type": "code",
   "execution_count": 54,
   "metadata": {},
   "outputs": [
    {
     "data": {
      "text/html": [
       "<style>\n",
       ".list-inline {list-style: none; margin:0; padding: 0}\n",
       ".list-inline>li {display: inline-block}\n",
       ".list-inline>li:not(:last-child)::after {content: \"\\00b7\"; padding: 0 .5ex}\n",
       "</style>\n",
       "<ol class=list-inline><li>42611</li><li>8674</li></ol>\n"
      ],
      "text/latex": [
       "\\begin{enumerate*}\n",
       "\\item 42611\n",
       "\\item 8674\n",
       "\\end{enumerate*}\n"
      ],
      "text/markdown": [
       "1. 42611\n",
       "2. 8674\n",
       "\n",
       "\n"
      ],
      "text/plain": [
       "[1] 42611  8674"
      ]
     },
     "metadata": {},
     "output_type": "display_data"
    },
    {
     "data": {
      "text/html": [
       "<style>\n",
       ".list-inline {list-style: none; margin:0; padding: 0}\n",
       ".list-inline>li {display: inline-block}\n",
       ".list-inline>li:not(:last-child)::after {content: \"\\00b7\"; padding: 0 .5ex}\n",
       "</style>\n",
       "<ol class=list-inline><li>42611</li><li>178</li></ol>\n"
      ],
      "text/latex": [
       "\\begin{enumerate*}\n",
       "\\item 42611\n",
       "\\item 178\n",
       "\\end{enumerate*}\n"
      ],
      "text/markdown": [
       "1. 42611\n",
       "2. 178\n",
       "\n",
       "\n"
      ],
      "text/plain": [
       "[1] 42611   178"
      ]
     },
     "metadata": {},
     "output_type": "display_data"
    }
   ],
   "source": [
    "dim(skip.counts)\n",
    "skip.counts  <- skip.counts[,colnames(skip.counts) %in% meta.data$SRR]\n",
    "dim(skip.counts)"
   ]
  },
  {
   "cell_type": "markdown",
   "metadata": {},
   "source": [
    "## This notebook only signficant events are used - filtering now on Adj.P Val\n",
    "\n",
    "If there are more than 100 events that are significant, reduce this by ordering on the adjusted p-value (column Adj.P.Val).  \n",
    "\n",
    "Then update the ijc and sjc matrices and the merged.table (annotations)\n"
   ]
  },
  {
   "cell_type": "code",
   "execution_count": 55,
   "metadata": {},
   "outputs": [
    {
     "data": {
      "text/html": [
       "<style>\n",
       ".list-inline {list-style: none; margin:0; padding: 0}\n",
       ".list-inline>li {display: inline-block}\n",
       ".list-inline>li:not(:last-child)::after {content: \"\\00b7\"; padding: 0 .5ex}\n",
       "</style>\n",
       "<ol class=list-inline><li>100</li><li>18</li></ol>\n"
      ],
      "text/latex": [
       "\\begin{enumerate*}\n",
       "\\item 100\n",
       "\\item 18\n",
       "\\end{enumerate*}\n"
      ],
      "text/markdown": [
       "1. 100\n",
       "2. 18\n",
       "\n",
       "\n"
      ],
      "text/plain": [
       "[1] 100  18"
      ]
     },
     "metadata": {},
     "output_type": "display_data"
    }
   ],
   "source": [
    "if (nrow(skip.counts) > 100 ) {\n",
    "    head(merged.table,2)\n",
    "    dim(merged.table)\n",
    "    order_by_adj.P.Val <- order(merged.table$adj.P.Val,decreasing=TRUE)\n",
    "    head(merged.table[order_by_adj.P.Val,],2)\n",
    "    keep_IDs <- merged.table[order_by_adj.P.Val,]$ID[1:100]\n",
    "    head(keep_IDs)\n",
    "    keep_IDs <- keep_IDs[order(keep_IDs, decreasing=FALSE)]\n",
    "    head(keep_IDs)\n",
    "    # counts table will be identical in rows\n",
    "    counts.keep <- as.character(rownames(skip.counts)) %in% as.character(keep_IDs)\n",
    "    table(counts.keep)\n",
    "    # not so sure about merged.table - so lets have a different logical key\n",
    "    merged.keep <- as.character(merged.table$ID) %in% as.character(keep_IDs)\n",
    "    table(merged.keep)\n",
    "    \n",
    "    # update the sjc counts \n",
    "    dim(skip.counts)\n",
    "    skip.counts  <- skip.counts[counts.keep,]\n",
    "    dim(skip.counts)\n",
    " \n",
    "    # update the ijc counts\n",
    "    dim(inc.counts)\n",
    "    inc.counts   <- inc.counts[counts.keep,]\n",
    "    dim(inc.counts)\n",
    "    \n",
    "    # merged table\n",
    "    dim(merged.table)\n",
    "    merged.table       <- merged.table[merged.keep,] \n",
    "    dim(merged.table)\n",
    "}"
   ]
  },
  {
   "cell_type": "code",
   "execution_count": 56,
   "metadata": {},
   "outputs": [
    {
     "data": {
      "text/html": [
       "<style>\n",
       ".list-inline {list-style: none; margin:0; padding: 0}\n",
       ".list-inline>li {display: inline-block}\n",
       ".list-inline>li:not(:last-child)::after {content: \"\\00b7\"; padding: 0 .5ex}\n",
       "</style>\n",
       "<ol class=list-inline><li>100</li><li>178</li></ol>\n"
      ],
      "text/latex": [
       "\\begin{enumerate*}\n",
       "\\item 100\n",
       "\\item 178\n",
       "\\end{enumerate*}\n"
      ],
      "text/markdown": [
       "1. 100\n",
       "2. 178\n",
       "\n",
       "\n"
      ],
      "text/plain": [
       "[1] 100 178"
      ]
     },
     "metadata": {},
     "output_type": "display_data"
    },
    {
     "data": {
      "text/html": [
       "<style>\n",
       ".list-inline {list-style: none; margin:0; padding: 0}\n",
       ".list-inline>li {display: inline-block}\n",
       ".list-inline>li:not(:last-child)::after {content: \"\\00b7\"; padding: 0 .5ex}\n",
       "</style>\n",
       "<ol class=list-inline><li>100</li><li>178</li></ol>\n"
      ],
      "text/latex": [
       "\\begin{enumerate*}\n",
       "\\item 100\n",
       "\\item 178\n",
       "\\end{enumerate*}\n"
      ],
      "text/markdown": [
       "1. 100\n",
       "2. 178\n",
       "\n",
       "\n"
      ],
      "text/plain": [
       "[1] 100 178"
      ]
     },
     "metadata": {},
     "output_type": "display_data"
    },
    {
     "data": {
      "text/html": [
       "<style>\n",
       ".list-inline {list-style: none; margin:0; padding: 0}\n",
       ".list-inline>li {display: inline-block}\n",
       ".list-inline>li:not(:last-child)::after {content: \"\\00b7\"; padding: 0 .5ex}\n",
       "</style>\n",
       "<ol class=list-inline><li>100</li><li>18</li></ol>\n"
      ],
      "text/latex": [
       "\\begin{enumerate*}\n",
       "\\item 100\n",
       "\\item 18\n",
       "\\end{enumerate*}\n"
      ],
      "text/markdown": [
       "1. 100\n",
       "2. 18\n",
       "\n",
       "\n"
      ],
      "text/plain": [
       "[1] 100  18"
      ]
     },
     "metadata": {},
     "output_type": "display_data"
    }
   ],
   "source": [
    "dim(inc.counts)\n",
    "dim(skip.counts)\n",
    "dim(merged.table)"
   ]
  },
  {
   "cell_type": "markdown",
   "metadata": {},
   "source": [
    "## Save R objects"
   ]
  },
  {
   "cell_type": "code",
   "execution_count": 57,
   "metadata": {},
   "outputs": [
    {
     "data": {
      "text/html": [
       "TRUE"
      ],
      "text/latex": [
       "TRUE"
      ],
      "text/markdown": [
       "TRUE"
      ],
      "text/plain": [
       "[1] TRUE"
      ]
     },
     "metadata": {},
     "output_type": "display_data"
    },
    {
     "data": {
      "text/html": [
       "<style>\n",
       ".list-inline {list-style: none; margin:0; padding: 0}\n",
       ".list-inline>li {display: inline-block}\n",
       ".list-inline>li:not(:last-child)::after {content: \"\\00b7\"; padding: 0 .5ex}\n",
       "</style>\n",
       "<ol class=list-inline><li>'/mnt/shared/gcp-user/session_data/sbas/sbas-nf/papermill-notebooks'</li><li><span style=white-space:pre-wrap>'-rw-r--r-- 1 jovyan users 1483704 Jul  8 00:27 notebook.RData'</span></li></ol>\n"
      ],
      "text/latex": [
       "\\begin{enumerate*}\n",
       "\\item '/mnt/shared/gcp-user/session\\_data/sbas/sbas-nf/papermill-notebooks'\n",
       "\\item '-rw-r--r-- 1 jovyan users 1483704 Jul  8 00:27 notebook.RData'\n",
       "\\end{enumerate*}\n"
      ],
      "text/markdown": [
       "1. '/mnt/shared/gcp-user/session_data/sbas/sbas-nf/papermill-notebooks'\n",
       "2. <span style=white-space:pre-wrap>'-rw-r--r-- 1 jovyan users 1483704 Jul  8 00:27 notebook.RData'</span>\n",
       "\n",
       "\n"
      ],
      "text/plain": [
       "[1] \"/mnt/shared/gcp-user/session_data/sbas/sbas-nf/papermill-notebooks\"\n",
       "[2] \"-rw-r--r-- 1 jovyan users 1483704 Jul  8 00:27 notebook.RData\"     "
      ]
     },
     "metadata": {},
     "output_type": "display_data"
    }
   ],
   "source": [
    "save.image(file = \"notebook.RData\")\n",
    "file.exists(\"notebook.RData\")\n",
    "system(\"pwd && ls -l notebook.RData\", intern = TRUE)"
   ]
  },
  {
   "cell_type": "markdown",
   "metadata": {},
   "source": [
    "## Metadata\n",
    "\n",
    "For replicability and reproducibility purposes, we also print the following metadata:\n",
    "\n",
    "1. Checksums of **\"artefacts\"**, files generated during the analysis and stored in the folder directory **`data`**\n",
    "2. List of environment metadata, dependencies, versions of libraries using `utils::sessionInfo()` and [`devtools::session_info()`](https://devtools.r-lib.org/reference/session_info.html)"
   ]
  },
  {
   "cell_type": "markdown",
   "metadata": {},
   "source": [
    "### 1. Checksums with the sha256 algorithm"
   ]
  },
  {
   "cell_type": "code",
   "execution_count": 58,
   "metadata": {},
   "outputs": [
    {
     "name": "stderr",
     "output_type": "stream",
     "text": [
      "Generating sha256 checksums of the artefacts in the `..data/` directory .. \n",
      "\n"
     ]
    },
    {
     "data": {
      "text/html": [],
      "text/latex": [],
      "text/markdown": [],
      "text/plain": [
       "character(0)"
      ]
     },
     "metadata": {},
     "output_type": "display_data"
    },
    {
     "name": "stderr",
     "output_type": "stream",
     "text": [
      "Done!\n",
      "\n",
      "\n"
     ]
    },
    {
     "data": {
      "text/html": [
       "<table>\n",
       "<caption>A data.table: 46 × 2</caption>\n",
       "<thead>\n",
       "\t<tr><th scope=col>sha256sum</th><th scope=col>file</th></tr>\n",
       "\t<tr><th scope=col>&lt;chr&gt;</th><th scope=col>&lt;chr&gt;</th></tr>\n",
       "</thead>\n",
       "<tbody>\n",
       "\t<tr><td>ebf034c4717382745507dc9c06940cd04e3ef201f10683df321b851913e4dce5</td><td>./se_heart_left_ventricle_AS_model_B_sex_as_events.csv                 </td></tr>\n",
       "\t<tr><td>1c54995a1f326c3a253acb65930955db6420e31381d65a03c382453021001082</td><td>./se_adipose_visceral_omentum_AS_model_B_sex_as_events.csv             </td></tr>\n",
       "\t<tr><td>617428171c801be461b6d3cc3861cd81b25fb080495dd48e1c396926fa6b6d84</td><td>./se_brain_hippocampus_AS_model_B_sex_as_events.csv                    </td></tr>\n",
       "\t<tr><td>1b3e611864b8510866bb859190f2e00582c6997c6bf384b9f4fbbc8ef64de24a</td><td>./se_heart_atrial_appendage_AS_model_B_sex_as_events.csv               </td></tr>\n",
       "\t<tr><td>ad91ab7a7041c2f701de4164d64f67cd33d247c5d071cea72be8b0c80acada6e</td><td>./se_brain_nucleus_accumbens_basal_ganglia_AS_model_B_sex_as_events.csv</td></tr>\n",
       "\t<tr><td>c09fc7f68d4c4220108f63bccb0192cea26fabd25e57b7fae1cca9a2a2037b6d</td><td>./se_esophagus_muscularis_AS_model_B_sex_as_events.csv                 </td></tr>\n",
       "\t<tr><td>cbabb0187ae4a60c5e4799eca17c33fb5fcf6df90bd60a428e31e94576da0202</td><td>./se_skin_sun_exposed_lower_leg_AS_model_B_sex_as_events.csv           </td></tr>\n",
       "\t<tr><td>474240fce689c04b44fe7e7b2212cb667374aebc1c273b5ebf23c0016a74854f</td><td>./se_adrenal_gland_AS_model_B_sex_as_events.csv                        </td></tr>\n",
       "\t<tr><td>94f7d5c011b416d660c5f1f5ab249a0de0e8fe03dc3a75b59a6ccf3d6d39db09</td><td>./se_breast_mammary_tissue_AS_model_B_sex_as_events.csv                </td></tr>\n",
       "\t<tr><td>2d289d2f78b080085b03067d56ce02c488f9cc8c0408fd23dbb7116488ffbb67</td><td>./se_brain_hypothalamus_AS_model_B_sex_as_events.csv                   </td></tr>\n",
       "\t<tr><td>5206375ab73c206676555d9482460b6460098c09819c0c2a047f24f503885e12</td><td>./se_thyroid_AS_model_B_sex_as_events.csv                              </td></tr>\n",
       "\t<tr><td>dc8c01461ea8be1c7b3a7328f4a0102df237c5d67081a240747bafcaa8c041fb</td><td>./se_small_intestine_terminal_ileum_AS_model_B_sex_as_events.csv       </td></tr>\n",
       "\t<tr><td>5146c849c9354129590c59da5e6040a074523b4827d0975e3f5fa43737af7e9a</td><td>./README.md                                                            </td></tr>\n",
       "\t<tr><td>c3a7d207d4ed73a98bcfae42382d6f91901fcbf27aaf23c3a57271cd6f58bd29</td><td>./se_brain_cortex_AS_model_B_sex_as_events.csv                         </td></tr>\n",
       "\t<tr><td>9f365fc5c51f78952f29b8dbc3122ff7d188aa1ce9920f86ddfd70c669ccd4dc</td><td>./se_colon_transverse_AS_model_B_sex_as_events.csv                     </td></tr>\n",
       "\t<tr><td>6883ec2a6983cbf767642c52c6f5a9cc3b61bfb4c5400679b52c2459b5aec641</td><td>./se_spleen_AS_model_B_sex_as_events.csv                               </td></tr>\n",
       "\t<tr><td>fa34ff4f0c10e674af48782f10aeda26d684dd575ef37f106cbbb83eb8292d4b</td><td>./rmats_final.se.jc.sjc.txt                                            </td></tr>\n",
       "\t<tr><td>d1a361ccc5fa9a34df68bb0f17d73a70f3560e5916179a2c223c22122fbbc014</td><td>./se_cells_cultured_fibroblasts_AS_model_B_sex_as_events.csv           </td></tr>\n",
       "\t<tr><td>440f3669b823211d0f779b3fa9af592e1ba82bd10947c3af5fa7fda5a549c327</td><td>./se_stomach_AS_model_B_sex_as_events.csv                              </td></tr>\n",
       "\t<tr><td>13174e90dedd2f7aa4b987020c34be06fd79d77ab6ad86935243de07065dedd4</td><td>./se_muscle_skeletal_AS_model_B_sex_as_events.csv                      </td></tr>\n",
       "\t<tr><td>f9aed4cf888a19765e21d69ac89324a60c7201e87acd024edc958a09c6d00e9c</td><td>./data_bayesian_se_AS_model_B_sex_as_events.tar.gz                     </td></tr>\n",
       "\t<tr><td>57556d09209170b3a4b7b8dfac9c7294eeccb6bd4ecde8226b5fa1ad16a14d51</td><td>./se_cells_ebv_transformed_lymphocytes_AS_model_B_sex_as_events.csv    </td></tr>\n",
       "\t<tr><td>8f11d8827bdc7b2df7ef941105ffc9084426d90d35109695365925d2d4fea5f4</td><td>./se_whole_blood_AS_model_B_sex_as_events.csv                          </td></tr>\n",
       "\t<tr><td>b85d30bc9f3f6589fbe125aad37ac78fbf57f7ccfb66c5e98f189b93aae65bcc</td><td>./se_skin_not_sun_exposed_suprapubic_AS_model_B_sex_as_events.csv      </td></tr>\n",
       "\t<tr><td>f4273ded2d9b657306162cf2eba43ad4af9ef112415b4304f2ea411b52f67bd6</td><td>./se_brain_frontal_cortex_ba_9_AS_model_B_sex_as_events.csv            </td></tr>\n",
       "\t<tr><td>f03bb213bfb8334e9b07e88c84a44a8d22d54b218b982eff6596530aa4cbe734</td><td>./se_artery_coronary_AS_model_B_sex_as_events.csv                      </td></tr>\n",
       "\t<tr><td>3b0af9ef0297796fc9e403d30723a550997f471d4fc4242457b566653216a503</td><td>./se_brain_spinal_cord_cervical_c_1_AS_model_B_sex_as_events.csv       </td></tr>\n",
       "\t<tr><td>272abed55d26f7de1cf5aa489b6f22fa9368bb20730a72e20e79f2f3376cb90a</td><td>./se_brain_cerebellum_AS_model_B_sex_as_events.csv                     </td></tr>\n",
       "\t<tr><td>ec38fac35613da014f73140da90c95294ba52c6e7923e380a5236762f1ca3793</td><td>./GTEx_Analysis_2017-06-05_v8_RNASeQCv1.1.9_gene_tpm.gct               </td></tr>\n",
       "\t<tr><td>293537dcc57c27f7ca254ac9e7fbe104a0cf56c7108f87ed3186a81bf3056cec</td><td>./rmats_final.se.jc.ijc.txt                                            </td></tr>\n",
       "\t<tr><td>f60654d2156ceb87c043d2f9bdabba466efbb2fe7265f2358ac81a60e333c133</td><td>./se_brain_caudate_basal_ganglia_AS_model_B_sex_as_events.csv          </td></tr>\n",
       "\t<tr><td>8e6158957d9ae3cbf8eff1c4169cf04694dc11063fbbcc07186def80b5573f03</td><td>./se_adipose_subcutaneous_AS_model_B_sex_as_events.csv                 </td></tr>\n",
       "\t<tr><td>b773adc3cc9528063be7a96664f3c978bc616e2c77613a2c53df5b283b520212</td><td>./se_esophagus_gastroesophageal_junction_AS_model_B_sex_as_events.csv  </td></tr>\n",
       "\t<tr><td>942f241524983ef1b9ff188f3a402b898b29c7aca936b35ea8fcb708426875e4</td><td>./se_brain_putamen_basal_ganglia_AS_model_B_sex_as_events.csv          </td></tr>\n",
       "\t<tr><td>c908fc4bcf285bf0f0b542e13e68262ee3ef3ac5a9142782acce80ae36ef60c1</td><td>./se_pituitary_AS_model_B_sex_as_events.csv                            </td></tr>\n",
       "\t<tr><td>df1bee0d60dc65f3efdd8bcf08c6bc00e6f6783af1cc4ff7c2bfba6849bd5938</td><td>./se_esophagus_mucosa_AS_model_B_sex_as_events.csv                     </td></tr>\n",
       "\t<tr><td>0e2e0f919f3b9c80ba91ed734ff2d4b39b0f8101020b2806c2613f0779961f20</td><td>./se_artery_aorta_AS_model_B_sex_as_events.csv                         </td></tr>\n",
       "\t<tr><td>46fce29eb83915e8c09d1ae12e3a9d67b184501b732386df07fd2af2e9f0d71d</td><td>./se_brain_cerebellar_hemisphere_AS_model_B_sex_as_events.csv          </td></tr>\n",
       "\t<tr><td>dc0fd70bd49c08fbcc27c543a7623556c3226a3dab4a1a8ebea0ef088f5c0e3c</td><td>./se_nerve_tibial_AS_model_B_sex_as_events.csv                         </td></tr>\n",
       "\t<tr><td>594a532e4cfe7fb32659f22ed5fbf28ee6538c979cb01e8d98e43a64da14a214</td><td>./se_colon_sigmoid_AS_model_B_sex_as_events.csv                        </td></tr>\n",
       "\t<tr><td>22cb3faa337ae24b7b423a985fd2056047400eccb83b716eff2e33cce9159e53</td><td>./fromGTF.SE.txt                                                       </td></tr>\n",
       "\t<tr><td>fba5accda69068cc93b2e04a5ee6b9d8a1bdb0766a5517b74532880f2c1a6715</td><td>./se_pancreas_AS_model_B_sex_as_events.csv                             </td></tr>\n",
       "\t<tr><td>1a16ffb17ed0929304626d42d5e70bb8495f5ae2e4ea026a98cabc2e6a6c261b</td><td>./se_liver_AS_model_B_sex_as_events.csv                                </td></tr>\n",
       "\t<tr><td>6a6f8d37dde2716c6289535b2058d68c4959672043fa9c532ef623e91a5a6975</td><td>./srr_pdata.csv                                                        </td></tr>\n",
       "\t<tr><td>0c69491e4631181313a7b3f523c86f3a2fa22911ed384333a1cb5f3efaf8a58f</td><td>./se_lung_AS_model_B_sex_as_events.csv                                 </td></tr>\n",
       "\t<tr><td>236285380b86b2a05105b44925965c08e1b488196e545ab04e6567a93ffe39c6</td><td>./se_artery_tibial_AS_model_B_sex_as_events.csv                        </td></tr>\n",
       "</tbody>\n",
       "</table>\n"
      ],
      "text/latex": [
       "A data.table: 46 × 2\n",
       "\\begin{tabular}{ll}\n",
       " sha256sum & file\\\\\n",
       " <chr> & <chr>\\\\\n",
       "\\hline\n",
       "\t ebf034c4717382745507dc9c06940cd04e3ef201f10683df321b851913e4dce5 & ./se\\_heart\\_left\\_ventricle\\_AS\\_model\\_B\\_sex\\_as\\_events.csv                 \\\\\n",
       "\t 1c54995a1f326c3a253acb65930955db6420e31381d65a03c382453021001082 & ./se\\_adipose\\_visceral\\_omentum\\_AS\\_model\\_B\\_sex\\_as\\_events.csv             \\\\\n",
       "\t 617428171c801be461b6d3cc3861cd81b25fb080495dd48e1c396926fa6b6d84 & ./se\\_brain\\_hippocampus\\_AS\\_model\\_B\\_sex\\_as\\_events.csv                    \\\\\n",
       "\t 1b3e611864b8510866bb859190f2e00582c6997c6bf384b9f4fbbc8ef64de24a & ./se\\_heart\\_atrial\\_appendage\\_AS\\_model\\_B\\_sex\\_as\\_events.csv               \\\\\n",
       "\t ad91ab7a7041c2f701de4164d64f67cd33d247c5d071cea72be8b0c80acada6e & ./se\\_brain\\_nucleus\\_accumbens\\_basal\\_ganglia\\_AS\\_model\\_B\\_sex\\_as\\_events.csv\\\\\n",
       "\t c09fc7f68d4c4220108f63bccb0192cea26fabd25e57b7fae1cca9a2a2037b6d & ./se\\_esophagus\\_muscularis\\_AS\\_model\\_B\\_sex\\_as\\_events.csv                 \\\\\n",
       "\t cbabb0187ae4a60c5e4799eca17c33fb5fcf6df90bd60a428e31e94576da0202 & ./se\\_skin\\_sun\\_exposed\\_lower\\_leg\\_AS\\_model\\_B\\_sex\\_as\\_events.csv           \\\\\n",
       "\t 474240fce689c04b44fe7e7b2212cb667374aebc1c273b5ebf23c0016a74854f & ./se\\_adrenal\\_gland\\_AS\\_model\\_B\\_sex\\_as\\_events.csv                        \\\\\n",
       "\t 94f7d5c011b416d660c5f1f5ab249a0de0e8fe03dc3a75b59a6ccf3d6d39db09 & ./se\\_breast\\_mammary\\_tissue\\_AS\\_model\\_B\\_sex\\_as\\_events.csv                \\\\\n",
       "\t 2d289d2f78b080085b03067d56ce02c488f9cc8c0408fd23dbb7116488ffbb67 & ./se\\_brain\\_hypothalamus\\_AS\\_model\\_B\\_sex\\_as\\_events.csv                   \\\\\n",
       "\t 5206375ab73c206676555d9482460b6460098c09819c0c2a047f24f503885e12 & ./se\\_thyroid\\_AS\\_model\\_B\\_sex\\_as\\_events.csv                              \\\\\n",
       "\t dc8c01461ea8be1c7b3a7328f4a0102df237c5d67081a240747bafcaa8c041fb & ./se\\_small\\_intestine\\_terminal\\_ileum\\_AS\\_model\\_B\\_sex\\_as\\_events.csv       \\\\\n",
       "\t 5146c849c9354129590c59da5e6040a074523b4827d0975e3f5fa43737af7e9a & ./README.md                                                            \\\\\n",
       "\t c3a7d207d4ed73a98bcfae42382d6f91901fcbf27aaf23c3a57271cd6f58bd29 & ./se\\_brain\\_cortex\\_AS\\_model\\_B\\_sex\\_as\\_events.csv                         \\\\\n",
       "\t 9f365fc5c51f78952f29b8dbc3122ff7d188aa1ce9920f86ddfd70c669ccd4dc & ./se\\_colon\\_transverse\\_AS\\_model\\_B\\_sex\\_as\\_events.csv                     \\\\\n",
       "\t 6883ec2a6983cbf767642c52c6f5a9cc3b61bfb4c5400679b52c2459b5aec641 & ./se\\_spleen\\_AS\\_model\\_B\\_sex\\_as\\_events.csv                               \\\\\n",
       "\t fa34ff4f0c10e674af48782f10aeda26d684dd575ef37f106cbbb83eb8292d4b & ./rmats\\_final.se.jc.sjc.txt                                            \\\\\n",
       "\t d1a361ccc5fa9a34df68bb0f17d73a70f3560e5916179a2c223c22122fbbc014 & ./se\\_cells\\_cultured\\_fibroblasts\\_AS\\_model\\_B\\_sex\\_as\\_events.csv           \\\\\n",
       "\t 440f3669b823211d0f779b3fa9af592e1ba82bd10947c3af5fa7fda5a549c327 & ./se\\_stomach\\_AS\\_model\\_B\\_sex\\_as\\_events.csv                              \\\\\n",
       "\t 13174e90dedd2f7aa4b987020c34be06fd79d77ab6ad86935243de07065dedd4 & ./se\\_muscle\\_skeletal\\_AS\\_model\\_B\\_sex\\_as\\_events.csv                      \\\\\n",
       "\t f9aed4cf888a19765e21d69ac89324a60c7201e87acd024edc958a09c6d00e9c & ./data\\_bayesian\\_se\\_AS\\_model\\_B\\_sex\\_as\\_events.tar.gz                     \\\\\n",
       "\t 57556d09209170b3a4b7b8dfac9c7294eeccb6bd4ecde8226b5fa1ad16a14d51 & ./se\\_cells\\_ebv\\_transformed\\_lymphocytes\\_AS\\_model\\_B\\_sex\\_as\\_events.csv    \\\\\n",
       "\t 8f11d8827bdc7b2df7ef941105ffc9084426d90d35109695365925d2d4fea5f4 & ./se\\_whole\\_blood\\_AS\\_model\\_B\\_sex\\_as\\_events.csv                          \\\\\n",
       "\t b85d30bc9f3f6589fbe125aad37ac78fbf57f7ccfb66c5e98f189b93aae65bcc & ./se\\_skin\\_not\\_sun\\_exposed\\_suprapubic\\_AS\\_model\\_B\\_sex\\_as\\_events.csv      \\\\\n",
       "\t f4273ded2d9b657306162cf2eba43ad4af9ef112415b4304f2ea411b52f67bd6 & ./se\\_brain\\_frontal\\_cortex\\_ba\\_9\\_AS\\_model\\_B\\_sex\\_as\\_events.csv            \\\\\n",
       "\t f03bb213bfb8334e9b07e88c84a44a8d22d54b218b982eff6596530aa4cbe734 & ./se\\_artery\\_coronary\\_AS\\_model\\_B\\_sex\\_as\\_events.csv                      \\\\\n",
       "\t 3b0af9ef0297796fc9e403d30723a550997f471d4fc4242457b566653216a503 & ./se\\_brain\\_spinal\\_cord\\_cervical\\_c\\_1\\_AS\\_model\\_B\\_sex\\_as\\_events.csv       \\\\\n",
       "\t 272abed55d26f7de1cf5aa489b6f22fa9368bb20730a72e20e79f2f3376cb90a & ./se\\_brain\\_cerebellum\\_AS\\_model\\_B\\_sex\\_as\\_events.csv                     \\\\\n",
       "\t ec38fac35613da014f73140da90c95294ba52c6e7923e380a5236762f1ca3793 & ./GTEx\\_Analysis\\_2017-06-05\\_v8\\_RNASeQCv1.1.9\\_gene\\_tpm.gct               \\\\\n",
       "\t 293537dcc57c27f7ca254ac9e7fbe104a0cf56c7108f87ed3186a81bf3056cec & ./rmats\\_final.se.jc.ijc.txt                                            \\\\\n",
       "\t f60654d2156ceb87c043d2f9bdabba466efbb2fe7265f2358ac81a60e333c133 & ./se\\_brain\\_caudate\\_basal\\_ganglia\\_AS\\_model\\_B\\_sex\\_as\\_events.csv          \\\\\n",
       "\t 8e6158957d9ae3cbf8eff1c4169cf04694dc11063fbbcc07186def80b5573f03 & ./se\\_adipose\\_subcutaneous\\_AS\\_model\\_B\\_sex\\_as\\_events.csv                 \\\\\n",
       "\t b773adc3cc9528063be7a96664f3c978bc616e2c77613a2c53df5b283b520212 & ./se\\_esophagus\\_gastroesophageal\\_junction\\_AS\\_model\\_B\\_sex\\_as\\_events.csv  \\\\\n",
       "\t 942f241524983ef1b9ff188f3a402b898b29c7aca936b35ea8fcb708426875e4 & ./se\\_brain\\_putamen\\_basal\\_ganglia\\_AS\\_model\\_B\\_sex\\_as\\_events.csv          \\\\\n",
       "\t c908fc4bcf285bf0f0b542e13e68262ee3ef3ac5a9142782acce80ae36ef60c1 & ./se\\_pituitary\\_AS\\_model\\_B\\_sex\\_as\\_events.csv                            \\\\\n",
       "\t df1bee0d60dc65f3efdd8bcf08c6bc00e6f6783af1cc4ff7c2bfba6849bd5938 & ./se\\_esophagus\\_mucosa\\_AS\\_model\\_B\\_sex\\_as\\_events.csv                     \\\\\n",
       "\t 0e2e0f919f3b9c80ba91ed734ff2d4b39b0f8101020b2806c2613f0779961f20 & ./se\\_artery\\_aorta\\_AS\\_model\\_B\\_sex\\_as\\_events.csv                         \\\\\n",
       "\t 46fce29eb83915e8c09d1ae12e3a9d67b184501b732386df07fd2af2e9f0d71d & ./se\\_brain\\_cerebellar\\_hemisphere\\_AS\\_model\\_B\\_sex\\_as\\_events.csv          \\\\\n",
       "\t dc0fd70bd49c08fbcc27c543a7623556c3226a3dab4a1a8ebea0ef088f5c0e3c & ./se\\_nerve\\_tibial\\_AS\\_model\\_B\\_sex\\_as\\_events.csv                         \\\\\n",
       "\t 594a532e4cfe7fb32659f22ed5fbf28ee6538c979cb01e8d98e43a64da14a214 & ./se\\_colon\\_sigmoid\\_AS\\_model\\_B\\_sex\\_as\\_events.csv                        \\\\\n",
       "\t 22cb3faa337ae24b7b423a985fd2056047400eccb83b716eff2e33cce9159e53 & ./fromGTF.SE.txt                                                       \\\\\n",
       "\t fba5accda69068cc93b2e04a5ee6b9d8a1bdb0766a5517b74532880f2c1a6715 & ./se\\_pancreas\\_AS\\_model\\_B\\_sex\\_as\\_events.csv                             \\\\\n",
       "\t 1a16ffb17ed0929304626d42d5e70bb8495f5ae2e4ea026a98cabc2e6a6c261b & ./se\\_liver\\_AS\\_model\\_B\\_sex\\_as\\_events.csv                                \\\\\n",
       "\t 6a6f8d37dde2716c6289535b2058d68c4959672043fa9c532ef623e91a5a6975 & ./srr\\_pdata.csv                                                        \\\\\n",
       "\t 0c69491e4631181313a7b3f523c86f3a2fa22911ed384333a1cb5f3efaf8a58f & ./se\\_lung\\_AS\\_model\\_B\\_sex\\_as\\_events.csv                                 \\\\\n",
       "\t 236285380b86b2a05105b44925965c08e1b488196e545ab04e6567a93ffe39c6 & ./se\\_artery\\_tibial\\_AS\\_model\\_B\\_sex\\_as\\_events.csv                        \\\\\n",
       "\\end{tabular}\n"
      ],
      "text/markdown": [
       "\n",
       "A data.table: 46 × 2\n",
       "\n",
       "| sha256sum &lt;chr&gt; | file &lt;chr&gt; |\n",
       "|---|---|\n",
       "| ebf034c4717382745507dc9c06940cd04e3ef201f10683df321b851913e4dce5 | ./se_heart_left_ventricle_AS_model_B_sex_as_events.csv                  |\n",
       "| 1c54995a1f326c3a253acb65930955db6420e31381d65a03c382453021001082 | ./se_adipose_visceral_omentum_AS_model_B_sex_as_events.csv              |\n",
       "| 617428171c801be461b6d3cc3861cd81b25fb080495dd48e1c396926fa6b6d84 | ./se_brain_hippocampus_AS_model_B_sex_as_events.csv                     |\n",
       "| 1b3e611864b8510866bb859190f2e00582c6997c6bf384b9f4fbbc8ef64de24a | ./se_heart_atrial_appendage_AS_model_B_sex_as_events.csv                |\n",
       "| ad91ab7a7041c2f701de4164d64f67cd33d247c5d071cea72be8b0c80acada6e | ./se_brain_nucleus_accumbens_basal_ganglia_AS_model_B_sex_as_events.csv |\n",
       "| c09fc7f68d4c4220108f63bccb0192cea26fabd25e57b7fae1cca9a2a2037b6d | ./se_esophagus_muscularis_AS_model_B_sex_as_events.csv                  |\n",
       "| cbabb0187ae4a60c5e4799eca17c33fb5fcf6df90bd60a428e31e94576da0202 | ./se_skin_sun_exposed_lower_leg_AS_model_B_sex_as_events.csv            |\n",
       "| 474240fce689c04b44fe7e7b2212cb667374aebc1c273b5ebf23c0016a74854f | ./se_adrenal_gland_AS_model_B_sex_as_events.csv                         |\n",
       "| 94f7d5c011b416d660c5f1f5ab249a0de0e8fe03dc3a75b59a6ccf3d6d39db09 | ./se_breast_mammary_tissue_AS_model_B_sex_as_events.csv                 |\n",
       "| 2d289d2f78b080085b03067d56ce02c488f9cc8c0408fd23dbb7116488ffbb67 | ./se_brain_hypothalamus_AS_model_B_sex_as_events.csv                    |\n",
       "| 5206375ab73c206676555d9482460b6460098c09819c0c2a047f24f503885e12 | ./se_thyroid_AS_model_B_sex_as_events.csv                               |\n",
       "| dc8c01461ea8be1c7b3a7328f4a0102df237c5d67081a240747bafcaa8c041fb | ./se_small_intestine_terminal_ileum_AS_model_B_sex_as_events.csv        |\n",
       "| 5146c849c9354129590c59da5e6040a074523b4827d0975e3f5fa43737af7e9a | ./README.md                                                             |\n",
       "| c3a7d207d4ed73a98bcfae42382d6f91901fcbf27aaf23c3a57271cd6f58bd29 | ./se_brain_cortex_AS_model_B_sex_as_events.csv                          |\n",
       "| 9f365fc5c51f78952f29b8dbc3122ff7d188aa1ce9920f86ddfd70c669ccd4dc | ./se_colon_transverse_AS_model_B_sex_as_events.csv                      |\n",
       "| 6883ec2a6983cbf767642c52c6f5a9cc3b61bfb4c5400679b52c2459b5aec641 | ./se_spleen_AS_model_B_sex_as_events.csv                                |\n",
       "| fa34ff4f0c10e674af48782f10aeda26d684dd575ef37f106cbbb83eb8292d4b | ./rmats_final.se.jc.sjc.txt                                             |\n",
       "| d1a361ccc5fa9a34df68bb0f17d73a70f3560e5916179a2c223c22122fbbc014 | ./se_cells_cultured_fibroblasts_AS_model_B_sex_as_events.csv            |\n",
       "| 440f3669b823211d0f779b3fa9af592e1ba82bd10947c3af5fa7fda5a549c327 | ./se_stomach_AS_model_B_sex_as_events.csv                               |\n",
       "| 13174e90dedd2f7aa4b987020c34be06fd79d77ab6ad86935243de07065dedd4 | ./se_muscle_skeletal_AS_model_B_sex_as_events.csv                       |\n",
       "| f9aed4cf888a19765e21d69ac89324a60c7201e87acd024edc958a09c6d00e9c | ./data_bayesian_se_AS_model_B_sex_as_events.tar.gz                      |\n",
       "| 57556d09209170b3a4b7b8dfac9c7294eeccb6bd4ecde8226b5fa1ad16a14d51 | ./se_cells_ebv_transformed_lymphocytes_AS_model_B_sex_as_events.csv     |\n",
       "| 8f11d8827bdc7b2df7ef941105ffc9084426d90d35109695365925d2d4fea5f4 | ./se_whole_blood_AS_model_B_sex_as_events.csv                           |\n",
       "| b85d30bc9f3f6589fbe125aad37ac78fbf57f7ccfb66c5e98f189b93aae65bcc | ./se_skin_not_sun_exposed_suprapubic_AS_model_B_sex_as_events.csv       |\n",
       "| f4273ded2d9b657306162cf2eba43ad4af9ef112415b4304f2ea411b52f67bd6 | ./se_brain_frontal_cortex_ba_9_AS_model_B_sex_as_events.csv             |\n",
       "| f03bb213bfb8334e9b07e88c84a44a8d22d54b218b982eff6596530aa4cbe734 | ./se_artery_coronary_AS_model_B_sex_as_events.csv                       |\n",
       "| 3b0af9ef0297796fc9e403d30723a550997f471d4fc4242457b566653216a503 | ./se_brain_spinal_cord_cervical_c_1_AS_model_B_sex_as_events.csv        |\n",
       "| 272abed55d26f7de1cf5aa489b6f22fa9368bb20730a72e20e79f2f3376cb90a | ./se_brain_cerebellum_AS_model_B_sex_as_events.csv                      |\n",
       "| ec38fac35613da014f73140da90c95294ba52c6e7923e380a5236762f1ca3793 | ./GTEx_Analysis_2017-06-05_v8_RNASeQCv1.1.9_gene_tpm.gct                |\n",
       "| 293537dcc57c27f7ca254ac9e7fbe104a0cf56c7108f87ed3186a81bf3056cec | ./rmats_final.se.jc.ijc.txt                                             |\n",
       "| f60654d2156ceb87c043d2f9bdabba466efbb2fe7265f2358ac81a60e333c133 | ./se_brain_caudate_basal_ganglia_AS_model_B_sex_as_events.csv           |\n",
       "| 8e6158957d9ae3cbf8eff1c4169cf04694dc11063fbbcc07186def80b5573f03 | ./se_adipose_subcutaneous_AS_model_B_sex_as_events.csv                  |\n",
       "| b773adc3cc9528063be7a96664f3c978bc616e2c77613a2c53df5b283b520212 | ./se_esophagus_gastroesophageal_junction_AS_model_B_sex_as_events.csv   |\n",
       "| 942f241524983ef1b9ff188f3a402b898b29c7aca936b35ea8fcb708426875e4 | ./se_brain_putamen_basal_ganglia_AS_model_B_sex_as_events.csv           |\n",
       "| c908fc4bcf285bf0f0b542e13e68262ee3ef3ac5a9142782acce80ae36ef60c1 | ./se_pituitary_AS_model_B_sex_as_events.csv                             |\n",
       "| df1bee0d60dc65f3efdd8bcf08c6bc00e6f6783af1cc4ff7c2bfba6849bd5938 | ./se_esophagus_mucosa_AS_model_B_sex_as_events.csv                      |\n",
       "| 0e2e0f919f3b9c80ba91ed734ff2d4b39b0f8101020b2806c2613f0779961f20 | ./se_artery_aorta_AS_model_B_sex_as_events.csv                          |\n",
       "| 46fce29eb83915e8c09d1ae12e3a9d67b184501b732386df07fd2af2e9f0d71d | ./se_brain_cerebellar_hemisphere_AS_model_B_sex_as_events.csv           |\n",
       "| dc0fd70bd49c08fbcc27c543a7623556c3226a3dab4a1a8ebea0ef088f5c0e3c | ./se_nerve_tibial_AS_model_B_sex_as_events.csv                          |\n",
       "| 594a532e4cfe7fb32659f22ed5fbf28ee6538c979cb01e8d98e43a64da14a214 | ./se_colon_sigmoid_AS_model_B_sex_as_events.csv                         |\n",
       "| 22cb3faa337ae24b7b423a985fd2056047400eccb83b716eff2e33cce9159e53 | ./fromGTF.SE.txt                                                        |\n",
       "| fba5accda69068cc93b2e04a5ee6b9d8a1bdb0766a5517b74532880f2c1a6715 | ./se_pancreas_AS_model_B_sex_as_events.csv                              |\n",
       "| 1a16ffb17ed0929304626d42d5e70bb8495f5ae2e4ea026a98cabc2e6a6c261b | ./se_liver_AS_model_B_sex_as_events.csv                                 |\n",
       "| 6a6f8d37dde2716c6289535b2058d68c4959672043fa9c532ef623e91a5a6975 | ./srr_pdata.csv                                                         |\n",
       "| 0c69491e4631181313a7b3f523c86f3a2fa22911ed384333a1cb5f3efaf8a58f | ./se_lung_AS_model_B_sex_as_events.csv                                  |\n",
       "| 236285380b86b2a05105b44925965c08e1b488196e545ab04e6567a93ffe39c6 | ./se_artery_tibial_AS_model_B_sex_as_events.csv                         |\n",
       "\n"
      ],
      "text/plain": [
       "   sha256sum                                                       \n",
       "1  ebf034c4717382745507dc9c06940cd04e3ef201f10683df321b851913e4dce5\n",
       "2  1c54995a1f326c3a253acb65930955db6420e31381d65a03c382453021001082\n",
       "3  617428171c801be461b6d3cc3861cd81b25fb080495dd48e1c396926fa6b6d84\n",
       "4  1b3e611864b8510866bb859190f2e00582c6997c6bf384b9f4fbbc8ef64de24a\n",
       "5  ad91ab7a7041c2f701de4164d64f67cd33d247c5d071cea72be8b0c80acada6e\n",
       "6  c09fc7f68d4c4220108f63bccb0192cea26fabd25e57b7fae1cca9a2a2037b6d\n",
       "7  cbabb0187ae4a60c5e4799eca17c33fb5fcf6df90bd60a428e31e94576da0202\n",
       "8  474240fce689c04b44fe7e7b2212cb667374aebc1c273b5ebf23c0016a74854f\n",
       "9  94f7d5c011b416d660c5f1f5ab249a0de0e8fe03dc3a75b59a6ccf3d6d39db09\n",
       "10 2d289d2f78b080085b03067d56ce02c488f9cc8c0408fd23dbb7116488ffbb67\n",
       "11 5206375ab73c206676555d9482460b6460098c09819c0c2a047f24f503885e12\n",
       "12 dc8c01461ea8be1c7b3a7328f4a0102df237c5d67081a240747bafcaa8c041fb\n",
       "13 5146c849c9354129590c59da5e6040a074523b4827d0975e3f5fa43737af7e9a\n",
       "14 c3a7d207d4ed73a98bcfae42382d6f91901fcbf27aaf23c3a57271cd6f58bd29\n",
       "15 9f365fc5c51f78952f29b8dbc3122ff7d188aa1ce9920f86ddfd70c669ccd4dc\n",
       "16 6883ec2a6983cbf767642c52c6f5a9cc3b61bfb4c5400679b52c2459b5aec641\n",
       "17 fa34ff4f0c10e674af48782f10aeda26d684dd575ef37f106cbbb83eb8292d4b\n",
       "18 d1a361ccc5fa9a34df68bb0f17d73a70f3560e5916179a2c223c22122fbbc014\n",
       "19 440f3669b823211d0f779b3fa9af592e1ba82bd10947c3af5fa7fda5a549c327\n",
       "20 13174e90dedd2f7aa4b987020c34be06fd79d77ab6ad86935243de07065dedd4\n",
       "21 f9aed4cf888a19765e21d69ac89324a60c7201e87acd024edc958a09c6d00e9c\n",
       "22 57556d09209170b3a4b7b8dfac9c7294eeccb6bd4ecde8226b5fa1ad16a14d51\n",
       "23 8f11d8827bdc7b2df7ef941105ffc9084426d90d35109695365925d2d4fea5f4\n",
       "24 b85d30bc9f3f6589fbe125aad37ac78fbf57f7ccfb66c5e98f189b93aae65bcc\n",
       "25 f4273ded2d9b657306162cf2eba43ad4af9ef112415b4304f2ea411b52f67bd6\n",
       "26 f03bb213bfb8334e9b07e88c84a44a8d22d54b218b982eff6596530aa4cbe734\n",
       "27 3b0af9ef0297796fc9e403d30723a550997f471d4fc4242457b566653216a503\n",
       "28 272abed55d26f7de1cf5aa489b6f22fa9368bb20730a72e20e79f2f3376cb90a\n",
       "29 ec38fac35613da014f73140da90c95294ba52c6e7923e380a5236762f1ca3793\n",
       "30 293537dcc57c27f7ca254ac9e7fbe104a0cf56c7108f87ed3186a81bf3056cec\n",
       "31 f60654d2156ceb87c043d2f9bdabba466efbb2fe7265f2358ac81a60e333c133\n",
       "32 8e6158957d9ae3cbf8eff1c4169cf04694dc11063fbbcc07186def80b5573f03\n",
       "33 b773adc3cc9528063be7a96664f3c978bc616e2c77613a2c53df5b283b520212\n",
       "34 942f241524983ef1b9ff188f3a402b898b29c7aca936b35ea8fcb708426875e4\n",
       "35 c908fc4bcf285bf0f0b542e13e68262ee3ef3ac5a9142782acce80ae36ef60c1\n",
       "36 df1bee0d60dc65f3efdd8bcf08c6bc00e6f6783af1cc4ff7c2bfba6849bd5938\n",
       "37 0e2e0f919f3b9c80ba91ed734ff2d4b39b0f8101020b2806c2613f0779961f20\n",
       "38 46fce29eb83915e8c09d1ae12e3a9d67b184501b732386df07fd2af2e9f0d71d\n",
       "39 dc0fd70bd49c08fbcc27c543a7623556c3226a3dab4a1a8ebea0ef088f5c0e3c\n",
       "40 594a532e4cfe7fb32659f22ed5fbf28ee6538c979cb01e8d98e43a64da14a214\n",
       "41 22cb3faa337ae24b7b423a985fd2056047400eccb83b716eff2e33cce9159e53\n",
       "42 fba5accda69068cc93b2e04a5ee6b9d8a1bdb0766a5517b74532880f2c1a6715\n",
       "43 1a16ffb17ed0929304626d42d5e70bb8495f5ae2e4ea026a98cabc2e6a6c261b\n",
       "44 6a6f8d37dde2716c6289535b2058d68c4959672043fa9c532ef623e91a5a6975\n",
       "45 0c69491e4631181313a7b3f523c86f3a2fa22911ed384333a1cb5f3efaf8a58f\n",
       "46 236285380b86b2a05105b44925965c08e1b488196e545ab04e6567a93ffe39c6\n",
       "   file                                                                   \n",
       "1  ./se_heart_left_ventricle_AS_model_B_sex_as_events.csv                 \n",
       "2  ./se_adipose_visceral_omentum_AS_model_B_sex_as_events.csv             \n",
       "3  ./se_brain_hippocampus_AS_model_B_sex_as_events.csv                    \n",
       "4  ./se_heart_atrial_appendage_AS_model_B_sex_as_events.csv               \n",
       "5  ./se_brain_nucleus_accumbens_basal_ganglia_AS_model_B_sex_as_events.csv\n",
       "6  ./se_esophagus_muscularis_AS_model_B_sex_as_events.csv                 \n",
       "7  ./se_skin_sun_exposed_lower_leg_AS_model_B_sex_as_events.csv           \n",
       "8  ./se_adrenal_gland_AS_model_B_sex_as_events.csv                        \n",
       "9  ./se_breast_mammary_tissue_AS_model_B_sex_as_events.csv                \n",
       "10 ./se_brain_hypothalamus_AS_model_B_sex_as_events.csv                   \n",
       "11 ./se_thyroid_AS_model_B_sex_as_events.csv                              \n",
       "12 ./se_small_intestine_terminal_ileum_AS_model_B_sex_as_events.csv       \n",
       "13 ./README.md                                                            \n",
       "14 ./se_brain_cortex_AS_model_B_sex_as_events.csv                         \n",
       "15 ./se_colon_transverse_AS_model_B_sex_as_events.csv                     \n",
       "16 ./se_spleen_AS_model_B_sex_as_events.csv                               \n",
       "17 ./rmats_final.se.jc.sjc.txt                                            \n",
       "18 ./se_cells_cultured_fibroblasts_AS_model_B_sex_as_events.csv           \n",
       "19 ./se_stomach_AS_model_B_sex_as_events.csv                              \n",
       "20 ./se_muscle_skeletal_AS_model_B_sex_as_events.csv                      \n",
       "21 ./data_bayesian_se_AS_model_B_sex_as_events.tar.gz                     \n",
       "22 ./se_cells_ebv_transformed_lymphocytes_AS_model_B_sex_as_events.csv    \n",
       "23 ./se_whole_blood_AS_model_B_sex_as_events.csv                          \n",
       "24 ./se_skin_not_sun_exposed_suprapubic_AS_model_B_sex_as_events.csv      \n",
       "25 ./se_brain_frontal_cortex_ba_9_AS_model_B_sex_as_events.csv            \n",
       "26 ./se_artery_coronary_AS_model_B_sex_as_events.csv                      \n",
       "27 ./se_brain_spinal_cord_cervical_c_1_AS_model_B_sex_as_events.csv       \n",
       "28 ./se_brain_cerebellum_AS_model_B_sex_as_events.csv                     \n",
       "29 ./GTEx_Analysis_2017-06-05_v8_RNASeQCv1.1.9_gene_tpm.gct               \n",
       "30 ./rmats_final.se.jc.ijc.txt                                            \n",
       "31 ./se_brain_caudate_basal_ganglia_AS_model_B_sex_as_events.csv          \n",
       "32 ./se_adipose_subcutaneous_AS_model_B_sex_as_events.csv                 \n",
       "33 ./se_esophagus_gastroesophageal_junction_AS_model_B_sex_as_events.csv  \n",
       "34 ./se_brain_putamen_basal_ganglia_AS_model_B_sex_as_events.csv          \n",
       "35 ./se_pituitary_AS_model_B_sex_as_events.csv                            \n",
       "36 ./se_esophagus_mucosa_AS_model_B_sex_as_events.csv                     \n",
       "37 ./se_artery_aorta_AS_model_B_sex_as_events.csv                         \n",
       "38 ./se_brain_cerebellar_hemisphere_AS_model_B_sex_as_events.csv          \n",
       "39 ./se_nerve_tibial_AS_model_B_sex_as_events.csv                         \n",
       "40 ./se_colon_sigmoid_AS_model_B_sex_as_events.csv                        \n",
       "41 ./fromGTF.SE.txt                                                       \n",
       "42 ./se_pancreas_AS_model_B_sex_as_events.csv                             \n",
       "43 ./se_liver_AS_model_B_sex_as_events.csv                                \n",
       "44 ./srr_pdata.csv                                                        \n",
       "45 ./se_lung_AS_model_B_sex_as_events.csv                                 \n",
       "46 ./se_artery_tibial_AS_model_B_sex_as_events.csv                        "
      ]
     },
     "metadata": {},
     "output_type": "display_data"
    }
   ],
   "source": [
    "figure_id       <- \"bayesian-modeling\"\n",
    "\n",
    "message(\"Generating sha256 checksums of the artefacts in the `..data/` directory .. \")\n",
    "system(paste0(\"cd ../data/ && find . -type f -exec sha256sum {} \\\\; > ../metadata/\",  figure_id, \"_sha256sums.txt\"), intern = TRUE)\n",
    "message(\"Done!\\n\")\n",
    "\n",
    "data.table::fread(paste0(\"../metadata/\", figure_id, \"_sha256sums.txt\"), header = FALSE, col.names = c(\"sha256sum\", \"file\"))"
   ]
  },
  {
   "cell_type": "markdown",
   "metadata": {},
   "source": [
    "### 2. Libraries metadata"
   ]
  },
  {
   "cell_type": "code",
   "execution_count": 59,
   "metadata": {},
   "outputs": [
    {
     "name": "stderr",
     "output_type": "stream",
     "text": [
      "Saving `devtools::session_info()` objects in ../metadata/devtools_session_info.rds  ..\n",
      "\n",
      "Done!\n",
      "\n",
      "\n",
      "Saving `utils::sessionInfo()` objects in ../metadata/utils_session_info.rds  ..\n",
      "\n",
      "Done!\n",
      "\n",
      "\n"
     ]
    },
    {
     "data": {
      "text/plain": [
       " setting  value                       \n",
       " version  R version 3.6.1 (2019-07-05)\n",
       " os       Ubuntu 18.04.3 LTS          \n",
       " system   x86_64, linux-gnu           \n",
       " ui       X11                         \n",
       " language en_US.UTF-8                 \n",
       " collate  en_US.UTF-8                 \n",
       " ctype    en_US.UTF-8                 \n",
       " tz       Etc/UTC                     \n",
       " date     2020-07-08                  "
      ]
     },
     "metadata": {},
     "output_type": "display_data"
    },
    {
     "data": {
      "text/html": [
       "<table>\n",
       "<caption>A packages_info: 11 × 11</caption>\n",
       "<thead>\n",
       "\t<tr><th></th><th scope=col>package</th><th scope=col>ondiskversion</th><th scope=col>loadedversion</th><th scope=col>path</th><th scope=col>loadedpath</th><th scope=col>attached</th><th scope=col>is_base</th><th scope=col>date</th><th scope=col>source</th><th scope=col>md5ok</th><th scope=col>library</th></tr>\n",
       "\t<tr><th></th><th scope=col>&lt;chr&gt;</th><th scope=col>&lt;chr&gt;</th><th scope=col>&lt;chr&gt;</th><th scope=col>&lt;chr&gt;</th><th scope=col>&lt;chr&gt;</th><th scope=col>&lt;lgl&gt;</th><th scope=col>&lt;lgl&gt;</th><th scope=col>&lt;chr&gt;</th><th scope=col>&lt;chr&gt;</th><th scope=col>&lt;lgl&gt;</th><th scope=col>&lt;fct&gt;</th></tr>\n",
       "</thead>\n",
       "<tbody>\n",
       "\t<tr><th scope=row>coda</th><td>coda       </td><td>0.19.3  </td><td>0.19-3  </td><td>/opt/conda/lib/R/library/coda       </td><td>/opt/conda/lib/R/library/coda       </td><td>TRUE</td><td>FALSE</td><td>2019-07-05</td><td>CRAN (R 3.6.3)</td><td>NA</td><td>/opt/conda/lib/R/library</td></tr>\n",
       "\t<tr><th scope=row>compute.es</th><td>compute.es </td><td>0.2.5   </td><td>0.2-5   </td><td>/opt/conda/lib/R/library/compute.es </td><td>/opt/conda/lib/R/library/compute.es </td><td>TRUE</td><td>FALSE</td><td>2020-04-01</td><td>CRAN (R 3.6.3)</td><td>NA</td><td>/opt/conda/lib/R/library</td></tr>\n",
       "\t<tr><th scope=row>ggplot2</th><td>ggplot2    </td><td>3.3.2   </td><td>3.3.2   </td><td>/opt/conda/lib/R/library/ggplot2    </td><td>/opt/conda/lib/R/library/ggplot2    </td><td>TRUE</td><td>FALSE</td><td>2020-06-19</td><td>CRAN (R 3.6.3)</td><td>NA</td><td>/opt/conda/lib/R/library</td></tr>\n",
       "\t<tr><th scope=row>ggsci</th><td>ggsci      </td><td>2.9     </td><td>2.9     </td><td>/opt/conda/lib/R/library/ggsci      </td><td>/opt/conda/lib/R/library/ggsci      </td><td>TRUE</td><td>FALSE</td><td>2018-05-14</td><td>CRAN (R 3.6.3)</td><td>NA</td><td>/opt/conda/lib/R/library</td></tr>\n",
       "\t<tr><th scope=row>gridExtra</th><td>gridExtra  </td><td>2.3     </td><td>2.3     </td><td>/opt/conda/lib/R/library/gridExtra  </td><td>/opt/conda/lib/R/library/gridExtra  </td><td>TRUE</td><td>FALSE</td><td>2017-09-09</td><td>CRAN (R 3.6.3)</td><td>NA</td><td>/opt/conda/lib/R/library</td></tr>\n",
       "\t<tr><th scope=row>rjags</th><td>rjags      </td><td>4.10    </td><td>4-10    </td><td>/opt/conda/lib/R/library/rjags      </td><td>/opt/conda/lib/R/library/rjags      </td><td>TRUE</td><td>FALSE</td><td>2019-11-06</td><td>CRAN (R 3.6.3)</td><td>NA</td><td>/opt/conda/lib/R/library</td></tr>\n",
       "\t<tr><th scope=row>rstan</th><td>rstan      </td><td>2.19.3  </td><td>2.19.3  </td><td>/opt/conda/lib/R/library/rstan      </td><td>/opt/conda/lib/R/library/rstan      </td><td>TRUE</td><td>FALSE</td><td>2020-02-11</td><td>CRAN (R 3.6.3)</td><td>NA</td><td>/opt/conda/lib/R/library</td></tr>\n",
       "\t<tr><th scope=row>runjags</th><td>runjags    </td><td>2.0.4.6 </td><td>2.0.4-6 </td><td>/opt/conda/lib/R/library/runjags    </td><td>/opt/conda/lib/R/library/runjags    </td><td>TRUE</td><td>FALSE</td><td>2019-12-17</td><td>CRAN (R 3.6.1)</td><td>NA</td><td>/opt/conda/lib/R/library</td></tr>\n",
       "\t<tr><th scope=row>snakecase</th><td>snakecase  </td><td>0.11.0  </td><td>0.11.0  </td><td>/opt/conda/lib/R/library/snakecase  </td><td>/opt/conda/lib/R/library/snakecase  </td><td>TRUE</td><td>FALSE</td><td>2019-05-25</td><td>CRAN (R 3.6.3)</td><td>NA</td><td>/opt/conda/lib/R/library</td></tr>\n",
       "\t<tr><th scope=row>StanHeaders</th><td>StanHeaders</td><td>2.21.0.5</td><td>2.21.0-5</td><td>/opt/conda/lib/R/library/StanHeaders</td><td>/opt/conda/lib/R/library/StanHeaders</td><td>TRUE</td><td>FALSE</td><td>2020-06-09</td><td>CRAN (R 3.6.3)</td><td>NA</td><td>/opt/conda/lib/R/library</td></tr>\n",
       "\t<tr><th scope=row>stringr</th><td>stringr    </td><td>1.4.0   </td><td>1.4.0   </td><td>/opt/conda/lib/R/library/stringr    </td><td>/opt/conda/lib/R/library/stringr    </td><td>TRUE</td><td>FALSE</td><td>2019-02-10</td><td>CRAN (R 3.6.3)</td><td>NA</td><td>/opt/conda/lib/R/library</td></tr>\n",
       "</tbody>\n",
       "</table>\n"
      ],
      "text/latex": [
       "A packages\\_info: 11 × 11\n",
       "\\begin{tabular}{r|lllllllllll}\n",
       "  & package & ondiskversion & loadedversion & path & loadedpath & attached & is\\_base & date & source & md5ok & library\\\\\n",
       "  & <chr> & <chr> & <chr> & <chr> & <chr> & <lgl> & <lgl> & <chr> & <chr> & <lgl> & <fct>\\\\\n",
       "\\hline\n",
       "\tcoda & coda        & 0.19.3   & 0.19-3   & /opt/conda/lib/R/library/coda        & /opt/conda/lib/R/library/coda        & TRUE & FALSE & 2019-07-05 & CRAN (R 3.6.3) & NA & /opt/conda/lib/R/library\\\\\n",
       "\tcompute.es & compute.es  & 0.2.5    & 0.2-5    & /opt/conda/lib/R/library/compute.es  & /opt/conda/lib/R/library/compute.es  & TRUE & FALSE & 2020-04-01 & CRAN (R 3.6.3) & NA & /opt/conda/lib/R/library\\\\\n",
       "\tggplot2 & ggplot2     & 3.3.2    & 3.3.2    & /opt/conda/lib/R/library/ggplot2     & /opt/conda/lib/R/library/ggplot2     & TRUE & FALSE & 2020-06-19 & CRAN (R 3.6.3) & NA & /opt/conda/lib/R/library\\\\\n",
       "\tggsci & ggsci       & 2.9      & 2.9      & /opt/conda/lib/R/library/ggsci       & /opt/conda/lib/R/library/ggsci       & TRUE & FALSE & 2018-05-14 & CRAN (R 3.6.3) & NA & /opt/conda/lib/R/library\\\\\n",
       "\tgridExtra & gridExtra   & 2.3      & 2.3      & /opt/conda/lib/R/library/gridExtra   & /opt/conda/lib/R/library/gridExtra   & TRUE & FALSE & 2017-09-09 & CRAN (R 3.6.3) & NA & /opt/conda/lib/R/library\\\\\n",
       "\trjags & rjags       & 4.10     & 4-10     & /opt/conda/lib/R/library/rjags       & /opt/conda/lib/R/library/rjags       & TRUE & FALSE & 2019-11-06 & CRAN (R 3.6.3) & NA & /opt/conda/lib/R/library\\\\\n",
       "\trstan & rstan       & 2.19.3   & 2.19.3   & /opt/conda/lib/R/library/rstan       & /opt/conda/lib/R/library/rstan       & TRUE & FALSE & 2020-02-11 & CRAN (R 3.6.3) & NA & /opt/conda/lib/R/library\\\\\n",
       "\trunjags & runjags     & 2.0.4.6  & 2.0.4-6  & /opt/conda/lib/R/library/runjags     & /opt/conda/lib/R/library/runjags     & TRUE & FALSE & 2019-12-17 & CRAN (R 3.6.1) & NA & /opt/conda/lib/R/library\\\\\n",
       "\tsnakecase & snakecase   & 0.11.0   & 0.11.0   & /opt/conda/lib/R/library/snakecase   & /opt/conda/lib/R/library/snakecase   & TRUE & FALSE & 2019-05-25 & CRAN (R 3.6.3) & NA & /opt/conda/lib/R/library\\\\\n",
       "\tStanHeaders & StanHeaders & 2.21.0.5 & 2.21.0-5 & /opt/conda/lib/R/library/StanHeaders & /opt/conda/lib/R/library/StanHeaders & TRUE & FALSE & 2020-06-09 & CRAN (R 3.6.3) & NA & /opt/conda/lib/R/library\\\\\n",
       "\tstringr & stringr     & 1.4.0    & 1.4.0    & /opt/conda/lib/R/library/stringr     & /opt/conda/lib/R/library/stringr     & TRUE & FALSE & 2019-02-10 & CRAN (R 3.6.3) & NA & /opt/conda/lib/R/library\\\\\n",
       "\\end{tabular}\n"
      ],
      "text/markdown": [
       "\n",
       "A packages_info: 11 × 11\n",
       "\n",
       "| <!--/--> | package &lt;chr&gt; | ondiskversion &lt;chr&gt; | loadedversion &lt;chr&gt; | path &lt;chr&gt; | loadedpath &lt;chr&gt; | attached &lt;lgl&gt; | is_base &lt;lgl&gt; | date &lt;chr&gt; | source &lt;chr&gt; | md5ok &lt;lgl&gt; | library &lt;fct&gt; |\n",
       "|---|---|---|---|---|---|---|---|---|---|---|---|\n",
       "| coda | coda        | 0.19.3   | 0.19-3   | /opt/conda/lib/R/library/coda        | /opt/conda/lib/R/library/coda        | TRUE | FALSE | 2019-07-05 | CRAN (R 3.6.3) | NA | /opt/conda/lib/R/library |\n",
       "| compute.es | compute.es  | 0.2.5    | 0.2-5    | /opt/conda/lib/R/library/compute.es  | /opt/conda/lib/R/library/compute.es  | TRUE | FALSE | 2020-04-01 | CRAN (R 3.6.3) | NA | /opt/conda/lib/R/library |\n",
       "| ggplot2 | ggplot2     | 3.3.2    | 3.3.2    | /opt/conda/lib/R/library/ggplot2     | /opt/conda/lib/R/library/ggplot2     | TRUE | FALSE | 2020-06-19 | CRAN (R 3.6.3) | NA | /opt/conda/lib/R/library |\n",
       "| ggsci | ggsci       | 2.9      | 2.9      | /opt/conda/lib/R/library/ggsci       | /opt/conda/lib/R/library/ggsci       | TRUE | FALSE | 2018-05-14 | CRAN (R 3.6.3) | NA | /opt/conda/lib/R/library |\n",
       "| gridExtra | gridExtra   | 2.3      | 2.3      | /opt/conda/lib/R/library/gridExtra   | /opt/conda/lib/R/library/gridExtra   | TRUE | FALSE | 2017-09-09 | CRAN (R 3.6.3) | NA | /opt/conda/lib/R/library |\n",
       "| rjags | rjags       | 4.10     | 4-10     | /opt/conda/lib/R/library/rjags       | /opt/conda/lib/R/library/rjags       | TRUE | FALSE | 2019-11-06 | CRAN (R 3.6.3) | NA | /opt/conda/lib/R/library |\n",
       "| rstan | rstan       | 2.19.3   | 2.19.3   | /opt/conda/lib/R/library/rstan       | /opt/conda/lib/R/library/rstan       | TRUE | FALSE | 2020-02-11 | CRAN (R 3.6.3) | NA | /opt/conda/lib/R/library |\n",
       "| runjags | runjags     | 2.0.4.6  | 2.0.4-6  | /opt/conda/lib/R/library/runjags     | /opt/conda/lib/R/library/runjags     | TRUE | FALSE | 2019-12-17 | CRAN (R 3.6.1) | NA | /opt/conda/lib/R/library |\n",
       "| snakecase | snakecase   | 0.11.0   | 0.11.0   | /opt/conda/lib/R/library/snakecase   | /opt/conda/lib/R/library/snakecase   | TRUE | FALSE | 2019-05-25 | CRAN (R 3.6.3) | NA | /opt/conda/lib/R/library |\n",
       "| StanHeaders | StanHeaders | 2.21.0.5 | 2.21.0-5 | /opt/conda/lib/R/library/StanHeaders | /opt/conda/lib/R/library/StanHeaders | TRUE | FALSE | 2020-06-09 | CRAN (R 3.6.3) | NA | /opt/conda/lib/R/library |\n",
       "| stringr | stringr     | 1.4.0    | 1.4.0    | /opt/conda/lib/R/library/stringr     | /opt/conda/lib/R/library/stringr     | TRUE | FALSE | 2019-02-10 | CRAN (R 3.6.3) | NA | /opt/conda/lib/R/library |\n",
       "\n"
      ],
      "text/plain": [
       "            package     ondiskversion loadedversion\n",
       "coda        coda        0.19.3        0.19-3       \n",
       "compute.es  compute.es  0.2.5         0.2-5        \n",
       "ggplot2     ggplot2     3.3.2         3.3.2        \n",
       "ggsci       ggsci       2.9           2.9          \n",
       "gridExtra   gridExtra   2.3           2.3          \n",
       "rjags       rjags       4.10          4-10         \n",
       "rstan       rstan       2.19.3        2.19.3       \n",
       "runjags     runjags     2.0.4.6       2.0.4-6      \n",
       "snakecase   snakecase   0.11.0        0.11.0       \n",
       "StanHeaders StanHeaders 2.21.0.5      2.21.0-5     \n",
       "stringr     stringr     1.4.0         1.4.0        \n",
       "            path                                \n",
       "coda        /opt/conda/lib/R/library/coda       \n",
       "compute.es  /opt/conda/lib/R/library/compute.es \n",
       "ggplot2     /opt/conda/lib/R/library/ggplot2    \n",
       "ggsci       /opt/conda/lib/R/library/ggsci      \n",
       "gridExtra   /opt/conda/lib/R/library/gridExtra  \n",
       "rjags       /opt/conda/lib/R/library/rjags      \n",
       "rstan       /opt/conda/lib/R/library/rstan      \n",
       "runjags     /opt/conda/lib/R/library/runjags    \n",
       "snakecase   /opt/conda/lib/R/library/snakecase  \n",
       "StanHeaders /opt/conda/lib/R/library/StanHeaders\n",
       "stringr     /opt/conda/lib/R/library/stringr    \n",
       "            loadedpath                           attached is_base date      \n",
       "coda        /opt/conda/lib/R/library/coda        TRUE     FALSE   2019-07-05\n",
       "compute.es  /opt/conda/lib/R/library/compute.es  TRUE     FALSE   2020-04-01\n",
       "ggplot2     /opt/conda/lib/R/library/ggplot2     TRUE     FALSE   2020-06-19\n",
       "ggsci       /opt/conda/lib/R/library/ggsci       TRUE     FALSE   2018-05-14\n",
       "gridExtra   /opt/conda/lib/R/library/gridExtra   TRUE     FALSE   2017-09-09\n",
       "rjags       /opt/conda/lib/R/library/rjags       TRUE     FALSE   2019-11-06\n",
       "rstan       /opt/conda/lib/R/library/rstan       TRUE     FALSE   2020-02-11\n",
       "runjags     /opt/conda/lib/R/library/runjags     TRUE     FALSE   2019-12-17\n",
       "snakecase   /opt/conda/lib/R/library/snakecase   TRUE     FALSE   2019-05-25\n",
       "StanHeaders /opt/conda/lib/R/library/StanHeaders TRUE     FALSE   2020-06-09\n",
       "stringr     /opt/conda/lib/R/library/stringr     TRUE     FALSE   2019-02-10\n",
       "            source         md5ok library                 \n",
       "coda        CRAN (R 3.6.3) NA    /opt/conda/lib/R/library\n",
       "compute.es  CRAN (R 3.6.3) NA    /opt/conda/lib/R/library\n",
       "ggplot2     CRAN (R 3.6.3) NA    /opt/conda/lib/R/library\n",
       "ggsci       CRAN (R 3.6.3) NA    /opt/conda/lib/R/library\n",
       "gridExtra   CRAN (R 3.6.3) NA    /opt/conda/lib/R/library\n",
       "rjags       CRAN (R 3.6.3) NA    /opt/conda/lib/R/library\n",
       "rstan       CRAN (R 3.6.3) NA    /opt/conda/lib/R/library\n",
       "runjags     CRAN (R 3.6.1) NA    /opt/conda/lib/R/library\n",
       "snakecase   CRAN (R 3.6.3) NA    /opt/conda/lib/R/library\n",
       "StanHeaders CRAN (R 3.6.3) NA    /opt/conda/lib/R/library\n",
       "stringr     CRAN (R 3.6.3) NA    /opt/conda/lib/R/library"
      ]
     },
     "metadata": {},
     "output_type": "display_data"
    }
   ],
   "source": [
    "dev_session_info   <- devtools::session_info()\n",
    "utils_session_info <- utils::sessionInfo()\n",
    "\n",
    "message(\"Saving `devtools::session_info()` objects in ../metadata/devtools_session_info.rds  ..\")\n",
    "saveRDS(dev_session_info, file = paste0(\"../metadata/\", figure_id, \"_devtools_session_info.rds\"))\n",
    "message(\"Done!\\n\")\n",
    "\n",
    "message(\"Saving `utils::sessionInfo()` objects in ../metadata/utils_session_info.rds  ..\")\n",
    "saveRDS(utils_session_info, file = paste0(\"../metadata/\", figure_id ,\"_utils_info.rds\"))\n",
    "message(\"Done!\\n\")\n",
    "\n",
    "dev_session_info$platform\n",
    "dev_session_info$packages[dev_session_info$packages$attached==TRUE, ]"
   ]
  }
 ],
 "metadata": {
  "kernelspec": {
   "display_name": "R",
   "language": "R",
   "name": "ir"
  },
  "language_info": {
   "codemirror_mode": "r",
   "file_extension": ".r",
   "mimetype": "text/x-r-source",
   "name": "R",
   "pygments_lexer": "r",
   "version": "3.6.1"
  }
 },
 "nbformat": 4,
 "nbformat_minor": 4
}
